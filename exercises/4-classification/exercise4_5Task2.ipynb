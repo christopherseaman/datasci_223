{
  "cells": [
    {
      "cell_type": "markdown",
      "metadata": {
        "id": "view-in-github",
        "colab_type": "text"
      },
      "source": [
        "<a href=\"https://colab.research.google.com/github/kiar24/datasci_223/blob/main/exercises/4-classification/exercise4_5Task2.ipynb\" target=\"_parent\"><img src=\"https://colab.research.google.com/assets/colab-badge.svg\" alt=\"Open In Colab\"/></a>"
      ]
    },
    {
      "cell_type": "markdown",
      "metadata": {
        "id": "whtt5W1_6Vwb"
      },
      "source": [
        "# Classification on `emnist`\n",
        "\n",
        "## 1. Create `Readme.md` to document your work\n",
        "\n",
        "Explain your choices, process, and outcomes.\n",
        "\n",
        "## 2. Classify ~~all symbols~~ letters a -> g\n",
        "\n",
        "### Subset the data\n",
        "\n",
        "Select only the lowercase letters (a, b, ..., g) for classification\n",
        "\n",
        "### Choose a model\n",
        "\n",
        "Your choice of model! Choose wisely...\n",
        "\n",
        "### Train away!\n",
        "\n",
        "Is do you need to tune any parameters? Is the model expecting data in a different format?\n",
        "\n",
        "### Evaluate the model\n",
        "\n",
        "Evaluate the models on the test set, analyze the confusion matrix to see where the model performs well and where it struggles.\n",
        "\n",
        "### Investigate subsets\n",
        "\n",
        "On which classes does the model perform well? Poorly? Evaluate again, excluding easily confused symbols (such as 'O' and '0').\n",
        "\n",
        "### Improve performance\n",
        "\n",
        "Brainstorm for improving the performance. This could include trying different architectures, adding more layers, changing the loss function, or using data augmentation techniques.\n",
        "\n",
        "## 3. Model showdown: upper vs lowercase on abcXYZ\n",
        "\n",
        "### Subset the data\n",
        "\n",
        "Select out the set of upper- and lowercase (a, b, c, x, y z, A, B, C, X, Y, Z). Note that some of these classes can be confusing (e.g., x and y).\n",
        "\n",
        "### Train and tune models\n",
        "\n",
        "Perform a full model training and hyperparameter tuning.\n",
        "\n",
        "1. Select candidate models, hyperparameter options, and evaluation metric\n",
        "2. Set aside a validation hold-out dataset\n",
        "3. Train models over K splits (use k-fold or train/test split)\n",
        "    1. Split train using k-fold with the number of folds equal to the number of parameter combinations\n",
        "    2. Train on k-fold split\n",
        "    3. Record performance of each set of parameters\n",
        "    4. Use winning set of parameters to train model on full training set\n",
        "    5. Record each model's performance on that split's test set\n",
        "4. Evaluate model performance and promote one model as the winner\n",
        "5. Train winning model on both train + test\n",
        "6. Check model performance on the validation hold-out\n",
        "\n",
        "\n",
        "## 4. (_Optional_) Model comparison: classify even vs odd\n",
        "\n",
        "**NOTE:** This is a larger dataset (~400k rows) so it will require more memory and time to train models on it.\n",
        "\n",
        "Alternatively, you can train models on smaller subsets of the data to get a feel for which models perform better than others. Then train the winning model on the full dataset and validate against the hold-out.\n",
        "\n",
        "### Subset the data\n",
        "\n",
        "Select only digits and add a column for 'is_even'. Be sure to create a validation hold-out dataset for later.\n",
        "\n",
        "### Build and compare models\n",
        "\n",
        "Train at least two different models, compare the results and choose a winner based on an evaluation metric of your choice."
      ]
    },
    {
      "cell_type": "code",
      "execution_count": null,
      "metadata": {
        "id": "1UosbubL6Vwe"
      },
      "outputs": [],
      "source": [
        "%pip install -q emnist pandas pyarrow numpy matplotlib seaborn scikit-learn xgboost tensorflow\n",
        "%reset -f"
      ]
    },
    {
      "cell_type": "code",
      "execution_count": null,
      "metadata": {
        "id": "m7MzluaE6Vwg"
      },
      "outputs": [],
      "source": [
        "# Import packages\n",
        "import os\n",
        "import string\n",
        "import random\n",
        "import numpy as np\n",
        "import pandas as pd\n",
        "import matplotlib.pyplot as plt\n",
        "import seaborn as sns\n",
        "import emnist\n",
        "from IPython.display import display, Markdown\n",
        "\n",
        "# ML packages\n",
        "#Classification packages\n",
        "from sklearn.model_selection import train_test_split, cross_val_score, GridSearchCV, StratifiedKFold, ParameterGrid, KFold\n",
        "# Random Forest\n",
        "from sklearn.ensemble import RandomForestClassifier\n",
        "from sklearn.metrics import confusion_matrix, accuracy_score, precision_score, recall_score, f1_score, classification_report\n",
        "# Logistic Regression\n",
        "from sklearn.linear_model import LogisticRegression\n",
        "from sklearn.preprocessing import StandardScaler\n",
        "# XGBoost (SVM)\n",
        "from xgboost import XGBClassifier\n",
        "# Deep Learning\n",
        "import tensorflow as tf\n",
        "from tensorflow import keras\n",
        "from tensorflow.keras.models import Sequential\n",
        "from tensorflow.keras.layers import Dense, Flatten\n",
        "\n",
        "# Constants\n",
        "SIZE = 28"
      ]
    },
    {
      "cell_type": "code",
      "execution_count": null,
      "metadata": {
        "id": "IloPR3NM6Vwh"
      },
      "outputs": [],
      "source": [
        "# Define helper functions\n",
        "def int_to_char(label):\n",
        "    \"\"\"Convert an integer label to the corresponding uppercase character.\"\"\"\n",
        "    if label < 10:\n",
        "        return str(label)\n",
        "    elif label < 36:\n",
        "        return chr(label - 10 + ord('A'))\n",
        "    else:\n",
        "        return chr(label - 36 + ord('a'))\n",
        "\n",
        "def show_image(row):\n",
        "    \"\"\"Display a single image and its corresponding label.\"\"\"\n",
        "    image = row['image']\n",
        "    label = row['label']\n",
        "    plt.imshow(image, cmap='gray')\n",
        "    plt.title('Label: ' + int_to_char(label))\n",
        "    plt.axis('off')\n",
        "    plt.show()\n",
        "\n",
        "def show_grid(data, title=None, num_cols=5, figsize=(20, 10)):\n",
        "    \"\"\"\n",
        "    Display a list of images as a grid of num_cols columns.\n",
        "    images: a list of images, each represented as a 28x28 numpy array\n",
        "    labels: a list of labels, one for each image\n",
        "    title: (optional) a title for the plot\n",
        "    num_cols: (optional) number of columns to use in the grid\n",
        "    figsize: (optional) size of the figure\n",
        "    \"\"\"\n",
        "    num_images = len(data)\n",
        "    num_rows = (num_images - 1) // num_cols + 1\n",
        "    fig, axes = plt.subplots(num_rows, num_cols, figsize=figsize)\n",
        "    if title is not None:\n",
        "        fig.suptitle(title, fontsize=16)\n",
        "    for i in range(num_rows):\n",
        "        for j in range(num_cols):\n",
        "            index = i * num_cols + j\n",
        "            if index < num_images:\n",
        "                axes[i, j].imshow(data.iloc[index]['image'], cmap='gray')\n",
        "                axes[i, j].axis('off')\n",
        "                label = int_to_char(data.iloc[index]['label'])\n",
        "                axes[i, j].set_title(label)\n",
        "    plt.show()\n",
        "\n",
        "# Get a random image of a given label from the dataset\n",
        "def get_image_by_label(data, label):\n",
        "    \"\"\"Get a random image of a given label from the dataset.\"\"\"\n",
        "    images = data[data['label'] == label]['image'].tolist()\n",
        "    return random.choice(images)\n",
        "\n",
        "# Plot the training and validation accuracy during the training of a model\n",
        "def plot_accuracy(history):\n",
        "    \"\"\"Plot the training and validation accuracy during the training of a model.\"\"\"\n",
        "    acc = history.history['accuracy']\n",
        "    val_acc = history.history['val_accuracy']\n",
        "    epochs = range(1, len(acc) + 1)\n",
        "    plt.plot(epochs, acc, 'bo', label='Training accuracy')\n",
        "    plt.plot(epochs, val_acc, 'b', label='Validation accuracy')\n",
        "    plt.title('Training and validation accuracy')\n",
        "    plt.xlabel('Epochs')\n",
        "    plt.ylabel('Accuracy')\n",
        "    plt.legend()\n",
        "    plt.show()\n",
        "\n",
        "# Plot the training and validation loss during the training of a model\n",
        "def plot_loss(history):\n",
        "    \"\"\"Plot the training and validation loss during the training of a model.\"\"\"\n",
        "    loss = history.history['loss']\n",
        "    val_loss = history.history['val_loss']\n",
        "    epochs = range(1, len(loss) + 1)\n",
        "    plt.plot(epochs, loss, 'bo', label='Training loss')\n",
        "    plt.plot(epochs, val_loss, 'b', label='Validation loss')\n",
        "    plt.title('Training and validation loss')\n",
        "    plt.xlabel('Epochs')\n",
        "    plt.ylabel('Loss')\n",
        "    plt.legend()\n",
        "    plt.show()\n",
        "\n",
        "# Normalize the pixel values of the images in the dataset to have zero mean and unit variance\n",
        "# This is a common preprocessing step for neural networks, but may not be necessary in all cases\n",
        "def normalize_images(images):\n",
        "    \"\"\"Normalize the pixel values of the images in the dataset to have zero mean and unit variance.\"\"\"\n",
        "    images = np.array(images)\n",
        "    mean = images.mean()\n",
        "    std = images.std()\n",
        "    images = (images - mean) / std\n",
        "    return images.tolist()\n",
        "\n",
        "# Display metrics for a model\n",
        "def display_metrics(task, model_name, metrics_dict):\n",
        "    \"\"\"Display performance metrics and confusion matrix for a model.\"\"\"\n",
        "    metrics_df = pd.DataFrame()\n",
        "    cm_df = pd.DataFrame()\n",
        "    for key, value in metrics_dict[task][model_name].items():\n",
        "        if type(value) == np.ndarray:\n",
        "            cm_df = pd.DataFrame(value, index=['actual 0', 'actual 1'], columns=['predicted 0', 'predicted 1'])\n",
        "        else:\n",
        "            metrics_df[key] = [value]\n",
        "    display(Markdown(f'# Performance Metrics: {model_name}'))\n",
        "    display(metrics_df)\n",
        "    display(Markdown(f'# Confusion Matrix: {model_name}'))\n",
        "    display(cm_df)"
      ]
    },
    {
      "cell_type": "code",
      "execution_count": null,
      "metadata": {
        "id": "sdfjso1V6Vwi",
        "colab": {
          "base_uri": "https://localhost:8080/"
        },
        "outputId": "2fae4ff0-9620-4fda-f855-f3ab8cb8d427"
      },
      "outputs": [
        {
          "output_type": "stream",
          "name": "stderr",
          "text": [
            "Downloading emnist.zip: 536MB [00:07, 77.6MB/s]\n"
          ]
        }
      ],
      "source": [
        "# Load data\n",
        "\n",
        "# Extract the training split as images and labels\n",
        "image, label = emnist.extract_training_samples('byclass')\n",
        "\n",
        "# Add columns for each pixel value (28x28 = 784 columns)\n",
        "emnist_train = pd.DataFrame()\n",
        "\n",
        "# Add a column with the image data as a 28x28 array\n",
        "emnist_train['image'] = list(image)\n",
        "emnist_train['image_flat'] = emnist_train['image'].apply(lambda x: np.array(x).reshape(-1))\n",
        "\n",
        "# Add a column showing the label\n",
        "emnist_train['label'] = label\n",
        "\n",
        "# Convert labels to characters\n",
        "class_label = np.array([int_to_char(l) for l in label])\n",
        "\n",
        "# Add a column with the character corresponding to the label\n",
        "emnist_train['class'] = class_label\n",
        "\n",
        "# Repeat for the test split\n",
        "image, label = emnist.extract_test_samples('byclass')\n",
        "class_label = np.array([int_to_char(l) for l in label])\n",
        "emnist_test = pd.DataFrame()\n",
        "emnist_test['image'] = list(image)\n",
        "emnist_test['image_flat'] = emnist_test['image'].apply(lambda x: np.array(x).reshape(-1))\n",
        "emnist_test['label'] = label\n",
        "emnist_test['class'] = class_label\n",
        "\n",
        "# Combine the training and test splits\n",
        "emnist_all = pd.concat([emnist_train, emnist_test], axis=0)\n",
        "\n",
        "# Subset for only digits 0-9\n",
        "digits = emnist_all[emnist_all['label'] < 10]\n",
        "\n",
        "# Subset for lowercase letters\n",
        "lowercase = emnist_all[(emnist_all['class'] >= 'a') & (emnist_all['class'] <= 'z')]\n",
        "uppercase = emnist_all[(emnist_all['class'] >= 'A') & (emnist_all['class'] <= 'Z')]\n",
        "\n",
        "# Subset for upper- and lowercase letters a, b, c, d, e, f, g\n",
        "a2g = emnist_all[(emnist_all['class'].isin(['a', 'b', 'c', 'd', 'e', 'f', 'g']))]\n",
        "\n",
        "# Subset for upper- and lowercase letters a, b, c, x, y, z\n",
        "abcxyz = emnist_all[(emnist_all['class'].isin(['a', 'b', 'c', 'A', 'B', 'C', \\\n",
        "                                               'x', 'y', 'z', 'X', 'Y', 'Z']))]"
      ]
    },
    {
      "cell_type": "markdown",
      "source": [
        "#Task 2 Starts here: Subset, Cleaning, and Choosing a Model"
      ],
      "metadata": {
        "id": "CL0dnIlqAPaF"
      }
    },
    {
      "cell_type": "markdown",
      "source": [
        "##Subset (It's already subset as lowercase a-g in provided code a2g above)"
      ],
      "metadata": {
        "id": "9YoPcfCL6_DM"
      }
    },
    {
      "cell_type": "code",
      "execution_count": null,
      "metadata": {
        "id": "gvfEZAKp6Vwi",
        "colab": {
          "base_uri": "https://localhost:8080/"
        },
        "outputId": "bda20dfd-1ff9-46ac-9421-75d5e2474d5d"
      },
      "outputs": [
        {
          "output_type": "stream",
          "name": "stdout",
          "text": [
            "                                                    image  \\\n",
            "1       [[0, 0, 0, 0, 0, 0, 0, 0, 0, 0, 0, 0, 0, 0, 0,...   \n",
            "5       [[0, 0, 0, 0, 0, 0, 0, 0, 0, 0, 0, 0, 0, 0, 0,...   \n",
            "13      [[0, 0, 0, 0, 0, 0, 0, 0, 0, 0, 0, 0, 0, 0, 0,...   \n",
            "24      [[0, 0, 0, 0, 0, 0, 0, 0, 0, 0, 0, 0, 0, 0, 0,...   \n",
            "33      [[0, 0, 0, 0, 0, 0, 0, 0, 0, 0, 0, 0, 0, 0, 0,...   \n",
            "...                                                   ...   \n",
            "116290  [[0, 0, 0, 0, 0, 0, 0, 0, 0, 0, 0, 0, 0, 0, 0,...   \n",
            "116300  [[0, 0, 0, 0, 0, 0, 0, 0, 0, 0, 0, 0, 0, 0, 0,...   \n",
            "116301  [[0, 0, 0, 0, 0, 0, 0, 0, 0, 0, 0, 0, 0, 0, 0,...   \n",
            "116311  [[0, 0, 0, 0, 0, 0, 0, 0, 0, 0, 0, 0, 0, 0, 0,...   \n",
            "116315  [[0, 0, 0, 0, 0, 0, 0, 0, 0, 0, 0, 0, 0, 0, 0,...   \n",
            "\n",
            "                                               image_flat  label class  \n",
            "1       [0, 0, 0, 0, 0, 0, 0, 0, 0, 0, 0, 0, 0, 0, 0, ...     36     a  \n",
            "5       [0, 0, 0, 0, 0, 0, 0, 0, 0, 0, 0, 0, 0, 0, 0, ...     38     c  \n",
            "13      [0, 0, 0, 0, 0, 0, 0, 0, 0, 0, 0, 0, 0, 0, 0, ...     40     e  \n",
            "24      [0, 0, 0, 0, 0, 0, 0, 0, 0, 0, 0, 0, 0, 0, 0, ...     40     e  \n",
            "33      [0, 0, 0, 0, 0, 0, 0, 0, 0, 0, 0, 0, 0, 0, 0, ...     40     e  \n",
            "...                                                   ...    ...   ...  \n",
            "116290  [0, 0, 0, 0, 0, 0, 0, 0, 0, 0, 0, 0, 0, 0, 0, ...     38     c  \n",
            "116300  [0, 0, 0, 0, 0, 0, 0, 0, 0, 0, 0, 0, 0, 0, 0, ...     40     e  \n",
            "116301  [0, 0, 0, 0, 0, 0, 0, 0, 0, 0, 0, 0, 0, 0, 0, ...     40     e  \n",
            "116311  [0, 0, 0, 0, 0, 0, 0, 0, 0, 0, 0, 0, 0, 0, 0, ...     40     e  \n",
            "116315  [0, 0, 0, 0, 0, 0, 0, 0, 0, 0, 0, 0, 0, 0, 0, ...     40     e  \n",
            "\n",
            "[68795 rows x 4 columns]\n"
          ]
        },
        {
          "output_type": "stream",
          "name": "stderr",
          "text": [
            "<ipython-input-7-a1a8d8a1dcc9>:10: SettingWithCopyWarning: \n",
            "A value is trying to be set on a copy of a slice from a DataFrame.\n",
            "Try using .loc[row_indexer,col_indexer] = value instead\n",
            "\n",
            "See the caveats in the documentation: https://pandas.pydata.org/pandas-docs/stable/user_guide/indexing.html#returning-a-view-versus-a-copy\n",
            "  digits['is_even'] = ...\n"
          ]
        }
      ],
      "source": [
        "# FIXME: Classify lettters as uppercase/lowercase\n",
        "#a2g is already just lower case a-g\n",
        "a2g = emnist_all[(emnist_all['class'].isin(['a', 'b', 'c', 'd', 'e', 'f', 'g']))]\n",
        "print(a2g)\n",
        "\n",
        "#mask_true_values = (a2g[a2g['label'] == 43])\n",
        "#print(mask_true_values)\n",
        "\n",
        "# FIXME: Classify digits as even/odd\n",
        "digits['is_even'] = ..."
      ]
    },
    {
      "cell_type": "markdown",
      "source": [
        "##Model Choosing and Training"
      ],
      "metadata": {
        "id": "hL0wx0XeDuMv"
      }
    },
    {
      "cell_type": "code",
      "source": [
        "#a2g is the subset data\n",
        "#now let's pick a model\n",
        "#Subset further so it's small enough to not take an hour\n",
        "#full data - 60,000 rows takes forever to run (45 min. and still running). This is cut down to 20,000 just for speed to run for submission, but we did try with 60,000 as well.\n",
        "\n",
        "#This was tested and took 10 minutes\n",
        "a2gsmall = a2g.iloc[:6000,:]\n",
        "\n",
        "#This took 20-30 minutes\n",
        "a2gagain = a2g.iloc[:20000,:]\n",
        "\n",
        "# 1. Select candidate models, hyperparameter options, and evaluation metric\n",
        "#rf_param_grid = {'n_estimators': [50, 100, 150], 'max_depth': [None, 10, 20]}\n",
        "#xgb_param_grid = {'n_estimators': [50, 100, 150], 'max_depth': [3, 5, 7], 'learning_rate': [0.01, 0.1, 0.2]}\n",
        "\n",
        "scoring_metric = 'accuracy'\n",
        "# Data splitting\n",
        "X=a2gagain['image_flat'].tolist()\n",
        "y=a2gagain['class'].tolist()\n",
        "\n",
        "# If it's not liking the given labels in y, try re-encoding them:\n",
        "# label_encoder = LabelEncoder()\n",
        "# y = label_encoder.fit_transform(y)\n",
        "\n",
        "# Split data into train and test\n",
        "X_train, X_test, y_train, y_test = train_test_split(X, y, test_size=0.2, random_state=41)\n",
        "\n",
        "# Define how many folds you want to split on\n",
        "#kf = KFold(n_splits=5, shuffle=True, random_state=42)\n",
        "\n",
        "# Define the parameter grid\n",
        "param_grid = {\n",
        "    'n_estimators': [50, 100, 200],\n",
        "    'max_depth': [5, 10, 20],\n",
        "    'min_samples_split': [2, 5, 10]\n",
        "}\n",
        "\n",
        "# Instantiate the Random Forest classifier\n",
        "rf = RandomForestClassifier()\n",
        "\n",
        "# Perform grid search\n",
        "grid_search = GridSearchCV(estimator=rf, param_grid=param_grid, cv=5, scoring='accuracy', n_jobs=-1)\n",
        "grid_search.fit(X, y)\n",
        "\n",
        "# Print the best parameters and best score\n",
        "print(\"Best Parameters:\", grid_search.best_params_)\n",
        "print(\"Best Score:\", grid_search.best_score_)\n",
        "\n",
        "\n"
      ],
      "metadata": {
        "id": "yz3JQJ5fBRlu",
        "colab": {
          "base_uri": "https://localhost:8080/"
        },
        "outputId": "9531506a-581d-4d0e-ff49-56829cf00f26"
      },
      "execution_count": null,
      "outputs": [
        {
          "output_type": "stream",
          "name": "stdout",
          "text": [
            "Best Parameters: {'max_depth': 20, 'min_samples_split': 2, 'n_estimators': 200}\n",
            "Best Score: 0.94955\n"
          ]
        }
      ]
    },
    {
      "cell_type": "markdown",
      "source": [
        "##Testing and Confusion Matrix"
      ],
      "metadata": {
        "id": "Q7K0pgSd_Sc0"
      }
    },
    {
      "cell_type": "code",
      "source": [
        "# Get the best model from hyperparameter tuning - adapted from lecture\n",
        "best_model = grid_search.best_estimator_\n",
        "\n",
        "# Make predictions on the test set\n",
        "y_pred = best_model.predict(X_test)\n",
        "\n",
        "confusion_labels = ['a', 'b', 'c', 'd', 'e', 'f', 'g']\n",
        "\n",
        "\n",
        "# Evaluate the model using F1 score and confusion matrix\n",
        "f1 = f1_score(y_test, y_pred, average=None)\n",
        "conf_matrix = confusion_matrix(y_test, y_pred,labels=confusion_labels) # same as accuracy here for multiclass regression\n",
        "\n",
        "\n",
        "\n",
        "\n",
        "ax= plt.subplot()\n",
        "sns.heatmap(conf_matrix, annot=True, fmt='g', ax=ax);  #annot=True to annotate cells, ftm='g' to disable scientific notation\n",
        "\n",
        "#labels, title and ticks - using heat map from seaborn (https://stackoverflow.com/questions/19233771/sklearn-plot-confusion-matrix-with-labels)\n",
        "ax.set_xlabel('Predicted labels');ax.set_ylabel('True labels');\n",
        "ax.set_title('Confusion Matrix');\n",
        "ax.xaxis.set_ticklabels(['a', 'b','c','d','e','f','g']); ax.yaxis.set_ticklabels(['a', 'b','c','d','e','f','g']);\n",
        "\n",
        "\n",
        "# Print the results\n",
        "print(f\"Best Hyperparameters: {grid_search.best_params_}\")\n",
        "#print(f\"F1 Score: {f1:.4f}\")\n",
        "print(\"Classification Report:\")\n",
        "print(classification_report(y_test, y_pred))\n",
        "print(f\"Accuracy is: {accuracy_score(y_test,y_pred)}\")\n",
        "print(\"Confusion Matrix:\")\n",
        "conf_matrix\n"
      ],
      "metadata": {
        "colab": {
          "base_uri": "https://localhost:8080/",
          "height": 906
        },
        "id": "N4h_Q6pt_WdZ",
        "outputId": "02576029-61b9-44fb-82e8-ba8b32eaf2e7"
      },
      "execution_count": null,
      "outputs": [
        {
          "output_type": "stream",
          "name": "stdout",
          "text": [
            "Best Hyperparameters: {'max_depth': 20, 'min_samples_split': 2, 'n_estimators': 200}\n",
            "Classification Report:\n",
            "              precision    recall  f1-score   support\n",
            "\n",
            "           a       1.00      1.00      1.00       693\n",
            "           b       1.00      1.00      1.00       332\n",
            "           c       1.00      0.97      0.99       177\n",
            "           d       1.00      1.00      1.00       684\n",
            "           e       1.00      1.00      1.00      1680\n",
            "           f       1.00      1.00      1.00       175\n",
            "           g       1.00      1.00      1.00       259\n",
            "\n",
            "    accuracy                           1.00      4000\n",
            "   macro avg       1.00      1.00      1.00      4000\n",
            "weighted avg       1.00      1.00      1.00      4000\n",
            "\n",
            "Accuracy is: 0.99825\n",
            "Confusion Matrix:\n"
          ]
        },
        {
          "output_type": "execute_result",
          "data": {
            "text/plain": [
              "array([[ 692,    0,    0,    1,    0,    0,    0],\n",
              "       [   0,  332,    0,    0,    0,    0,    0],\n",
              "       [   0,    0,  172,    0,    5,    0,    0],\n",
              "       [   0,    0,    0,  684,    0,    0,    0],\n",
              "       [   0,    0,    0,    0, 1680,    0,    0],\n",
              "       [   0,    0,    0,    0,    0,  175,    0],\n",
              "       [   0,    0,    0,    0,    1,    0,  258]])"
            ]
          },
          "metadata": {},
          "execution_count": 9
        },
        {
          "output_type": "display_data",
          "data": {
            "text/plain": [
              "<Figure size 640x480 with 2 Axes>"
            ],
            "image/png": "[encoded data removed]"
          },
          "metadata": {}
        }
      ]
    },
    {
      "cell_type": "markdown",
      "source": [
        "##Investigate and Improve"
      ],
      "metadata": {
        "id": "MR_T_x-CKqau"
      }
    },
    {
      "cell_type": "code",
      "source": [
        "#Model performs very well across all labels. Only e occasionally (like 6 times out of thousands) is confused: specifically with a and c but not poorly enough to have to change anything or reevalute.\n",
        "#Keep in mind data was sampled to 20,000 rows out of 68795, so there may be more misclassification present but the model works very well.\n",
        "#Random_state = 42 ended up being very good accuracy.\n",
        "\n",
        "#Can try again with neural network after Week 6 lecture - try adding layers/etc. but for random forest just testing on full 60,000 rows for evaluation (and can change tree depth etc.)\n",
        "\n",
        "\n",
        "#Reevaluating for all 68,795 rows. Adding more data to see if it improves (although already high). Additionally, if there are issues, max depth can be increased to [10,20,30].\n",
        "# 1. Select candidate models, hyperparameter options, and evaluation metric\n",
        "#rf_param_grid = {'n_estimators': [50, 100, 150], 'max_depth': [None, 10, 20]}\n",
        "#xgb_param_grid = {'n_estimators': [50, 100, 150], 'max_depth': [3, 5, 7], 'learning_rate': [0.01, 0.1, 0.2]}\n",
        "\n",
        "scoring_metric = 'accuracy'\n",
        "# Data splitting\n",
        "X1=a2g['image_flat'].tolist()\n",
        "y1=a2g['class'].tolist()\n",
        "\n",
        "# If it's not liking the given labels in y, try re-encoding them:\n",
        "# label_encoder = LabelEncoder()\n",
        "# y = label_encoder.fit_transform(y)\n",
        "\n",
        "# Split data into train and test\n",
        "X1_train, X1_test, y1_train, y1_test = train_test_split(X1, y1, test_size=0.2, random_state=41)\n",
        "\n",
        "# Define how many folds you want to split on\n",
        "#kf = KFold(n_splits=5, shuffle=True, random_state=42)\n",
        "\n",
        "# Define the parameter grid\n",
        "param_grid = {\n",
        "    'n_estimators': [50, 100, 200],\n",
        "    'max_depth': [5, 10, 20],\n",
        "    'min_samples_split': [2, 5, 10]\n",
        "}\n",
        "\n",
        "# Instantiate the Random Forest classifier\n",
        "rf = RandomForestClassifier()\n",
        "\n",
        "# Perform grid search\n",
        "grid_search = GridSearchCV(estimator=rf, param_grid=param_grid, cv=5, scoring='accuracy', n_jobs=-1)\n",
        "grid_search.fit(X1, y1)\n",
        "\n",
        "# Print the best parameters and best score\n",
        "print(\"Best Parameters:\", grid_search.best_params_)\n",
        "print(\"Best Score:\", grid_search.best_score_)"
      ],
      "metadata": {
        "id": "8k5fU0yB--lu",
        "outputId": "29e85d6c-04e8-44b6-8919-46b9f9953296",
        "colab": {
          "base_uri": "https://localhost:8080/"
        }
      },
      "execution_count": null,
      "outputs": [
        {
          "output_type": "stream",
          "name": "stdout",
          "text": [
            "Best Parameters: {'max_depth': 20, 'min_samples_split': 2, 'n_estimators': 200}\n",
            "Best Score: 0.9611599680209318\n"
          ]
        }
      ]
    },
    {
      "cell_type": "code",
      "execution_count": null,
      "metadata": {
        "id": "vwT8T65d6Vwi",
        "outputId": "06d55084-0277-48c2-d763-80d0b07de6b3",
        "colab": {
          "base_uri": "https://localhost:8080/",
          "height": 170
        }
      },
      "outputs": [
        {
          "output_type": "display_data",
          "data": {
            "text/plain": [
              "<IPython.core.display.Markdown object>"
            ],
            "text/markdown": "# Dataset Sizes"
          },
          "metadata": {}
        },
        {
          "output_type": "display_data",
          "data": {
            "text/plain": [
              "<IPython.core.display.Markdown object>"
            ],
            "text/markdown": "**a2g**: 68795"
          },
          "metadata": {}
        },
        {
          "output_type": "display_data",
          "data": {
            "text/plain": [
              "<IPython.core.display.Markdown object>"
            ],
            "text/markdown": "**abcxyz**: 65926"
          },
          "metadata": {}
        },
        {
          "output_type": "display_data",
          "data": {
            "text/plain": [
              "<IPython.core.display.Markdown object>"
            ],
            "text/markdown": "**digits**: 402953"
          },
          "metadata": {}
        },
        {
          "output_type": "display_data",
          "data": {
            "text/plain": [
              "<IPython.core.display.Markdown object>"
            ],
            "text/markdown": "**emnist_all**: 814255"
          },
          "metadata": {}
        }
      ],
      "source": [
        "# Display the size of a2g, abcxyz, digits, and the full dataset\n",
        "display(Markdown(f'# Dataset Sizes'))\n",
        "display(Markdown(f'**a2g**: {len(a2g)}'))\n",
        "display(Markdown(f'**abcxyz**: {len(abcxyz)}'))\n",
        "display(Markdown(f'**digits**: {len(digits)}'))\n",
        "display(Markdown(f'**emnist_all**: {len(emnist_all)}'))\n",
        "\n",
        "a2g = a2g.iloc[:600,:]\n",
        "#print(a2g)"
      ]
    },
    {
      "cell_type": "code",
      "execution_count": null,
      "metadata": {
        "id": "D_hBti996Vwj"
      },
      "outputs": [],
      "source": []
    },
    {
      "cell_type": "markdown",
      "source": [
        "##Miscellaneous Practice (Task 3 in separate file)"
      ],
      "metadata": {
        "id": "20jlLcAD7UKA"
      }
    },
    {
      "cell_type": "code",
      "source": [
        "# Using the helper functions\n",
        "\n",
        "# Plot a random image from the training set\n",
        "index = np.random.randint(0, len(emnist_train))\n",
        "show_image(emnist_train.iloc[index])\n",
        "\n",
        "# Show a random set of 25 images in a 5x5 grid\n",
        "show_grid(emnist_train.sample(25), title='Random 25 images')\n",
        "\n",
        "# Show the first 25 images in a 5x5 grid\n",
        "# show_grid(train[:25], title='First 25 images')\n",
        "\n",
        "# Isn't it nice to have a helper function to do this for you?"
      ],
      "metadata": {
        "id": "MYaYiD0kSJ3Y",
        "colab": {
          "base_uri": "https://localhost:8080/",
          "height": 992
        },
        "outputId": "c54dc242-b2fe-4662-9069-bf9b2c7c11ba"
      },
      "execution_count": null,
      "outputs": [
        {
          "output_type": "display_data",
          "data": {
            "text/plain": [
              "<Figure size 640x480 with 1 Axes>"
            ],
            "image/png": "[encoded data removed]"
          },
          "metadata": {}
        },
        {
          "output_type": "display_data",
          "data": {
            "text/plain": [
              "<Figure size 2000x1000 with 25 Axes>"
            ],
            "image/png": "[encoded data removed]"
          },
          "metadata": {}
        }
      ]
    }
  ],
  "metadata": {
    "kernelspec": {
      "display_name": "Python 3",
      "name": "python3"
    },
    "language_info": {
      "codemirror_mode": {
        "name": "ipython",
        "version": 3
      },
      "file_extension": ".py",
      "mimetype": "text/x-python",
      "name": "python",
      "nbconvert_exporter": "python",
      "pygments_lexer": "ipython3",
      "version": "3.11.7"
    },
    "colab": {
      "provenance": [],
      "gpuType": "T4",
      "include_colab_link": true
    }
  },
  "nbformat": 4,
  "nbformat_minor": 0
}