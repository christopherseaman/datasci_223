{
  "cells": [
    {
      "cell_type": "markdown",
      "metadata": {
        "id": "view-in-github",
        "colab_type": "text"
      },
      "source": [
        "<a href=\"https://colab.research.google.com/github/kiar24/datasci_223/blob/main/exercises/4-classification/exercise4_5assignmentTask3.ipynb\" target=\"_parent\"><img src=\"https://colab.research.google.com/assets/colab-badge.svg\" alt=\"Open In Colab\"/></a>"
      ]
    },
    {
      "cell_type": "markdown",
      "metadata": {
        "id": "whtt5W1_6Vwb"
      },
      "source": [
        "# Classification on `emnist`\n",
        "\n",
        "## 1. Create `Readme.md` to document your work\n",
        "\n",
        "Explain your choices, process, and outcomes.\n",
        "\n",
        "## 2. Classify ~~all symbols~~ letters a -> g\n",
        "\n",
        "### Subset the data\n",
        "\n",
        "Select only the lowercase letters (a, b, ..., g) for classification\n",
        "\n",
        "### Choose a model\n",
        "\n",
        "Your choice of model! Choose wisely...\n",
        "\n",
        "### Train away!\n",
        "\n",
        "Is do you need to tune any parameters? Is the model expecting data in a different format?\n",
        "\n",
        "### Evaluate the model\n",
        "\n",
        "Evaluate the models on the test set, analyze the confusion matrix to see where the model performs well and where it struggles.\n",
        "\n",
        "### Investigate subsets\n",
        "\n",
        "On which classes does the model perform well? Poorly? Evaluate again, excluding easily confused symbols (such as 'O' and '0').\n",
        "\n",
        "### Improve performance\n",
        "\n",
        "Brainstorm for improving the performance. This could include trying different architectures, adding more layers, changing the loss function, or using data augmentation techniques.\n",
        "\n",
        "## 3. Model showdown: upper vs lowercase on abcXYZ\n",
        "\n",
        "### Subset the data\n",
        "\n",
        "Select out the set of upper- and lowercase (a, b, c, x, y z, A, B, C, X, Y, Z). Note that some of these classes can be confusing (e.g., x and y).\n",
        "\n",
        "### Train and tune models\n",
        "\n",
        "Perform a full model training and hyperparameter tuning.\n",
        "\n",
        "1. Select candidate models, hyperparameter options, and evaluation metric\n",
        "2. Set aside a validation hold-out dataset\n",
        "3. Train models over K splits (use k-fold or train/test split)\n",
        "    1. Split train using k-fold with the number of folds equal to the number of parameter combinations\n",
        "    2. Train on k-fold split\n",
        "    3. Record performance of each set of parameters\n",
        "    4. Use winning set of parameters to train model on full training set\n",
        "    5. Record each model's performance on that split's test set\n",
        "4. Evaluate model performance and promote one model as the winner\n",
        "5. Train winning model on both train + test\n",
        "6. Check model performance on the validation hold-out\n",
        "\n",
        "\n",
        "## 4. (_Optional_) Model comparison: classify even vs odd\n",
        "\n",
        "**NOTE:** This is a larger dataset (~400k rows) so it will require more memory and time to train models on it.\n",
        "\n",
        "Alternatively, you can train models on smaller subsets of the data to get a feel for which models perform better than others. Then train the winning model on the full dataset and validate against the hold-out.\n",
        "\n",
        "### Subset the data\n",
        "\n",
        "Select only digits and add a column for 'is_even'. Be sure to create a validation hold-out dataset for later.\n",
        "\n",
        "### Build and compare models\n",
        "\n",
        "Train at least two different models, compare the results and choose a winner based on an evaluation metric of your choice."
      ]
    },
    {
      "cell_type": "code",
      "execution_count": 2,
      "metadata": {
        "id": "1UosbubL6Vwe"
      },
      "outputs": [],
      "source": [
        "%pip install -q emnist pandas pyarrow numpy matplotlib seaborn scikit-learn xgboost tensorflow\n",
        "%reset -f"
      ]
    },
    {
      "cell_type": "code",
      "execution_count": 3,
      "metadata": {
        "id": "m7MzluaE6Vwg"
      },
      "outputs": [],
      "source": [
        "# Import packages\n",
        "import os\n",
        "import string\n",
        "import random\n",
        "import numpy as np\n",
        "import pandas as pd\n",
        "import matplotlib.pyplot as plt\n",
        "import seaborn as sns\n",
        "import emnist\n",
        "from IPython.display import display, Markdown\n",
        "\n",
        "# ML packages\n",
        "#Classification packages\n",
        "from sklearn.model_selection import train_test_split, cross_val_score, GridSearchCV, StratifiedKFold, ParameterGrid, KFold\n",
        "# Random Forest\n",
        "from sklearn.ensemble import RandomForestClassifier\n",
        "from sklearn.metrics import confusion_matrix, accuracy_score, precision_score, recall_score, f1_score, classification_report\n",
        "# Logistic Regression\n",
        "from sklearn.linear_model import LogisticRegression\n",
        "from sklearn.preprocessing import StandardScaler\n",
        "# XGBoost (SVM)\n",
        "from xgboost import XGBClassifier\n",
        "# Deep Learning\n",
        "import tensorflow as tf\n",
        "from tensorflow import keras\n",
        "from tensorflow.keras.models import Sequential\n",
        "from tensorflow.keras.layers import Dense, Flatten\n",
        "\n",
        "# Constants\n",
        "SIZE = 28"
      ]
    },
    {
      "cell_type": "code",
      "execution_count": 4,
      "metadata": {
        "id": "IloPR3NM6Vwh"
      },
      "outputs": [],
      "source": [
        "# Define helper functions\n",
        "def int_to_char(label):\n",
        "    \"\"\"Convert an integer label to the corresponding uppercase character.\"\"\"\n",
        "    if label < 10:\n",
        "        return str(label)\n",
        "    elif label < 36:\n",
        "        return chr(label - 10 + ord('A'))\n",
        "    else:\n",
        "        return chr(label - 36 + ord('a'))\n",
        "\n",
        "def show_image(row):\n",
        "    \"\"\"Display a single image and its corresponding label.\"\"\"\n",
        "    image = row['image']\n",
        "    label = row['label']\n",
        "    plt.imshow(image, cmap='gray')\n",
        "    plt.title('Label: ' + int_to_char(label))\n",
        "    plt.axis('off')\n",
        "    plt.show()\n",
        "\n",
        "def show_grid(data, title=None, num_cols=5, figsize=(20, 10)):\n",
        "    \"\"\"\n",
        "    Display a list of images as a grid of num_cols columns.\n",
        "    images: a list of images, each represented as a 28x28 numpy array\n",
        "    labels: a list of labels, one for each image\n",
        "    title: (optional) a title for the plot\n",
        "    num_cols: (optional) number of columns to use in the grid\n",
        "    figsize: (optional) size of the figure\n",
        "    \"\"\"\n",
        "    num_images = len(data)\n",
        "    num_rows = (num_images - 1) // num_cols + 1\n",
        "    fig, axes = plt.subplots(num_rows, num_cols, figsize=figsize)\n",
        "    if title is not None:\n",
        "        fig.suptitle(title, fontsize=16)\n",
        "    for i in range(num_rows):\n",
        "        for j in range(num_cols):\n",
        "            index = i * num_cols + j\n",
        "            if index < num_images:\n",
        "                axes[i, j].imshow(data.iloc[index]['image'], cmap='gray')\n",
        "                axes[i, j].axis('off')\n",
        "                label = int_to_char(data.iloc[index]['label'])\n",
        "                axes[i, j].set_title(label)\n",
        "    plt.show()\n",
        "\n",
        "# Get a random image of a given label from the dataset\n",
        "def get_image_by_label(data, label):\n",
        "    \"\"\"Get a random image of a given label from the dataset.\"\"\"\n",
        "    images = data[data['label'] == label]['image'].tolist()\n",
        "    return random.choice(images)\n",
        "\n",
        "# Plot the training and validation accuracy during the training of a model\n",
        "def plot_accuracy(history):\n",
        "    \"\"\"Plot the training and validation accuracy during the training of a model.\"\"\"\n",
        "    acc = history.history['accuracy']\n",
        "    val_acc = history.history['val_accuracy']\n",
        "    epochs = range(1, len(acc) + 1)\n",
        "    plt.plot(epochs, acc, 'bo', label='Training accuracy')\n",
        "    plt.plot(epochs, val_acc, 'b', label='Validation accuracy')\n",
        "    plt.title('Training and validation accuracy')\n",
        "    plt.xlabel('Epochs')\n",
        "    plt.ylabel('Accuracy')\n",
        "    plt.legend()\n",
        "    plt.show()\n",
        "\n",
        "# Plot the training and validation loss during the training of a model\n",
        "def plot_loss(history):\n",
        "    \"\"\"Plot the training and validation loss during the training of a model.\"\"\"\n",
        "    loss = history.history['loss']\n",
        "    val_loss = history.history['val_loss']\n",
        "    epochs = range(1, len(loss) + 1)\n",
        "    plt.plot(epochs, loss, 'bo', label='Training loss')\n",
        "    plt.plot(epochs, val_loss, 'b', label='Validation loss')\n",
        "    plt.title('Training and validation loss')\n",
        "    plt.xlabel('Epochs')\n",
        "    plt.ylabel('Loss')\n",
        "    plt.legend()\n",
        "    plt.show()\n",
        "\n",
        "# Normalize the pixel values of the images in the dataset to have zero mean and unit variance\n",
        "# This is a common preprocessing step for neural networks, but may not be necessary in all cases\n",
        "def normalize_images(images):\n",
        "    \"\"\"Normalize the pixel values of the images in the dataset to have zero mean and unit variance.\"\"\"\n",
        "    images = np.array(images)\n",
        "    mean = images.mean()\n",
        "    std = images.std()\n",
        "    images = (images - mean) / std\n",
        "    return images.tolist()\n",
        "\n",
        "# Display metrics for a model\n",
        "def display_metrics(task, model_name, metrics_dict):\n",
        "    \"\"\"Display performance metrics and confusion matrix for a model.\"\"\"\n",
        "    metrics_df = pd.DataFrame()\n",
        "    cm_df = pd.DataFrame()\n",
        "    for key, value in metrics_dict[task][model_name].items():\n",
        "        if type(value) == np.ndarray:\n",
        "            cm_df = pd.DataFrame(value, index=['actual 0', 'actual 1'], columns=['predicted 0', 'predicted 1'])\n",
        "        else:\n",
        "            metrics_df[key] = [value]\n",
        "    display(Markdown(f'# Performance Metrics: {model_name}'))\n",
        "    display(metrics_df)\n",
        "    display(Markdown(f'# Confusion Matrix: {model_name}'))\n",
        "    display(cm_df)"
      ]
    },
    {
      "cell_type": "code",
      "execution_count": 5,
      "metadata": {
        "id": "sdfjso1V6Vwi",
        "outputId": "605fc090-236b-4611-b2d3-86eb3083dd33",
        "colab": {
          "base_uri": "https://localhost:8080/"
        }
      },
      "outputs": [
        {
          "output_type": "stream",
          "name": "stderr",
          "text": [
            "Downloading emnist.zip: 536MB [00:05, 98.7MB/s]\n"
          ]
        }
      ],
      "source": [
        "# Load data\n",
        "\n",
        "# Extract the training split as images and labels\n",
        "image, label = emnist.extract_training_samples('byclass')\n",
        "\n",
        "# Add columns for each pixel value (28x28 = 784 columns)\n",
        "emnist_train = pd.DataFrame()\n",
        "\n",
        "# Add a column with the image data as a 28x28 array\n",
        "emnist_train['image'] = list(image)\n",
        "emnist_train['image_flat'] = emnist_train['image'].apply(lambda x: np.array(x).reshape(-1))\n",
        "\n",
        "# Add a column showing the label\n",
        "emnist_train['label'] = label\n",
        "\n",
        "# Convert labels to characters\n",
        "class_label = np.array([int_to_char(l) for l in label])\n",
        "\n",
        "# Add a column with the character corresponding to the label\n",
        "emnist_train['class'] = class_label\n",
        "\n",
        "# Repeat for the test split\n",
        "image, label = emnist.extract_test_samples('byclass')\n",
        "class_label = np.array([int_to_char(l) for l in label])\n",
        "emnist_test = pd.DataFrame()\n",
        "emnist_test['image'] = list(image)\n",
        "emnist_test['image_flat'] = emnist_test['image'].apply(lambda x: np.array(x).reshape(-1))\n",
        "emnist_test['label'] = label\n",
        "emnist_test['class'] = class_label\n",
        "\n",
        "# Combine the training and test splits\n",
        "emnist_all = pd.concat([emnist_train, emnist_test], axis=0)\n",
        "\n",
        "# Subset for only digits 0-9\n",
        "digits = emnist_all[emnist_all['label'] < 10]\n",
        "\n",
        "# Subset for lowercase letters\n",
        "lowercase = emnist_all[(emnist_all['class'] >= 'a') & (emnist_all['class'] <= 'z')]\n",
        "uppercase = emnist_all[(emnist_all['class'] >= 'A') & (emnist_all['class'] <= 'Z')]\n",
        "\n",
        "# Subset for upper- and lowercase letters a, b, c, d, e, f, g\n",
        "a2g = emnist_all[(emnist_all['class'].isin(['a', 'b', 'c', 'd', 'e', 'f', 'g']))]\n",
        "\n",
        "# Subset for upper- and lowercase letters a, b, c, x, y, z\n",
        "abcxyz = emnist_all[(emnist_all['class'].isin(['a', 'b', 'c', 'A', 'B', 'C', \\\n",
        "                                               'x', 'y', 'z', 'X', 'Y', 'Z']))]"
      ]
    },
    {
      "cell_type": "markdown",
      "source": [
        "#Problem 1 Part 1: Subset, Cleaning, and Choosing a Model"
      ],
      "metadata": {
        "id": "CL0dnIlqAPaF"
      }
    },
    {
      "cell_type": "markdown",
      "source": [
        "##Subset (It's already subset as lowercase a-g in provided code a2g above)"
      ],
      "metadata": {
        "id": "9YoPcfCL6_DM"
      }
    },
    {
      "cell_type": "code",
      "execution_count": 8,
      "metadata": {
        "id": "gvfEZAKp6Vwi",
        "colab": {
          "base_uri": "https://localhost:8080/"
        },
        "outputId": "c4f4e1f1-6fac-498f-84e0-3d9c31ebc2fb"
      },
      "outputs": [
        {
          "output_type": "stream",
          "name": "stdout",
          "text": [
            "                                                    image  \\\n",
            "1       [[0, 0, 0, 0, 0, 0, 0, 0, 0, 0, 0, 0, 0, 0, 0,...   \n",
            "5       [[0, 0, 0, 0, 0, 0, 0, 0, 0, 0, 0, 0, 0, 0, 0,...   \n",
            "13      [[0, 0, 0, 0, 0, 0, 0, 0, 0, 0, 0, 0, 0, 0, 0,...   \n",
            "24      [[0, 0, 0, 0, 0, 0, 0, 0, 0, 0, 0, 0, 0, 0, 0,...   \n",
            "33      [[0, 0, 0, 0, 0, 0, 0, 0, 0, 0, 0, 0, 0, 0, 0,...   \n",
            "...                                                   ...   \n",
            "116290  [[0, 0, 0, 0, 0, 0, 0, 0, 0, 0, 0, 0, 0, 0, 0,...   \n",
            "116300  [[0, 0, 0, 0, 0, 0, 0, 0, 0, 0, 0, 0, 0, 0, 0,...   \n",
            "116301  [[0, 0, 0, 0, 0, 0, 0, 0, 0, 0, 0, 0, 0, 0, 0,...   \n",
            "116311  [[0, 0, 0, 0, 0, 0, 0, 0, 0, 0, 0, 0, 0, 0, 0,...   \n",
            "116315  [[0, 0, 0, 0, 0, 0, 0, 0, 0, 0, 0, 0, 0, 0, 0,...   \n",
            "\n",
            "                                               image_flat  label class  \n",
            "1       [0, 0, 0, 0, 0, 0, 0, 0, 0, 0, 0, 0, 0, 0, 0, ...     36     a  \n",
            "5       [0, 0, 0, 0, 0, 0, 0, 0, 0, 0, 0, 0, 0, 0, 0, ...     38     c  \n",
            "13      [0, 0, 0, 0, 0, 0, 0, 0, 0, 0, 0, 0, 0, 0, 0, ...     40     e  \n",
            "24      [0, 0, 0, 0, 0, 0, 0, 0, 0, 0, 0, 0, 0, 0, 0, ...     40     e  \n",
            "33      [0, 0, 0, 0, 0, 0, 0, 0, 0, 0, 0, 0, 0, 0, 0, ...     40     e  \n",
            "...                                                   ...    ...   ...  \n",
            "116290  [0, 0, 0, 0, 0, 0, 0, 0, 0, 0, 0, 0, 0, 0, 0, ...     38     c  \n",
            "116300  [0, 0, 0, 0, 0, 0, 0, 0, 0, 0, 0, 0, 0, 0, 0, ...     40     e  \n",
            "116301  [0, 0, 0, 0, 0, 0, 0, 0, 0, 0, 0, 0, 0, 0, 0, ...     40     e  \n",
            "116311  [0, 0, 0, 0, 0, 0, 0, 0, 0, 0, 0, 0, 0, 0, 0, ...     40     e  \n",
            "116315  [0, 0, 0, 0, 0, 0, 0, 0, 0, 0, 0, 0, 0, 0, 0, ...     40     e  \n",
            "\n",
            "[68795 rows x 4 columns]\n"
          ]
        },
        {
          "output_type": "stream",
          "name": "stderr",
          "text": [
            "<ipython-input-8-02b0aaac0da4>:9: SettingWithCopyWarning: \n",
            "A value is trying to be set on a copy of a slice from a DataFrame.\n",
            "Try using .loc[row_indexer,col_indexer] = value instead\n",
            "\n",
            "See the caveats in the documentation: https://pandas.pydata.org/pandas-docs/stable/user_guide/indexing.html#returning-a-view-versus-a-copy\n",
            "  digits['is_even'] = ...\n"
          ]
        }
      ],
      "source": [
        "#a2g is already just lower case a-g\n",
        "a2g = emnist_all[(emnist_all['class'].isin(['a', 'b', 'c', 'd', 'e', 'f', 'g']))]\n",
        "print(a2g)\n",
        "\n",
        "#mask_true_values = (a2g[a2g['label'] == 43])\n",
        "#print(mask_true_values)\n",
        "\n",
        "# FIXME: Classify digits as even/odd\n",
        "digits['is_even'] = ..."
      ]
    },
    {
      "cell_type": "markdown",
      "source": [
        "##Model Choosing and Training"
      ],
      "metadata": {
        "id": "hL0wx0XeDuMv"
      }
    },
    {
      "cell_type": "code",
      "source": [
        "#a2g is the subset data\n",
        "#now let's pick a model\n",
        "#Subset so it's small\n",
        "#full data - 60,000 rows takes forever to run (45 min.). This is cut down to 6,000 just for speed to run for submission, but we did try with 60,000 as well.\n",
        "a2gsmall = a2g.iloc[:6000,:]\n",
        "\n",
        "a2gagain = a2g.iloc[:20000,:]\n",
        "\n",
        "# 1. Select candidate models, hyperparameter options, and evaluation metric\n",
        "#rf_param_grid = {'n_estimators': [50, 100, 150], 'max_depth': [None, 10, 20]}\n",
        "#xgb_param_grid = {'n_estimators': [50, 100, 150], 'max_depth': [3, 5, 7], 'learning_rate': [0.01, 0.1, 0.2]}\n",
        "\n",
        "scoring_metric = 'accuracy'\n",
        "# Data splitting\n",
        "X=a2gagain['image_flat'].tolist()\n",
        "y=a2gagain['class'].tolist()\n",
        "\n",
        "# If it's not liking the given labels in y, try re-encoding them:\n",
        "# label_encoder = LabelEncoder()\n",
        "# y = label_encoder.fit_transform(y)\n",
        "\n",
        "# Split data into train and test\n",
        "X_train, X_test, y_train, y_test = train_test_split(X, y, test_size=0.2, random_state=42)\n",
        "\n",
        "# Define how many folds you want to split on\n",
        "kf = KFold(n_splits=5, shuffle=True, random_state=42)\n",
        "\n",
        "# Define the parameter grid\n",
        "param_grid = {\n",
        "    'n_estimators': [50, 100, 200],\n",
        "    'max_depth': [5, 10, 20],\n",
        "    'min_samples_split': [2, 5, 10]\n",
        "}\n",
        "\n",
        "# Instantiate the Random Forest classifier\n",
        "rf = RandomForestClassifier()\n",
        "\n",
        "# Perform grid search\n",
        "grid_search = GridSearchCV(estimator=rf, param_grid=param_grid, cv=kf, scoring='accuracy', n_jobs=-1)\n",
        "grid_search.fit(X, y)\n",
        "\n",
        "# Print the best parameters and best score\n",
        "print(\"Best Parameters:\", grid_search.best_params_)\n",
        "print(\"Best Score:\", grid_search.best_score_)\n",
        "\n",
        "\n"
      ],
      "metadata": {
        "id": "yz3JQJ5fBRlu",
        "colab": {
          "base_uri": "https://localhost:8080/",
          "height": 356
        },
        "outputId": "7a4ab71a-c87b-4b69-bc70-e782b78defec"
      },
      "execution_count": 14,
      "outputs": [
        {
          "output_type": "error",
          "ename": "KeyboardInterrupt",
          "evalue": "",
          "traceback": [
            "\u001b[0;31m---------------------------------------------------------------------------\u001b[0m",
            "\u001b[0;31mKeyboardInterrupt\u001b[0m                         Traceback (most recent call last)",
            "\u001b[0;32m<ipython-input-14-dc52d159fb51>\u001b[0m in \u001b[0;36m<cell line: 40>\u001b[0;34m()\u001b[0m\n\u001b[1;32m     38\u001b[0m \u001b[0;31m# Perform grid search\u001b[0m\u001b[0;34m\u001b[0m\u001b[0;34m\u001b[0m\u001b[0m\n\u001b[1;32m     39\u001b[0m \u001b[0mgrid_search\u001b[0m \u001b[0;34m=\u001b[0m \u001b[0mGridSearchCV\u001b[0m\u001b[0;34m(\u001b[0m\u001b[0mestimator\u001b[0m\u001b[0;34m=\u001b[0m\u001b[0mrf\u001b[0m\u001b[0;34m,\u001b[0m \u001b[0mparam_grid\u001b[0m\u001b[0;34m=\u001b[0m\u001b[0mparam_grid\u001b[0m\u001b[0;34m,\u001b[0m \u001b[0mcv\u001b[0m\u001b[0;34m=\u001b[0m\u001b[0mkf\u001b[0m\u001b[0;34m,\u001b[0m \u001b[0mscoring\u001b[0m\u001b[0;34m=\u001b[0m\u001b[0;34m'accuracy'\u001b[0m\u001b[0;34m,\u001b[0m \u001b[0mn_jobs\u001b[0m\u001b[0;34m=\u001b[0m\u001b[0;34m-\u001b[0m\u001b[0;36m1\u001b[0m\u001b[0;34m)\u001b[0m\u001b[0;34m\u001b[0m\u001b[0;34m\u001b[0m\u001b[0m\n\u001b[0;32m---> 40\u001b[0;31m \u001b[0mgrid_search\u001b[0m\u001b[0;34m.\u001b[0m\u001b[0mfit\u001b[0m\u001b[0;34m(\u001b[0m\u001b[0mX\u001b[0m\u001b[0;34m,\u001b[0m \u001b[0my\u001b[0m\u001b[0;34m)\u001b[0m\u001b[0;34m\u001b[0m\u001b[0;34m\u001b[0m\u001b[0m\n\u001b[0m\u001b[1;32m     41\u001b[0m \u001b[0;34m\u001b[0m\u001b[0m\n\u001b[1;32m     42\u001b[0m \u001b[0;31m# Print the best parameters and best score\u001b[0m\u001b[0;34m\u001b[0m\u001b[0;34m\u001b[0m\u001b[0m\n",
            "\u001b[0;32m/usr/local/lib/python3.10/dist-packages/sklearn/model_selection/_search.py\u001b[0m in \u001b[0;36mfit\u001b[0;34m(self, X, y, groups, **fit_params)\u001b[0m\n\u001b[1;32m    872\u001b[0m                 \u001b[0;32mreturn\u001b[0m \u001b[0mresults\u001b[0m\u001b[0;34m\u001b[0m\u001b[0;34m\u001b[0m\u001b[0m\n\u001b[1;32m    873\u001b[0m \u001b[0;34m\u001b[0m\u001b[0m\n\u001b[0;32m--> 874\u001b[0;31m             \u001b[0mself\u001b[0m\u001b[0;34m.\u001b[0m\u001b[0m_run_search\u001b[0m\u001b[0;34m(\u001b[0m\u001b[0mevaluate_candidates\u001b[0m\u001b[0;34m)\u001b[0m\u001b[0;34m\u001b[0m\u001b[0;34m\u001b[0m\u001b[0m\n\u001b[0m\u001b[1;32m    875\u001b[0m \u001b[0;34m\u001b[0m\u001b[0m\n\u001b[1;32m    876\u001b[0m             \u001b[0;31m# multimetric is determined here because in the case of a callable\u001b[0m\u001b[0;34m\u001b[0m\u001b[0;34m\u001b[0m\u001b[0m\n",
            "\u001b[0;32m/usr/local/lib/python3.10/dist-packages/sklearn/model_selection/_search.py\u001b[0m in \u001b[0;36m_run_search\u001b[0;34m(self, evaluate_candidates)\u001b[0m\n\u001b[1;32m   1386\u001b[0m     \u001b[0;32mdef\u001b[0m \u001b[0m_run_search\u001b[0m\u001b[0;34m(\u001b[0m\u001b[0mself\u001b[0m\u001b[0;34m,\u001b[0m \u001b[0mevaluate_candidates\u001b[0m\u001b[0;34m)\u001b[0m\u001b[0;34m:\u001b[0m\u001b[0;34m\u001b[0m\u001b[0;34m\u001b[0m\u001b[0m\n\u001b[1;32m   1387\u001b[0m         \u001b[0;34m\"\"\"Search all candidates in param_grid\"\"\"\u001b[0m\u001b[0;34m\u001b[0m\u001b[0;34m\u001b[0m\u001b[0m\n\u001b[0;32m-> 1388\u001b[0;31m         \u001b[0mevaluate_candidates\u001b[0m\u001b[0;34m(\u001b[0m\u001b[0mParameterGrid\u001b[0m\u001b[0;34m(\u001b[0m\u001b[0mself\u001b[0m\u001b[0;34m.\u001b[0m\u001b[0mparam_grid\u001b[0m\u001b[0;34m)\u001b[0m\u001b[0;34m)\u001b[0m\u001b[0;34m\u001b[0m\u001b[0;34m\u001b[0m\u001b[0m\n\u001b[0m\u001b[1;32m   1389\u001b[0m \u001b[0;34m\u001b[0m\u001b[0m\n\u001b[1;32m   1390\u001b[0m \u001b[0;34m\u001b[0m\u001b[0m\n",
            "\u001b[0;32m/usr/local/lib/python3.10/dist-packages/sklearn/model_selection/_search.py\u001b[0m in \u001b[0;36mevaluate_candidates\u001b[0;34m(candidate_params, cv, more_results)\u001b[0m\n\u001b[1;32m    819\u001b[0m                     )\n\u001b[1;32m    820\u001b[0m \u001b[0;34m\u001b[0m\u001b[0m\n\u001b[0;32m--> 821\u001b[0;31m                 out = parallel(\n\u001b[0m\u001b[1;32m    822\u001b[0m                     delayed(_fit_and_score)(\n\u001b[1;32m    823\u001b[0m                         \u001b[0mclone\u001b[0m\u001b[0;34m(\u001b[0m\u001b[0mbase_estimator\u001b[0m\u001b[0;34m)\u001b[0m\u001b[0;34m,\u001b[0m\u001b[0;34m\u001b[0m\u001b[0;34m\u001b[0m\u001b[0m\n",
            "\u001b[0;32m/usr/local/lib/python3.10/dist-packages/sklearn/utils/parallel.py\u001b[0m in \u001b[0;36m__call__\u001b[0;34m(self, iterable)\u001b[0m\n\u001b[1;32m     61\u001b[0m             \u001b[0;32mfor\u001b[0m \u001b[0mdelayed_func\u001b[0m\u001b[0;34m,\u001b[0m \u001b[0margs\u001b[0m\u001b[0;34m,\u001b[0m \u001b[0mkwargs\u001b[0m \u001b[0;32min\u001b[0m \u001b[0miterable\u001b[0m\u001b[0;34m\u001b[0m\u001b[0;34m\u001b[0m\u001b[0m\n\u001b[1;32m     62\u001b[0m         )\n\u001b[0;32m---> 63\u001b[0;31m         \u001b[0;32mreturn\u001b[0m \u001b[0msuper\u001b[0m\u001b[0;34m(\u001b[0m\u001b[0;34m)\u001b[0m\u001b[0;34m.\u001b[0m\u001b[0m__call__\u001b[0m\u001b[0;34m(\u001b[0m\u001b[0miterable_with_config\u001b[0m\u001b[0;34m)\u001b[0m\u001b[0;34m\u001b[0m\u001b[0;34m\u001b[0m\u001b[0m\n\u001b[0m\u001b[1;32m     64\u001b[0m \u001b[0;34m\u001b[0m\u001b[0m\n\u001b[1;32m     65\u001b[0m \u001b[0;34m\u001b[0m\u001b[0m\n",
            "\u001b[0;32m/usr/local/lib/python3.10/dist-packages/joblib/parallel.py\u001b[0m in \u001b[0;36m__call__\u001b[0;34m(self, iterable)\u001b[0m\n\u001b[1;32m   1950\u001b[0m         \u001b[0mnext\u001b[0m\u001b[0;34m(\u001b[0m\u001b[0moutput\u001b[0m\u001b[0;34m)\u001b[0m\u001b[0;34m\u001b[0m\u001b[0;34m\u001b[0m\u001b[0m\n\u001b[1;32m   1951\u001b[0m \u001b[0;34m\u001b[0m\u001b[0m\n\u001b[0;32m-> 1952\u001b[0;31m         \u001b[0;32mreturn\u001b[0m \u001b[0moutput\u001b[0m \u001b[0;32mif\u001b[0m \u001b[0mself\u001b[0m\u001b[0;34m.\u001b[0m\u001b[0mreturn_generator\u001b[0m \u001b[0;32melse\u001b[0m \u001b[0mlist\u001b[0m\u001b[0;34m(\u001b[0m\u001b[0moutput\u001b[0m\u001b[0;34m)\u001b[0m\u001b[0;34m\u001b[0m\u001b[0;34m\u001b[0m\u001b[0m\n\u001b[0m\u001b[1;32m   1953\u001b[0m \u001b[0;34m\u001b[0m\u001b[0m\n\u001b[1;32m   1954\u001b[0m     \u001b[0;32mdef\u001b[0m \u001b[0m__repr__\u001b[0m\u001b[0;34m(\u001b[0m\u001b[0mself\u001b[0m\u001b[0;34m)\u001b[0m\u001b[0;34m:\u001b[0m\u001b[0;34m\u001b[0m\u001b[0;34m\u001b[0m\u001b[0m\n",
            "\u001b[0;32m/usr/local/lib/python3.10/dist-packages/joblib/parallel.py\u001b[0m in \u001b[0;36m_get_outputs\u001b[0;34m(self, iterator, pre_dispatch)\u001b[0m\n\u001b[1;32m   1593\u001b[0m \u001b[0;34m\u001b[0m\u001b[0m\n\u001b[1;32m   1594\u001b[0m             \u001b[0;32mwith\u001b[0m \u001b[0mself\u001b[0m\u001b[0;34m.\u001b[0m\u001b[0m_backend\u001b[0m\u001b[0;34m.\u001b[0m\u001b[0mretrieval_context\u001b[0m\u001b[0;34m(\u001b[0m\u001b[0;34m)\u001b[0m\u001b[0;34m:\u001b[0m\u001b[0;34m\u001b[0m\u001b[0;34m\u001b[0m\u001b[0m\n\u001b[0;32m-> 1595\u001b[0;31m                 \u001b[0;32myield\u001b[0m \u001b[0;32mfrom\u001b[0m \u001b[0mself\u001b[0m\u001b[0;34m.\u001b[0m\u001b[0m_retrieve\u001b[0m\u001b[0;34m(\u001b[0m\u001b[0;34m)\u001b[0m\u001b[0;34m\u001b[0m\u001b[0;34m\u001b[0m\u001b[0m\n\u001b[0m\u001b[1;32m   1596\u001b[0m \u001b[0;34m\u001b[0m\u001b[0m\n\u001b[1;32m   1597\u001b[0m         \u001b[0;32mexcept\u001b[0m \u001b[0mGeneratorExit\u001b[0m\u001b[0;34m:\u001b[0m\u001b[0;34m\u001b[0m\u001b[0;34m\u001b[0m\u001b[0m\n",
            "\u001b[0;32m/usr/local/lib/python3.10/dist-packages/joblib/parallel.py\u001b[0m in \u001b[0;36m_retrieve\u001b[0;34m(self)\u001b[0m\n\u001b[1;32m   1705\u001b[0m                 (self._jobs[0].get_status(\n\u001b[1;32m   1706\u001b[0m                     timeout=self.timeout) == TASK_PENDING)):\n\u001b[0;32m-> 1707\u001b[0;31m                 \u001b[0mtime\u001b[0m\u001b[0;34m.\u001b[0m\u001b[0msleep\u001b[0m\u001b[0;34m(\u001b[0m\u001b[0;36m0.01\u001b[0m\u001b[0;34m)\u001b[0m\u001b[0;34m\u001b[0m\u001b[0;34m\u001b[0m\u001b[0m\n\u001b[0m\u001b[1;32m   1708\u001b[0m                 \u001b[0;32mcontinue\u001b[0m\u001b[0;34m\u001b[0m\u001b[0;34m\u001b[0m\u001b[0m\n\u001b[1;32m   1709\u001b[0m \u001b[0;34m\u001b[0m\u001b[0m\n",
            "\u001b[0;31mKeyboardInterrupt\u001b[0m: "
          ]
        }
      ]
    },
    {
      "cell_type": "markdown",
      "source": [
        "##Testing and Confusion Matrix"
      ],
      "metadata": {
        "id": "Q7K0pgSd_Sc0"
      }
    },
    {
      "cell_type": "code",
      "source": [
        "# Get the best model from hyperparameter tuning - adapted from lecture\n",
        "best_model = grid_search.best_estimator_\n",
        "\n",
        "# Make predictions on the test set\n",
        "y_pred = best_model.predict(X_test)\n",
        "\n",
        "confusion_labels = ['a', 'b', 'c', 'd', 'e', 'f', 'g']\n",
        "\n",
        "\n",
        "# Evaluate the model using F1 score and confusion matrix\n",
        "f1 = f1_score(y_test, y_pred, average=None)\n",
        "conf_matrix = confusion_matrix(y_test, y_pred,labels=confusion_labels) # same as accuracy here for multiclass regression\n",
        "\n",
        "\n",
        "\n",
        "\n",
        "ax= plt.subplot()\n",
        "sns.heatmap(conf_matrix, annot=True, fmt='g', ax=ax);  #annot=True to annotate cells, ftm='g' to disable scientific notation\n",
        "\n",
        "#labels, title and ticks - using heat map from seaborn (https://stackoverflow.com/questions/19233771/sklearn-plot-confusion-matrix-with-labels)\n",
        "ax.set_xlabel('Predicted labels');ax.set_ylabel('True labels');\n",
        "ax.set_title('Confusion Matrix');\n",
        "ax.xaxis.set_ticklabels(['a', 'b','c','d','e','f','g']); ax.yaxis.set_ticklabels(['a', 'b','c','d','e','f','g']);\n",
        "\n",
        "\n",
        "# Print the results\n",
        "print(f\"Best Hyperparameters: {grid_search.best_params_}\")\n",
        "#print(f\"F1 Score: {f1:.4f}\")\n",
        "print(\"Classification Report:\")\n",
        "print(classification_report(y_test, y_pred))\n",
        "print(f\"Accuracy is: {accuracy_score(y_test,y_pred)}\")\n",
        "print(\"Confusion Matrix:\")\n",
        "conf_matrix\n"
      ],
      "metadata": {
        "colab": {
          "base_uri": "https://localhost:8080/",
          "height": 906
        },
        "id": "N4h_Q6pt_WdZ",
        "outputId": "81442469-f8b4-415a-f3f5-1f3c87020ada"
      },
      "execution_count": null,
      "outputs": [
        {
          "output_type": "stream",
          "name": "stdout",
          "text": [
            "Best Hyperparameters: {'max_depth': 20, 'min_samples_split': 2, 'n_estimators': 200}\n",
            "Classification Report:\n",
            "              precision    recall  f1-score   support\n",
            "\n",
            "           a       1.00      1.00      1.00       640\n",
            "           b       1.00      1.00      1.00       339\n",
            "           c       1.00      0.98      0.99       170\n",
            "           d       1.00      1.00      1.00       705\n",
            "           e       1.00      1.00      1.00      1701\n",
            "           f       1.00      1.00      1.00       185\n",
            "           g       1.00      1.00      1.00       260\n",
            "\n",
            "    accuracy                           1.00      4000\n",
            "   macro avg       1.00      1.00      1.00      4000\n",
            "weighted avg       1.00      1.00      1.00      4000\n",
            "\n",
            "Accuracy is: 0.9985\n",
            "Confusion Matrix:\n"
          ]
        },
        {
          "output_type": "execute_result",
          "data": {
            "text/plain": [
              "array([[ 638,    0,    0,    0,    2,    0,    0],\n",
              "       [   0,  339,    0,    0,    0,    0,    0],\n",
              "       [   0,    0,  166,    0,    4,    0,    0],\n",
              "       [   0,    0,    0,  705,    0,    0,    0],\n",
              "       [   0,    0,    0,    0, 1701,    0,    0],\n",
              "       [   0,    0,    0,    0,    0,  185,    0],\n",
              "       [   0,    0,    0,    0,    0,    0,  260]])"
            ]
          },
          "metadata": {},
          "execution_count": 51
        },
        {
          "output_type": "display_data",
          "data": {
            "text/plain": [
              "<Figure size 640x480 with 2 Axes>"
            ],
            "image/png": "[encoded data removed]"
          },
          "metadata": {}
        }
      ]
    },
    {
      "cell_type": "markdown",
      "source": [
        "##Investigate and Improve"
      ],
      "metadata": {
        "id": "MR_T_x-CKqau"
      }
    },
    {
      "cell_type": "code",
      "source": [
        "#Model performs very well across all labels. Only e occasionally (like 6 times out of thousands) is confused: specifically with a and c but not poorly enough to have to change anything or reevalute.\n",
        "#Keep in mind data was sampled to 20,000 rows out of 68795, so there may be more misclassification present but the model works very well.\n",
        "#Random_state = 42 ended up being very good accuracy.\n",
        "\n",
        "\n"
      ],
      "metadata": {
        "id": "8k5fU0yB--lu",
        "outputId": "a2544808-0c76-4774-a4e6-1cf6c52453a3",
        "colab": {
          "base_uri": "https://localhost:8080/"
        }
      },
      "execution_count": null,
      "outputs": [
        {
          "output_type": "stream",
          "name": "stdout",
          "text": [
            "                                                    image  \\\n",
            "1       [[0, 0, 0, 0, 0, 0, 0, 0, 0, 0, 0, 0, 0, 0, 0,...   \n",
            "5       [[0, 0, 0, 0, 0, 0, 0, 0, 0, 0, 0, 0, 0, 0, 0,...   \n",
            "13      [[0, 0, 0, 0, 0, 0, 0, 0, 0, 0, 0, 0, 0, 0, 0,...   \n",
            "24      [[0, 0, 0, 0, 0, 0, 0, 0, 0, 0, 0, 0, 0, 0, 0,...   \n",
            "33      [[0, 0, 0, 0, 0, 0, 0, 0, 0, 0, 0, 0, 0, 0, 0,...   \n",
            "...                                                   ...   \n",
            "116290  [[0, 0, 0, 0, 0, 0, 0, 0, 0, 0, 0, 0, 0, 0, 0,...   \n",
            "116300  [[0, 0, 0, 0, 0, 0, 0, 0, 0, 0, 0, 0, 0, 0, 0,...   \n",
            "116301  [[0, 0, 0, 0, 0, 0, 0, 0, 0, 0, 0, 0, 0, 0, 0,...   \n",
            "116311  [[0, 0, 0, 0, 0, 0, 0, 0, 0, 0, 0, 0, 0, 0, 0,...   \n",
            "116315  [[0, 0, 0, 0, 0, 0, 0, 0, 0, 0, 0, 0, 0, 0, 0,...   \n",
            "\n",
            "                                               image_flat  label class  \n",
            "1       [0, 0, 0, 0, 0, 0, 0, 0, 0, 0, 0, 0, 0, 0, 0, ...     36     a  \n",
            "5       [0, 0, 0, 0, 0, 0, 0, 0, 0, 0, 0, 0, 0, 0, 0, ...     38     c  \n",
            "13      [0, 0, 0, 0, 0, 0, 0, 0, 0, 0, 0, 0, 0, 0, 0, ...     40     e  \n",
            "24      [0, 0, 0, 0, 0, 0, 0, 0, 0, 0, 0, 0, 0, 0, 0, ...     40     e  \n",
            "33      [0, 0, 0, 0, 0, 0, 0, 0, 0, 0, 0, 0, 0, 0, 0, ...     40     e  \n",
            "...                                                   ...    ...   ...  \n",
            "116290  [0, 0, 0, 0, 0, 0, 0, 0, 0, 0, 0, 0, 0, 0, 0, ...     38     c  \n",
            "116300  [0, 0, 0, 0, 0, 0, 0, 0, 0, 0, 0, 0, 0, 0, 0, ...     40     e  \n",
            "116301  [0, 0, 0, 0, 0, 0, 0, 0, 0, 0, 0, 0, 0, 0, 0, ...     40     e  \n",
            "116311  [0, 0, 0, 0, 0, 0, 0, 0, 0, 0, 0, 0, 0, 0, 0, ...     40     e  \n",
            "116315  [0, 0, 0, 0, 0, 0, 0, 0, 0, 0, 0, 0, 0, 0, 0, ...     40     e  \n",
            "\n",
            "[68795 rows x 4 columns]\n",
            "                                                    image  \\\n",
            "0       [[0, 0, 0, 0, 0, 0, 0, 0, 0, 0, 0, 0, 0, 0, 0,...   \n",
            "1       [[0, 0, 0, 0, 0, 0, 0, 0, 0, 0, 0, 0, 0, 0, 0,...   \n",
            "2       [[0, 0, 0, 0, 0, 0, 0, 0, 0, 0, 0, 0, 0, 0, 0,...   \n",
            "3       [[0, 0, 0, 0, 0, 0, 0, 0, 0, 0, 0, 0, 0, 0, 0,...   \n",
            "4       [[0, 0, 0, 0, 0, 0, 0, 0, 0, 0, 0, 0, 0, 0, 0,...   \n",
            "...                                                   ...   \n",
            "116318  [[0, 0, 0, 0, 0, 0, 0, 0, 0, 0, 0, 0, 0, 0, 0,...   \n",
            "116319  [[0, 0, 0, 0, 0, 0, 0, 0, 0, 0, 0, 0, 0, 0, 0,...   \n",
            "116320  [[0, 0, 0, 0, 0, 0, 0, 0, 0, 0, 0, 0, 0, 0, 0,...   \n",
            "116321  [[0, 0, 0, 0, 0, 0, 0, 0, 0, 0, 0, 0, 0, 0, 0,...   \n",
            "116322  [[0, 0, 0, 0, 0, 0, 0, 0, 0, 0, 0, 0, 0, 0, 0,...   \n",
            "\n",
            "                                               image_flat  label class  \n",
            "0       [0, 0, 0, 0, 0, 0, 0, 0, 0, 0, 0, 0, 0, 0, 0, ...     35     Z  \n",
            "1       [0, 0, 0, 0, 0, 0, 0, 0, 0, 0, 0, 0, 0, 0, 0, ...     36     a  \n",
            "2       [0, 0, 0, 0, 0, 0, 0, 0, 0, 0, 0, 0, 0, 0, 0, ...      6     6  \n",
            "3       [0, 0, 0, 0, 0, 0, 0, 0, 0, 0, 0, 0, 0, 0, 0, ...      3     3  \n",
            "4       [0, 0, 0, 0, 0, 0, 0, 0, 0, 0, 0, 0, 0, 0, 0, ...     22     M  \n",
            "...                                                   ...    ...   ...  \n",
            "116318  [0, 0, 0, 0, 0, 0, 0, 0, 0, 0, 0, 0, 0, 0, 0, ...      7     7  \n",
            "116319  [0, 0, 0, 0, 0, 0, 0, 0, 0, 0, 0, 0, 0, 0, 0, ...     55     t  \n",
            "116320  [0, 0, 0, 0, 0, 0, 0, 0, 0, 0, 0, 0, 0, 0, 0, ...     28     S  \n",
            "116321  [0, 0, 0, 0, 0, 0, 0, 0, 0, 0, 0, 0, 0, 0, 0, ...      0     0  \n",
            "116322  [0, 0, 0, 0, 0, 0, 0, 0, 0, 0, 0, 0, 0, 0, 0, ...      5     5  \n",
            "\n",
            "[814255 rows x 4 columns]\n"
          ]
        }
      ]
    },
    {
      "cell_type": "code",
      "execution_count": null,
      "metadata": {
        "id": "vwT8T65d6Vwi",
        "outputId": "51d5c6ef-106e-4bea-c277-d0814e5cb689",
        "colab": {
          "base_uri": "https://localhost:8080/",
          "height": 170
        }
      },
      "outputs": [
        {
          "output_type": "display_data",
          "data": {
            "text/plain": [
              "<IPython.core.display.Markdown object>"
            ],
            "text/markdown": "# Dataset Sizes"
          },
          "metadata": {}
        },
        {
          "output_type": "display_data",
          "data": {
            "text/plain": [
              "<IPython.core.display.Markdown object>"
            ],
            "text/markdown": "**a2g**: 68795"
          },
          "metadata": {}
        },
        {
          "output_type": "display_data",
          "data": {
            "text/plain": [
              "<IPython.core.display.Markdown object>"
            ],
            "text/markdown": "**abcxyz**: 65926"
          },
          "metadata": {}
        },
        {
          "output_type": "display_data",
          "data": {
            "text/plain": [
              "<IPython.core.display.Markdown object>"
            ],
            "text/markdown": "**digits**: 402953"
          },
          "metadata": {}
        },
        {
          "output_type": "display_data",
          "data": {
            "text/plain": [
              "<IPython.core.display.Markdown object>"
            ],
            "text/markdown": "**emnist_all**: 814255"
          },
          "metadata": {}
        }
      ],
      "source": [
        "# Display the size of a2g, abcxyz, digits, and the full dataset\n",
        "display(Markdown(f'# Dataset Sizes'))\n",
        "display(Markdown(f'**a2g**: {len(a2g)}'))\n",
        "display(Markdown(f'**abcxyz**: {len(abcxyz)}'))\n",
        "display(Markdown(f'**digits**: {len(digits)}'))\n",
        "display(Markdown(f'**emnist_all**: {len(emnist_all)}'))\n",
        "\n",
        "a2g = a2g.iloc[:600,:]\n",
        "#print(a2g)"
      ]
    },
    {
      "cell_type": "markdown",
      "source": [
        "#Task 3: Upper vs lowercase"
      ],
      "metadata": {
        "id": "VjgPVnCxETBY"
      }
    },
    {
      "cell_type": "code",
      "execution_count": 16,
      "metadata": {
        "id": "D_hBti996Vwj",
        "outputId": "50825ae9-77cf-491e-e5ec-25b8277477ef",
        "colab": {
          "base_uri": "https://localhost:8080/"
        }
      },
      "outputs": [
        {
          "output_type": "stream",
          "name": "stderr",
          "text": [
            "<ipython-input-16-be850fcc5d43>:4: SettingWithCopyWarning: \n",
            "A value is trying to be set on a copy of a slice from a DataFrame.\n",
            "Try using .loc[row_indexer,col_indexer] = value instead\n",
            "\n",
            "See the caveats in the documentation: https://pandas.pydata.org/pandas-docs/stable/user_guide/indexing.html#returning-a-view-versus-a-copy\n",
            "  abcxyz['is_upper'] = abcxyz['class'].str.isupper()\n"
          ]
        },
        {
          "output_type": "stream",
          "name": "stdout",
          "text": [
            "                                                    image  \\\n",
            "0       [[0, 0, 0, 0, 0, 0, 0, 0, 0, 0, 0, 0, 0, 0, 0,...   \n",
            "1       [[0, 0, 0, 0, 0, 0, 0, 0, 0, 0, 0, 0, 0, 0, 0,...   \n",
            "5       [[0, 0, 0, 0, 0, 0, 0, 0, 0, 0, 0, 0, 0, 0, 0,...   \n",
            "40      [[0, 0, 0, 0, 0, 0, 0, 0, 0, 0, 0, 0, 0, 0, 0,...   \n",
            "43      [[0, 0, 0, 0, 0, 0, 0, 0, 0, 0, 0, 0, 0, 0, 0,...   \n",
            "...                                                   ...   \n",
            "116283  [[0, 0, 0, 0, 0, 0, 0, 0, 0, 0, 0, 0, 0, 0, 0,...   \n",
            "116284  [[0, 0, 0, 0, 0, 0, 0, 0, 0, 0, 0, 0, 0, 0, 0,...   \n",
            "116287  [[0, 0, 0, 0, 0, 0, 0, 0, 0, 0, 0, 0, 0, 0, 0,...   \n",
            "116290  [[0, 0, 0, 0, 0, 0, 0, 0, 0, 0, 0, 0, 0, 0, 0,...   \n",
            "116306  [[0, 0, 0, 0, 0, 0, 0, 0, 0, 0, 0, 0, 0, 0, 0,...   \n",
            "\n",
            "                                               image_flat  label class  \\\n",
            "0       [0, 0, 0, 0, 0, 0, 0, 0, 0, 0, 0, 0, 0, 0, 0, ...     35     Z   \n",
            "1       [0, 0, 0, 0, 0, 0, 0, 0, 0, 0, 0, 0, 0, 0, 0, ...     36     a   \n",
            "5       [0, 0, 0, 0, 0, 0, 0, 0, 0, 0, 0, 0, 0, 0, 0, ...     38     c   \n",
            "40      [0, 0, 0, 0, 0, 0, 0, 0, 0, 0, 0, 0, 0, 0, 0, ...     12     C   \n",
            "43      [0, 0, 0, 0, 0, 0, 0, 0, 0, 0, 0, 0, 0, 0, 0, ...     59     x   \n",
            "...                                                   ...    ...   ...   \n",
            "116283  [0, 0, 0, 0, 0, 0, 0, 0, 0, 0, 0, 0, 0, 0, 0, ...     36     a   \n",
            "116284  [0, 0, 0, 0, 0, 0, 0, 0, 0, 0, 0, 0, 0, 0, 0, ...     34     Y   \n",
            "116287  [0, 0, 0, 0, 0, 0, 0, 0, 0, 0, 0, 0, 0, 0, 0, ...     37     b   \n",
            "116290  [0, 0, 0, 0, 0, 0, 0, 0, 0, 0, 0, 0, 0, 0, 0, ...     38     c   \n",
            "116306  [0, 0, 0, 0, 0, 0, 0, 0, 0, 0, 0, 0, 0, 0, 0, ...     12     C   \n",
            "\n",
            "        is_upper  \n",
            "0           True  \n",
            "1          False  \n",
            "5          False  \n",
            "40          True  \n",
            "43         False  \n",
            "...          ...  \n",
            "116283     False  \n",
            "116284      True  \n",
            "116287     False  \n",
            "116290     False  \n",
            "116306      True  \n",
            "\n",
            "[65926 rows x 5 columns]\n"
          ]
        }
      ],
      "source": [
        "# FIXME: Classify lettters as uppercase/lowercase\n",
        "\n",
        "#Take the class column with label, convert to string, and pick out uppercase.\n",
        "abcxyz['is_upper'] = abcxyz['class'].str.isupper()\n",
        "#abcxyz['is_upper'] = abcupper\n",
        "print(abcxyz)\n",
        "\n",
        "#abcxyz['is_lower'] = abcxyz[abcxyz['class'].str.islower()]\n",
        "#abcxyz['is_upper'] = abcupper\n"
      ]
    },
    {
      "cell_type": "markdown",
      "source": [
        "#Select Model and Train - Binary (upper or lower case)"
      ],
      "metadata": {
        "id": "MWrjJ8kGup9F"
      }
    },
    {
      "cell_type": "code",
      "source": [
        "\n",
        "#Subset so it's small\n",
        "#full data - 60,000 rows takes forever to run (45 min.). This is cut down to 6,000 just for speed to run for submission, but we did try with 60,000 as well.\n",
        "\n",
        "\n",
        "abcxyz_small = abcxyz.iloc[:6000,:]\n",
        "\n",
        "# 1. Select candidate models, hyperparameter options, and evaluation metric\n",
        "#rf_param_grid = {'n_estimators': [50, 100, 150], 'max_depth': [None, 10, 20]}\n",
        "#xgb_param_grid = {'n_estimators': [50, 100, 150], 'max_depth': [3, 5, 7], 'learning_rate': [0.01, 0.1, 0.2]}\n",
        "\n",
        "scoring_metric = 'accuracy'\n",
        "\n",
        "# Data splitting\n",
        "X_bin=abcxyz_small['image_flat'].tolist()\n",
        "y_bin=abcxyz_small['is_upper'].tolist()\n",
        "\n",
        "\n",
        "# If it's not liking the given labels in y, try re-encoding them:\n",
        "# label_encoder = LabelEncoder()\n",
        "# y = label_encoder.fit_transform(y)\n",
        "\n",
        "# Split data into train and validation\n",
        "X_bin_train, X_bin_test, y_bin_train, y_bin_test = train_test_split(X_bin, y_bin, test_size=0.2, random_state=42)\n",
        "\n",
        "\n",
        "# Define how many folds you want to split on\n",
        "kf3 = KFold(n_splits=5, shuffle=True, random_state=37)\n",
        "\n",
        "# Define the parameter grid\n",
        "param_grid_bin = {\n",
        "    'n_estimators': [50, 100, 200],\n",
        "    'max_depth': [5, 10, 20],\n",
        "    'min_samples_split': [2, 5, 10]\n",
        "}\n",
        "\n",
        "# Instantiate the Random Forest classifier\n",
        "rf_bin = RandomForestClassifier()\n",
        "\n",
        "# Perform grid search\n",
        "grid_search_bin = GridSearchCV(estimator=rf_bin, param_grid=param_grid_bin, cv=kf3, scoring='accuracy', n_jobs=-1)\n",
        "grid_search_bin.fit(X_bin, y_bin)\n",
        "\n",
        "# Print the best parameters and best score\n",
        "print(\"Best Parameters:\", grid_search_bin.best_params_)\n",
        "print(\"Best Score:\", grid_search_bin.best_score_)\n",
        "\n",
        "\n",
        "\n",
        "\n",
        "##Rough work below - logistic regression failed and didn't converge. scaling had problems so went with random forest\n",
        "\n",
        "# Define the parameter grid - different regularization cost - https://stackoverflow.com/questions/21816346/fine-tuning-parameters-in-logistic-regression\n",
        "#param_grid3 =  {'C': [0.1, 1, 10] }\n",
        "\n",
        "\n",
        "# Instantiate the Random Forest classifier\n",
        "#lr = LogisticRegression()\n",
        "\n",
        "# Perform grid search\n",
        "#grid_search = GridSearchCV(estimator=lr, param_grid=param_grid3, cv=5, scoring='accuracy', n_jobs=-1)\n",
        "#grid_search.fit(X3, y3)\n",
        "\n",
        "# Print the best parameters and best score\n",
        "#print(\"Best Parameters:\", grid_search.best_params_)\n",
        "#print(\"Best Score:\", grid_search.best_score_)\n",
        "\n"
      ],
      "metadata": {
        "colab": {
          "base_uri": "https://localhost:8080/"
        },
        "id": "Y8J_1WRfuwws",
        "outputId": "0bd2de68-0ad5-470a-84be-f9dffa2e5060"
      },
      "execution_count": 17,
      "outputs": [
        {
          "output_type": "stream",
          "name": "stdout",
          "text": [
            "Best Parameters: {'max_depth': 20, 'min_samples_split': 5, 'n_estimators': 200}\n",
            "Best Score: 0.8231666666666667\n"
          ]
        }
      ]
    },
    {
      "cell_type": "code",
      "source": [
        "abcxyz['is_upper']\n"
      ],
      "metadata": {
        "colab": {
          "base_uri": "https://localhost:8080/"
        },
        "id": "ZY77kOB2yuBK",
        "outputId": "6662340d-06b1-4e25-ae53-fbc32427998f"
      },
      "execution_count": 34,
      "outputs": [
        {
          "output_type": "execute_result",
          "data": {
            "text/plain": [
              "0          True\n",
              "1         False\n",
              "5         False\n",
              "40         True\n",
              "43        False\n",
              "          ...  \n",
              "116283    False\n",
              "116284     True\n",
              "116287    False\n",
              "116290    False\n",
              "116306     True\n",
              "Name: is_upper, Length: 65926, dtype: bool"
            ]
          },
          "metadata": {},
          "execution_count": 34
        }
      ]
    },
    {
      "cell_type": "markdown",
      "source": [
        "##Test on Upper vs lower/validation set"
      ],
      "metadata": {
        "id": "67eaTK7vvWZV"
      }
    },
    {
      "cell_type": "code",
      "source": [
        "# Get the best model from hyperparameter tuning - adapted from lecture\n",
        "best_modelbin = grid_search_bin.best_estimator_\n",
        "\n",
        "#Train on full training set + test\n",
        "print(best_modelbin.fit(X_bin_train, y_bin_train))\n",
        "\n",
        "#Validation hold out performance\n",
        "y_val_predbin = best_modelbin.predict(X_bin_test)\n",
        "validation_score3 = accuracy_score(y_bin_test, y_val_predbin)\n",
        "print(f\"Validation Hold-out Score: {validation_score3}\")\n",
        "\n",
        "upperlower_labels_bin = [\"True\",\"False\"]\n",
        "\n",
        "\n",
        "# Evaluate the model using confusion matrix\n",
        "conf_matrixbin = confusion_matrix(y_bin_test, y_val_predbin) # same as accuracy here for multiclass regression\n",
        "\n",
        "print(conf_matrixbin)\n",
        "\n",
        "ax= plt.subplot()\n",
        "sns.heatmap(conf_matrixbin, annot=True, fmt='g', ax=ax);  #annot=True to annotate cells, ftm='g' to disable scientific notation\n",
        "\n",
        "#labels, title and ticks - using heat map from seaborn (https://stackoverflow.com/questions/19233771/sklearn-plot-confusion-matrix-with-labels)\n",
        "ax.set_xlabel('Predicted labels');ax.set_ylabel('True labels');\n",
        "ax.set_title('Confusion Matrix');\n",
        "ax.xaxis.set_ticklabels([\"Upper\",\"Lower\"]); ax.yaxis.set_ticklabels([\"Upper\",\"Lower\"]);\n",
        "\n",
        "\n",
        "# Print the results\n",
        "print(f\"Best Hyperparameters: {grid_search_bin.best_params_}\")\n",
        "#print(f\"F1 Score: {f1:.4f}\")\n",
        "print(\"Classification Report:\")\n",
        "print(classification_report(y_bin_test, y_val_predbin))\n",
        "print(f\"Accuracy is: {accuracy_score(y_bin_test,y_val_predbin)}\")\n",
        "print(\"Confusion Matrix:\")\n",
        "conf_matrixbin"
      ],
      "metadata": {
        "colab": {
          "base_uri": "https://localhost:8080/",
          "height": 802
        },
        "id": "jyN2zeemvdFn",
        "outputId": "e7d01f01-c747-47fc-deb0-88f300de4a37"
      },
      "execution_count": 39,
      "outputs": [
        {
          "output_type": "stream",
          "name": "stdout",
          "text": [
            "RandomForestClassifier(max_depth=20, min_samples_split=5, n_estimators=200)\n",
            "Validation Hold-out Score: 0.8083333333333333\n",
            "[[416 171]\n",
            " [ 59 554]]\n",
            "Best Hyperparameters: {'max_depth': 20, 'min_samples_split': 5, 'n_estimators': 200}\n",
            "Classification Report:\n",
            "              precision    recall  f1-score   support\n",
            "\n",
            "       False       0.88      0.71      0.78       587\n",
            "        True       0.76      0.90      0.83       613\n",
            "\n",
            "    accuracy                           0.81      1200\n",
            "   macro avg       0.82      0.81      0.81      1200\n",
            "weighted avg       0.82      0.81      0.81      1200\n",
            "\n",
            "Accuracy is: 0.8083333333333333\n",
            "Confusion Matrix:\n"
          ]
        },
        {
          "output_type": "execute_result",
          "data": {
            "text/plain": [
              "array([[416, 171],\n",
              "       [ 59, 554]])"
            ]
          },
          "metadata": {},
          "execution_count": 39
        },
        {
          "output_type": "display_data",
          "data": {
            "text/plain": [
              "<Figure size 640x480 with 2 Axes>"
            ],
            "image/png": "[encoded data removed]"
          },
          "metadata": {}
        }
      ]
    },
    {
      "cell_type": "markdown",
      "source": [
        "##Select Model and Train (predicting each case rather than binary)"
      ],
      "metadata": {
        "id": "x7cO__tYRrM1"
      }
    },
    {
      "cell_type": "code",
      "source": [
        "\n",
        "#Subset so it's small\n",
        "#full data - 60,000 rows takes forever to run (45 min.). This is cut down to 6,000 just for speed to run for submission, but we did try with 60,000 as well.\n",
        "\n",
        "\n",
        "abcxyz_small = abcxyz.iloc[:6000,:]\n",
        "\n",
        "# 1. Select candidate models, hyperparameter options, and evaluation metric\n",
        "#rf_param_grid = {'n_estimators': [50, 100, 150], 'max_depth': [None, 10, 20]}\n",
        "#xgb_param_grid = {'n_estimators': [50, 100, 150], 'max_depth': [3, 5, 7], 'learning_rate': [0.01, 0.1, 0.2]}\n",
        "\n",
        "scoring_metric = 'accuracy'\n",
        "\n",
        "# Data splitting\n",
        "X3=abcxyz_small['image_flat'].tolist()\n",
        "y3=abcxyz_small['class'].tolist()\n",
        "\n",
        "\n",
        "# If it's not liking the given labels in y, try re-encoding them:\n",
        "# label_encoder = LabelEncoder()\n",
        "# y = label_encoder.fit_transform(y)\n",
        "\n",
        "# Split data into train and validation\n",
        "X3_train, X3_test, y3_train, y3_test = train_test_split(X3, y3, test_size=0.2, random_state=42)\n",
        "\n",
        "\n",
        "# Define how many folds you want to split on\n",
        "kf3 = KFold(n_splits=5, shuffle=True, random_state=37)\n",
        "\n",
        "# Define the parameter grid\n",
        "param_grid3 = {\n",
        "    'n_estimators': [50, 100, 200],\n",
        "    'max_depth': [5, 10, 20],\n",
        "    'min_samples_split': [2, 5, 10]\n",
        "}\n",
        "\n",
        "# Instantiate the Random Forest classifier\n",
        "rf3 = RandomForestClassifier()\n",
        "\n",
        "# Perform grid search\n",
        "grid_search = GridSearchCV(estimator=rf3, param_grid=param_grid3, cv=kf3, scoring='accuracy', n_jobs=-1)\n",
        "grid_search.fit(X3, y3)\n",
        "\n",
        "# Print the best parameters and best score\n",
        "print(\"Best Parameters:\", grid_search.best_params_)\n",
        "print(\"Best Score:\", grid_search.best_score_)\n",
        "\n",
        "\n",
        "\n",
        "\n",
        "##Rough work below - logistic regression failed and didn't converge. scaling had problems so went with random forest\n",
        "\n",
        "# Define the parameter grid - different regularization cost - https://stackoverflow.com/questions/21816346/fine-tuning-parameters-in-logistic-regression\n",
        "#param_grid3 =  {'C': [0.1, 1, 10] }\n",
        "\n",
        "\n",
        "# Instantiate the Random Forest classifier\n",
        "#lr = LogisticRegression()\n",
        "\n",
        "# Perform grid search\n",
        "#grid_search = GridSearchCV(estimator=lr, param_grid=param_grid3, cv=5, scoring='accuracy', n_jobs=-1)\n",
        "#grid_search.fit(X3, y3)\n",
        "\n",
        "# Print the best parameters and best score\n",
        "#print(\"Best Parameters:\", grid_search.best_params_)\n",
        "#print(\"Best Score:\", grid_search.best_score_)\n",
        "\n"
      ],
      "metadata": {
        "colab": {
          "base_uri": "https://localhost:8080/"
        },
        "id": "EjqNl3cDRuiz",
        "outputId": "42d7146c-915c-4898-b31d-2a4e3082e9a8"
      },
      "execution_count": 7,
      "outputs": [
        {
          "output_type": "stream",
          "name": "stdout",
          "text": [
            "Best Parameters: {'max_depth': 20, 'min_samples_split': 2, 'n_estimators': 200}\n",
            "Best Score: 0.7948333333333334\n"
          ]
        }
      ]
    },
    {
      "cell_type": "code",
      "source": [
        "# Get the best model from hyperparameter tuning - adapted from lecture\n",
        "best_model3 = grid_search.best_estimator_\n",
        "\n",
        "#Train on full training set + test\n",
        "print(best_model3.fit(X3_train, y3_train))\n",
        "\n",
        "#Validation hold out performance\n",
        "y_val_pred3 = best_model3.predict(X3_test)\n",
        "validation_score3 = accuracy_score(y3_test, y_val_pred3)\n",
        "print(f\"Validation Hold-out Score: {validation_score3}\")\n",
        "\n",
        "upperlower_labels = [\"a\",\"b\",\"c\",\"x\",\"y\",\"z\",\"A\",\"B\",\"C\",\"X\",\"Y\",\"Z\"]\n",
        "\n",
        "\n",
        "# Evaluate the model using confusion matrix\n",
        "conf_matrix3 = confusion_matrix(y3_test, y_val_pred3,labels=upperlower_labels) # same as accuracy here for multiclass regression\n",
        "\n",
        "\n",
        "\n",
        "ax= plt.subplot()\n",
        "sns.heatmap(conf_matrix, annot=True, fmt='g', ax=ax);  #annot=True to annotate cells, ftm='g' to disable scientific notation\n",
        "\n",
        "#labels, title and ticks - using heat map from seaborn (https://stackoverflow.com/questions/19233771/sklearn-plot-confusion-matrix-with-labels)\n",
        "ax.set_xlabel('Predicted labels');ax.set_ylabel('True labels');\n",
        "ax.set_title('Confusion Matrix');\n",
        "ax.xaxis.set_ticklabels([\"a\",\"b\",\"c\",\"x\",\"y\",\"z\",\"A\",\"B\",\"C\",\"X\",\"Y\",\"Z\"]); ax.yaxis.set_ticklabels([\"a\",\"b\",\"c\",\"x\",\"y\",\"z\",\"A\",\"B\",\"C\",\"X\",\"Y\",\"Z\"]);\n",
        "\n",
        "\n",
        "# Print the results\n",
        "print(f\"Best Hyperparameters: {grid_search.best_params_}\")\n",
        "#print(f\"F1 Score: {f1:.4f}\")\n",
        "print(\"Classification Report:\")\n",
        "print(classification_report(y3_test, y_val_pred3))\n",
        "print(f\"Accuracy is: {accuracy_score(y3_test,y_val_pred3)}\")\n",
        "print(\"Confusion Matrix:\")\n",
        "conf_matrix3"
      ],
      "metadata": {
        "colab": {
          "base_uri": "https://localhost:8080/",
          "height": 1000
        },
        "id": "DXhv_KO-b_wv",
        "outputId": "981274a5-8bc9-4897-dd11-45cbc7fbdd0c"
      },
      "execution_count": 15,
      "outputs": [
        {
          "output_type": "stream",
          "name": "stdout",
          "text": [
            "RandomForestClassifier(max_depth=20, n_estimators=200)\n",
            "Validation Hold-out Score: 0.78\n",
            "[[199   0   0   0   0   1   5   5   1   0   1   0]\n",
            " [  0 101   0   0   0   0   1   1   0   0   2   0]\n",
            " [  4   0   0   0   0   0   0   1  61   0   0   0]\n",
            " [  1   1   0  30   1   1   5   0   1  23   1   1]\n",
            " [  4   3   0   0  15   0   1   1   0   1  34   0]\n",
            " [  1   2   0   0   0  51   1   1   3   1   1  19]\n",
            " [  8   0   0   0   0   0 120   0   0   0   2   0]\n",
            " [  2   2   0   0   0   0   2  68   3   0   1   0]\n",
            " [  9   0   0   0   0   1   0   0 201   0   0   0]\n",
            " [  1   0   0   8   0   0   2   0   0  47   3   0]\n",
            " [  0   2   0   0  11   0   0   1   1   0  74   0]\n",
            " [  1   0   0   0   0   8   1   3   0   0   1  30]]\n",
            "Best Hyperparameters: {'max_depth': 20, 'min_samples_split': 2, 'n_estimators': 200}\n",
            "Classification Report:\n",
            "              precision    recall  f1-score   support\n",
            "\n",
            "           A       0.87      0.92      0.90       130\n",
            "           B       0.84      0.87      0.86        78\n",
            "           C       0.74      0.95      0.83       211\n",
            "           X       0.65      0.77      0.71        61\n",
            "           Y       0.62      0.83      0.71        89\n",
            "           Z       0.60      0.68      0.64        44\n",
            "           a       0.87      0.94      0.90       212\n",
            "           b       0.91      0.96      0.94       105\n",
            "           c       0.00      0.00      0.00        66\n",
            "           x       0.79      0.46      0.58        65\n",
            "           y       0.56      0.25      0.35        59\n",
            "           z       0.82      0.64      0.72        80\n",
            "\n",
            "    accuracy                           0.78      1200\n",
            "   macro avg       0.69      0.69      0.68      1200\n",
            "weighted avg       0.74      0.78      0.75      1200\n",
            "\n",
            "Accuracy is: 0.78\n",
            "Confusion Matrix:\n"
          ]
        },
        {
          "output_type": "stream",
          "name": "stderr",
          "text": [
            "/usr/local/lib/python3.10/dist-packages/sklearn/metrics/_classification.py:1344: UndefinedMetricWarning: Precision and F-score are ill-defined and being set to 0.0 in labels with no predicted samples. Use `zero_division` parameter to control this behavior.\n",
            "  _warn_prf(average, modifier, msg_start, len(result))\n",
            "/usr/local/lib/python3.10/dist-packages/sklearn/metrics/_classification.py:1344: UndefinedMetricWarning: Precision and F-score are ill-defined and being set to 0.0 in labels with no predicted samples. Use `zero_division` parameter to control this behavior.\n",
            "  _warn_prf(average, modifier, msg_start, len(result))\n",
            "/usr/local/lib/python3.10/dist-packages/sklearn/metrics/_classification.py:1344: UndefinedMetricWarning: Precision and F-score are ill-defined and being set to 0.0 in labels with no predicted samples. Use `zero_division` parameter to control this behavior.\n",
            "  _warn_prf(average, modifier, msg_start, len(result))\n"
          ]
        },
        {
          "output_type": "execute_result",
          "data": {
            "text/plain": [
              "array([[199,   0,   0,   0,   0,   1,   5,   5,   1,   0,   1,   0],\n",
              "       [  0, 101,   0,   0,   0,   0,   1,   1,   0,   0,   2,   0],\n",
              "       [  4,   0,   0,   0,   0,   0,   0,   1,  61,   0,   0,   0],\n",
              "       [  1,   1,   0,  30,   1,   1,   5,   0,   1,  23,   1,   1],\n",
              "       [  4,   3,   0,   0,  15,   0,   1,   1,   0,   1,  34,   0],\n",
              "       [  1,   2,   0,   0,   0,  51,   1,   1,   3,   1,   1,  19],\n",
              "       [  8,   0,   0,   0,   0,   0, 120,   0,   0,   0,   2,   0],\n",
              "       [  2,   2,   0,   0,   0,   0,   2,  68,   3,   0,   1,   0],\n",
              "       [  9,   0,   0,   0,   0,   1,   0,   0, 201,   0,   0,   0],\n",
              "       [  1,   0,   0,   8,   0,   0,   2,   0,   0,  47,   3,   0],\n",
              "       [  0,   2,   0,   0,  11,   0,   0,   1,   1,   0,  74,   0],\n",
              "       [  1,   0,   0,   0,   0,   8,   1,   3,   0,   0,   1,  30]])"
            ]
          },
          "metadata": {},
          "execution_count": 15
        },
        {
          "output_type": "display_data",
          "data": {
            "text/plain": [
              "<Figure size 640x480 with 2 Axes>"
            ],
            "image/png": "[encoded data removed]"
          },
          "metadata": {}
        }
      ]
    },
    {
      "cell_type": "markdown",
      "source": [
        "##Miscellaneous Practice"
      ],
      "metadata": {
        "id": "20jlLcAD7UKA"
      }
    },
    {
      "cell_type": "code",
      "source": [
        "# Using the helper functions\n",
        "\n",
        "# Plot a random image from the training set\n",
        "index = np.random.randint(0, len(emnist_train))\n",
        "show_image(emnist_train.iloc[index])\n",
        "\n",
        "# Show a random set of 25 images in a 5x5 grid\n",
        "show_grid(emnist_train.sample(25), title='Random 25 images')\n",
        "\n",
        "# Show the first 25 images in a 5x5 grid\n",
        "# show_grid(train[:25], title='First 25 images')\n",
        "\n",
        "# Isn't it nice to have a helper function to do this for you?"
      ],
      "metadata": {
        "id": "MYaYiD0kSJ3Y",
        "colab": {
          "base_uri": "https://localhost:8080/",
          "height": 1000
        },
        "outputId": "496767e6-1d8b-4a10-9d09-60482eb4fbe4"
      },
      "execution_count": null,
      "outputs": [
        {
          "output_type": "display_data",
          "data": {
            "text/plain": [
              "<Figure size 640x480 with 1 Axes>"
            ],
            "image/png": "[encoded data removed]"
          },
          "metadata": {}
        },
        {
          "output_type": "display_data",
          "data": {
            "text/plain": [
              "<Figure size 2000x1000 with 25 Axes>"
            ],
            "image/png": "[encoded data removed]"
          },
          "metadata": {}
        }
      ]
    }
  ],
  "metadata": {
    "kernelspec": {
      "display_name": "Python 3",
      "name": "python3"
    },
    "language_info": {
      "codemirror_mode": {
        "name": "ipython",
        "version": 3
      },
      "file_extension": ".py",
      "mimetype": "text/x-python",
      "name": "python",
      "nbconvert_exporter": "python",
      "pygments_lexer": "ipython3",
      "version": "3.11.7"
    },
    "colab": {
      "provenance": [],
      "gpuType": "T4",
      "include_colab_link": true
    }
  },
  "nbformat": 4,
  "nbformat_minor": 0
}