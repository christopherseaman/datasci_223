{
 "cells": [
  {
   "cell_type": "markdown",
   "metadata": {},
   "source": [
    "# Using DuckDB\n",
    "\n",
    "1. Install packages\n",
    "    1. `duckdb-engine` provides the database\n",
    "    2. `jupysql` provides jupyter magic (**may not play nice with `ipython-sql`**)"
   ]
  },
  {
   "cell_type": "code",
   "execution_count": null,
   "metadata": {},
   "outputs": [],
   "source": [
    "# Install the required packages (duckdb, pandas, pyarrow)\n",
    "# -U is for upgrade\n",
    "# -q is for quiet\n",
    "%pip install -qU duckdb-engine pandas pyarrow jupysql"
   ]
  },
  {
   "cell_type": "code",
   "execution_count": null,
   "metadata": {},
   "outputs": [],
   "source": [
    "import os\n",
    "import duckdb\n",
    "import pandas as pd\n",
    "\n",
    "%load_ext sql\n",
    "%config SqlMagic.autopandas = True  # Return Pandas DataFrames instead of regular result sets\n",
    "%config SqlMagic.displaycon = False # Don't show connection string after execute\n",
    "\n",
    "# Create a connection to the DuckDB database\n",
    "%sql duckdb://"
   ]
  },
  {
   "cell_type": "code",
   "execution_count": null,
   "metadata": {},
   "outputs": [],
   "source": [
    "# Load chinook.sqlite into the DuckDB database\n",
    "%sql DETACH DATABASE IF EXISTS chinook # Detach the database if it's already attached\n",
    "%sql ATTACH DATABASE 'chinook.sqlite' AS chinook # Attach the database in the 'chinook' schema\n",
    "\n",
    "# Test the connection using a query\n",
    "%sql SELECT * FROM chinook.albums LIMIT 5"
   ]
  },
  {
   "cell_type": "code",
   "execution_count": null,
   "metadata": {},
   "outputs": [],
   "source": [
    "# We can copy all tables to the default schema\n"
   ]
  },
  {
   "cell_type": "code",
   "execution_count": null,
   "metadata": {},
   "outputs": [],
   "source": [
    "# Load the F1 csv's into the DuckDB database under the 'f1' schema\n",
    "\n",
    "# Create a new schema for the F1 data, if it doesn't already exist\n",
    "%sql CREATE SCHEMA IF NOT EXISTS f1 \n",
    "\n",
    "# Load the csv's into the database\n",
    "data_files = [f for f in os.listdir('practice-f1/data') if f.endswith('.csv')]\n",
    "for f in data_files:\n",
    "    table_name = f.split('.')[0]\n",
    "    %sql DROP TABLE IF EXISTS f1.{{table_name}}\n",
    "    %sql CREATE TABLE f1.{{table_name}} AS SELECT * FROM read_csv_auto('practice-f1/data/{{f}}')\n",
    "\n",
    "# Test the connection using a query\n",
    "%sql SELECT table_schema, table_name FROM information_schema.tables WHERE table_schema = 'f1'"
   ]
  },
  {
   "cell_type": "code",
   "execution_count": null,
   "metadata": {},
   "outputs": [],
   "source": [
    "# Show the tables in the 'f1' schema\n",
    "%sql SELECT * FROM f1.circuits LIMIT 5"
   ]
  },
  {
   "cell_type": "code",
   "execution_count": null,
   "metadata": {},
   "outputs": [],
   "source": []
  }
 ],
 "metadata": {
  "kernelspec": {
   "display_name": ".venv",
   "language": "python",
   "name": "python3"
  },
  "language_info": {
   "codemirror_mode": {
    "name": "ipython",
    "version": 3
   },
   "file_extension": ".py",
   "mimetype": "text/x-python",
   "name": "python",
   "nbconvert_exporter": "python",
   "pygments_lexer": "ipython3",
   "version": "3.11.6"
  }
 },
 "nbformat": 4,
 "nbformat_minor": 2
}
