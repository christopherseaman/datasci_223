{
  "nbformat": 4,
  "nbformat_minor": 0,
  "metadata": {
    "colab": {
      "provenance": [],
      "include_colab_link": true
    },
    "kernelspec": {
      "name": "python3",
      "display_name": "Python 3"
    },
    "language_info": {
      "name": "python"
    }
  },
  "cells": [
    {
      "cell_type": "markdown",
      "metadata": {
        "id": "view-in-github",
        "colab_type": "text"
      },
      "source": [
        "<a href=\"https://colab.research.google.com/github/kiar24/datasci_223/blob/Final-Project/FinalProjectSubmission223.ipynb\" target=\"_parent\"><img src=\"https://colab.research.google.com/assets/colab-badge.svg\" alt=\"Open In Colab\"/></a>"
      ]
    },
    {
      "cell_type": "code",
      "execution_count": null,
      "metadata": {
        "colab": {
          "base_uri": "https://localhost:8080/"
        },
        "id": "ipcsvViqfjfU",
        "outputId": "c8bff287-22fb-4717-fe22-c739b5d7fad2"
      },
      "outputs": [
        {
          "output_type": "stream",
          "name": "stdout",
          "text": [
            "Requirement already satisfied: opendatasets in /usr/local/lib/python3.10/dist-packages (0.1.22)\n",
            "Requirement already satisfied: tqdm in /usr/local/lib/python3.10/dist-packages (from opendatasets) (4.66.2)\n",
            "Requirement already satisfied: kaggle in /usr/local/lib/python3.10/dist-packages (from opendatasets) (1.5.16)\n",
            "Requirement already satisfied: click in /usr/local/lib/python3.10/dist-packages (from opendatasets) (8.1.7)\n",
            "Requirement already satisfied: six>=1.10 in /usr/local/lib/python3.10/dist-packages (from kaggle->opendatasets) (1.16.0)\n",
            "Requirement already satisfied: certifi in /usr/local/lib/python3.10/dist-packages (from kaggle->opendatasets) (2024.2.2)\n",
            "Requirement already satisfied: python-dateutil in /usr/local/lib/python3.10/dist-packages (from kaggle->opendatasets) (2.8.2)\n",
            "Requirement already satisfied: requests in /usr/local/lib/python3.10/dist-packages (from kaggle->opendatasets) (2.31.0)\n",
            "Requirement already satisfied: python-slugify in /usr/local/lib/python3.10/dist-packages (from kaggle->opendatasets) (8.0.4)\n",
            "Requirement already satisfied: urllib3 in /usr/local/lib/python3.10/dist-packages (from kaggle->opendatasets) (2.0.7)\n",
            "Requirement already satisfied: bleach in /usr/local/lib/python3.10/dist-packages (from kaggle->opendatasets) (6.1.0)\n",
            "Requirement already satisfied: webencodings in /usr/local/lib/python3.10/dist-packages (from bleach->kaggle->opendatasets) (0.5.1)\n",
            "Requirement already satisfied: text-unidecode>=1.3 in /usr/local/lib/python3.10/dist-packages (from python-slugify->kaggle->opendatasets) (1.3)\n",
            "Requirement already satisfied: charset-normalizer<4,>=2 in /usr/local/lib/python3.10/dist-packages (from requests->kaggle->opendatasets) (3.3.2)\n",
            "Requirement already satisfied: idna<4,>=2.5 in /usr/local/lib/python3.10/dist-packages (from requests->kaggle->opendatasets) (3.6)\n",
            "Requirement already satisfied: pandas in /usr/local/lib/python3.10/dist-packages (1.5.3)\n",
            "\u001b[31mERROR: Could not find a version that satisfies the requirement PIL (from versions: none)\u001b[0m\u001b[31m\n",
            "\u001b[0m\u001b[31mERROR: No matching distribution found for PIL\u001b[0m\u001b[31m\n",
            "\u001b[0m"
          ]
        }
      ],
      "source": [
        "#https://www.geeksforgeeks.org/how-to-import-kaggle-datasets-directly-into-google-colab/\n",
        "#download opendatasets to download kaggle dataset, pandas as well\n",
        "#On kaggle account - go to settings, scroll down click new API token, and download kaggle.json - open it up and store username and password\n",
        "%pip install opendatasets\n",
        "%pip install pandas PIL numpy scikit-learn\n",
        "import opendatasets as od\n",
        "from sklearn.model_selection import train_test_split, cross_val_score, GridSearchCV, StratifiedKFold, ParameterGrid, KFold"
      ]
    },
    {
      "cell_type": "code",
      "source": [
        "#the following dataset is used - download if not working to see, but when you run download provide username and password from kaggle.json earlier\n",
        "od.download(\n",
        "    \"https://www.kaggle.com/datasets/jonathanoheix/face-expression-recognition-dataset\"\n",
        ")"
      ],
      "metadata": {
        "colab": {
          "base_uri": "https://localhost:8080/"
        },
        "id": "6B69C67j2byh",
        "outputId": "41287054-56a7-4bc6-cb79-1a55aeeee6f5"
      },
      "execution_count": null,
      "outputs": [
        {
          "output_type": "stream",
          "name": "stdout",
          "text": [
            "Please provide your Kaggle credentials to download this dataset. Learn more: http://bit.ly/kaggle-creds\n",
            "Your Kaggle username: taimoorqureshi\n",
            "Your Kaggle Key: ··········\n",
            "Downloading face-expression-recognition-dataset.zip to ./face-expression-recognition-dataset\n"
          ]
        },
        {
          "output_type": "stream",
          "name": "stderr",
          "text": [
            "100%|██████████| 121M/121M [00:03<00:00, 34.9MB/s]\n"
          ]
        },
        {
          "output_type": "stream",
          "name": "stdout",
          "text": [
            "\n"
          ]
        }
      ]
    },
    {
      "cell_type": "code",
      "source": [
        "from PIL import Image\n",
        "import os\n",
        "\n",
        "# Path to the folder in dir containing image\n",
        "folder_path = \"face-expression-recognition-dataset/images/train/angry\"\n",
        "\n",
        "# Name of the image file - example\n",
        "image_name = \"0.jpg\"\n",
        "\n",
        "# Construct the full path to the image\n",
        "image_path = os.path.join(folder_path, image_name)\n",
        "\n",
        "# Open the image\n",
        "image = Image.open(image_path)\n",
        "\n",
        "# Get the dimensions of the image\n",
        "width, height = image.size\n",
        "\n",
        "# If the image is in color, get the number of channels\n",
        "if image.mode == \"RGB\":\n",
        "    channels = 3\n",
        "elif image.mode == \"RGBA\":\n",
        "    channels = 4\n",
        "else:\n",
        "    channels = 1\n",
        "\n",
        "print(\"Image shape:\", width, \"x\", height, \"x\", channels)\n"
      ],
      "metadata": {
        "colab": {
          "base_uri": "https://localhost:8080/"
        },
        "id": "OuHiL-jRMe2v",
        "outputId": "d80e31be-a8e4-4f9d-f9e7-1b78d99e58fe"
      },
      "execution_count": null,
      "outputs": [
        {
          "output_type": "stream",
          "name": "stdout",
          "text": [
            "Image shape: 48 x 48 x 1\n"
          ]
        }
      ]
    },
    {
      "cell_type": "code",
      "source": [
        "import os\n",
        "\n",
        "# Get the current working directory\n",
        "current_directory = os.getcwd()\n",
        "\n",
        "print(\"Current working directory:\", current_directory)\n"
      ],
      "metadata": {
        "colab": {
          "base_uri": "https://localhost:8080/"
        },
        "id": "NKuhsrXcNCzK",
        "outputId": "d8ad0626-1882-4dbc-de3c-aa25ed5a87ff"
      },
      "execution_count": null,
      "outputs": [
        {
          "output_type": "stream",
          "name": "stdout",
          "text": [
            "Current working directory: /content\n"
          ]
        }
      ]
    },
    {
      "cell_type": "code",
      "source": [
        "import os\n",
        "from PIL import Image\n",
        "import numpy as np\n",
        "import pandas as pd\n",
        "from sklearn.utils import shuffle\n",
        "\n",
        "\n",
        "#Function for all images,\n",
        "#Using Image.open from PIL, open image from provided path\n",
        "def load_image(image_path):\n",
        "    with Image.open(image_path) as img: #convert to RGB and size to 28 by 28. Converts to numpy array and flattens to 1 Dimension array.\n",
        "        img = img.convert('RGB').resize((28, 28))\n",
        "        return np.array(img).flatten()\n",
        "\n",
        "# Initialize lists to store image data and labels\n",
        "images = []\n",
        "labels = []\n",
        "\n",
        "# Traverse directories inside train folder of dataset using os and then within that go through each image in each emotion folder, assign image to image folder\n",
        "for emotion in os.listdir('face-expression-recognition-dataset/images/train'):\n",
        "    emotion_path = os.path.join('face-expression-recognition-dataset/images/train', emotion)\n",
        "    if os.path.isdir(emotion_path):\n",
        "        for image in os.listdir(emotion_path):\n",
        "            image_path = os.path.join(emotion_path, image)\n",
        "            if os.path.isfile(image_path):\n",
        "                # Load image, scale and tune it to requirements using function load_image above, and append to existing images column\n",
        "                image_data = load_image(image_path)\n",
        "                images.append(image_data)\n",
        "                # Use the folder name (emotion) for the label column - append to it like images\n",
        "                labels.append(emotion)\n",
        "\n",
        "# Convert lists to numpy arrays\n",
        "images = np.array(images)\n",
        "labels = np.array(labels)\n",
        "\n",
        "# Randomize the order of the images and labels\n",
        "images, labels = shuffle(images, labels, random_state=42)"
      ],
      "metadata": {
        "id": "TFe9UULGgoI_"
      },
      "execution_count": null,
      "outputs": []
    },
    {
      "cell_type": "code",
      "source": [
        "print(labels)\n"
      ],
      "metadata": {
        "colab": {
          "base_uri": "https://localhost:8080/"
        },
        "id": "Dx9KAn_lg8M0",
        "outputId": "41c754b9-6f39-4167-8d26-dfd35d9edc66"
      },
      "execution_count": null,
      "outputs": [
        {
          "output_type": "stream",
          "name": "stdout",
          "text": [
            "['surprise' 'surprise' 'happy' ... 'sad' 'neutral' 'surprise']\n"
          ]
        }
      ]
    },
    {
      "cell_type": "code",
      "source": [
        "# Flatten the image data\n",
        "flattened_images = [image.flatten() for image in images]\n",
        "\n",
        "# Create DataFrame with pandas\n",
        "Emotion_image = pd.DataFrame()\n",
        "Emotion_image['label'] = labels\n",
        "Emotion_image['image'] = flattened_images"
      ],
      "metadata": {
        "id": "J5pgMG1Uh7e1"
      },
      "execution_count": null,
      "outputs": []
    },
    {
      "cell_type": "code",
      "source": [
        "print(Emotion_image)\n",
        "#unique length of values in image column - only one\n",
        "print(Emotion_image['image'].apply(len).unique())"
      ],
      "metadata": {
        "id": "gIwOyIH8iKfX",
        "outputId": "58b75abb-5d17-418e-e668-ad74ec87b8eb",
        "colab": {
          "base_uri": "https://localhost:8080/"
        }
      },
      "execution_count": null,
      "outputs": [
        {
          "output_type": "stream",
          "name": "stdout",
          "text": [
            "          label                                              image\n",
            "0      surprise  [255, 255, 255, 254, 254, 254, 254, 254, 254, ...\n",
            "1      surprise  [211, 211, 211, 216, 216, 216, 217, 217, 217, ...\n",
            "2         happy  [211, 211, 211, 139, 139, 139, 129, 129, 129, ...\n",
            "3         happy  [56, 56, 56, 58, 58, 58, 58, 58, 58, 62, 62, 6...\n",
            "4         angry  [37, 37, 37, 48, 48, 48, 61, 61, 61, 43, 43, 4...\n",
            "...         ...                                                ...\n",
            "28816  surprise  [251, 251, 251, 254, 254, 254, 247, 247, 247, ...\n",
            "28817     happy  [202, 202, 202, 206, 206, 206, 225, 225, 225, ...\n",
            "28818       sad  [187, 187, 187, 143, 143, 143, 153, 153, 153, ...\n",
            "28819   neutral  [10, 10, 10, 7, 7, 7, 9, 9, 9, 10, 10, 10, 14,...\n",
            "28820  surprise  [229, 229, 229, 230, 230, 230, 231, 231, 231, ...\n",
            "\n",
            "[28821 rows x 2 columns]\n",
            "[2352]\n"
          ]
        }
      ]
    },
    {
      "cell_type": "code",
      "source": [
        "#Mapping is used to assign the emotions (from column in train_image) to either positive or negative emotion (Binary)\n",
        "emotion_binarymapping = {\n",
        "    'happy': 'Positive',\n",
        "    'surprise': 'Positive',\n",
        "    'neutral': 'Positive',\n",
        "    'angry': 'Negative',\n",
        "    'disgust': 'Negative',\n",
        "    'fear': 'Negative',\n",
        "    'sad': 'Negative',\n",
        "}\n",
        "\n",
        "#label column is mapped as above to positive or negative and then made 0 or 1 for purposes of binary classification\n",
        "Emotion_image['emotion_binary'] = Emotion_image['label'].map(emotion_binarymapping)\n",
        "Emotion_image['emotion_binary'] = Emotion_image['emotion_binary'].map({'Positive': 1, 'Negative': 0})\n"
      ],
      "metadata": {
        "id": "zl5Eb9I3cqvS"
      },
      "execution_count": null,
      "outputs": []
    },
    {
      "cell_type": "code",
      "source": [
        "print(Emotion_image['emotion_binary'])\n",
        "#count values of positive (1) or negative (0)\n",
        "print(Emotion_image['emotion_binary'].value_counts())\n"
      ],
      "metadata": {
        "colab": {
          "base_uri": "https://localhost:8080/"
        },
        "id": "zU7Cm2gjc8xC",
        "outputId": "9f370d08-e05e-4507-a491-2fb30a1a2aa5"
      },
      "execution_count": null,
      "outputs": [
        {
          "output_type": "stream",
          "name": "stdout",
          "text": [
            "0        1\n",
            "1        1\n",
            "2        1\n",
            "3        1\n",
            "4        0\n",
            "        ..\n",
            "28816    1\n",
            "28817    1\n",
            "28818    0\n",
            "28819    1\n",
            "28820    1\n",
            "Name: emotion_binary, Length: 28821, dtype: int64\n",
            "1    15351\n",
            "0    13470\n",
            "Name: emotion_binary, dtype: int64\n"
          ]
        }
      ]
    },
    {
      "cell_type": "code",
      "source": [
        "#%pip install tensorflow\n",
        "#%pip install keras\n",
        "import sklearn.model_selection\n",
        "import numpy as np\n",
        "\n",
        "#Input and output columns\n",
        "X = np.array(Emotion_image['image'].tolist())/255.0 #Normalize\n",
        "Y = Emotion_image['emotion_binary'].values #values for numpy array!\n",
        "\n",
        "# Split the data into training and testing sets with better randomness after shuffling earlier\n",
        "Input_train, Input_test, Output_train, Output_test = train_test_split(X, Y, test_size=0.3, random_state=20)\n"
      ],
      "metadata": {
        "id": "e6ySr7YMi32B"
      },
      "execution_count": null,
      "outputs": []
    },
    {
      "cell_type": "code",
      "source": [],
      "metadata": {
        "id": "IsmoD-Z3G8Uy"
      },
      "execution_count": null,
      "outputs": []
    },
    {
      "cell_type": "code",
      "source": [
        "print(Input_train)\n",
        "print(Output_train)\n",
        "\n"
      ],
      "metadata": {
        "colab": {
          "base_uri": "https://localhost:8080/"
        },
        "id": "1RcKR8gbmSL2",
        "outputId": "02ff01e4-9346-456c-ca01-eeea80569874"
      },
      "execution_count": null,
      "outputs": [
        {
          "output_type": "stream",
          "name": "stdout",
          "text": [
            "[[0.35686275 0.35686275 0.35686275 ... 0.66666667 0.66666667 0.66666667]\n",
            " [0.67843137 0.67843137 0.67843137 ... 0.90196078 0.90196078 0.90196078]\n",
            " [0.18431373 0.18431373 0.18431373 ... 0.30588235 0.30588235 0.30588235]\n",
            " ...\n",
            " [0.30980392 0.30980392 0.30980392 ... 0.88235294 0.88235294 0.88235294]\n",
            " [0.88235294 0.88235294 0.88235294 ... 1.         1.         1.        ]\n",
            " [0.45098039 0.45098039 0.45098039 ... 0.18039216 0.18039216 0.18039216]]\n",
            "[0 1 1 ... 1 1 0]\n"
          ]
        }
      ]
    },
    {
      "cell_type": "code",
      "source": [
        "#Output_train = np.array([1 if label == 'Positive' else 0 for label in Output_train])\n",
        "print(Output_train)\n",
        "Output_train.shape\n",
        "\n",
        "#input_size = 784\n",
        "#Input_train = np.array([np.resize(image, input_size) for image in images])\n",
        "#Output_train = np.array([np.resize(image, input_size) for image in images])"
      ],
      "metadata": {
        "id": "535HEwPlkndl",
        "colab": {
          "base_uri": "https://localhost:8080/"
        },
        "outputId": "6c866e6e-b1d8-4fb1-93ac-fe0108e26537"
      },
      "execution_count": null,
      "outputs": [
        {
          "output_type": "stream",
          "name": "stdout",
          "text": [
            "[0 1 1 ... 1 1 0]\n"
          ]
        },
        {
          "output_type": "execute_result",
          "data": {
            "text/plain": [
              "(20174,)"
            ]
          },
          "metadata": {},
          "execution_count": 16
        }
      ]
    },
    {
      "cell_type": "code",
      "source": [
        "print(Input_train.shape)\n",
        "print(Output_train.shape)\n",
        "print(type(Input_train))\n",
        "print(type(Output_train))\n",
        "print(Input_train.dtype)\n",
        "print(Output_train.dtype)"
      ],
      "metadata": {
        "colab": {
          "base_uri": "https://localhost:8080/"
        },
        "id": "168WQZvzeIvU",
        "outputId": "f98b59dc-c72b-4b80-8df1-1432b03ed6ba"
      },
      "execution_count": null,
      "outputs": [
        {
          "output_type": "stream",
          "name": "stdout",
          "text": [
            "(20174, 2352)\n",
            "(20174,)\n",
            "<class 'numpy.ndarray'>\n",
            "<class 'numpy.ndarray'>\n",
            "float64\n",
            "int64\n"
          ]
        }
      ]
    },
    {
      "cell_type": "code",
      "source": [
        "from keras.models import Sequential\n",
        "from keras.layers import Dense, Flatten, Reshape, Dropout\n",
        "from keras.regularizers import l2\n",
        "\n",
        "\n",
        "input_size = 2352 # images are 28x28\n",
        "hidden_size = 16  # parameter for the hidden layer (careful tuning this because overfitting)\n",
        "num_classes = 1 #Binary classifaction! For sigmoidal, it can be assigned either 0 or 1\n",
        "\n",
        "\n",
        "#Sequential - add layers (RelU is used)\n",
        "NN_model = Sequential([\n",
        "    Dense(64, activation='relu', input_shape=(input_size,)),\n",
        "    Dense(64, activation='relu'),\n",
        "    Dense(num_classes, activation='sigmoid')\n",
        "])\n",
        "\n",
        "#Loss function is binary_crossentropy because binary classification, adam is good optimizer. Accuracy metric\n",
        "NN_model.compile(optimizer='adam',\n",
        "              loss='binary_crossentropy',\n",
        "              metrics=['accuracy'])\n",
        "\n",
        "#Fit model - 400 batch size at a time for 20 epochs\n",
        "NN_model.fit(Input_train, Output_train, batch_size=400, epochs=20)"
      ],
      "metadata": {
        "colab": {
          "base_uri": "https://localhost:8080/"
        },
        "id": "EhdKLnPEkfrX",
        "outputId": "b6e8ebce-0d49-4998-f778-2182bd95c5ce"
      },
      "execution_count": null,
      "outputs": [
        {
          "output_type": "stream",
          "name": "stdout",
          "text": [
            "Epoch 1/20\n",
            "51/51 [==============================] - 2s 18ms/step - loss: 0.7112 - accuracy: 0.5451\n",
            "Epoch 2/20\n",
            "51/51 [==============================] - 1s 15ms/step - loss: 0.6804 - accuracy: 0.5626\n",
            "Epoch 3/20\n",
            "51/51 [==============================] - 1s 11ms/step - loss: 0.6752 - accuracy: 0.5781\n",
            "Epoch 4/20\n",
            "51/51 [==============================] - 1s 10ms/step - loss: 0.6696 - accuracy: 0.5905\n",
            "Epoch 5/20\n",
            "51/51 [==============================] - 1s 11ms/step - loss: 0.6714 - accuracy: 0.5853\n",
            "Epoch 6/20\n",
            "51/51 [==============================] - 1s 11ms/step - loss: 0.6695 - accuracy: 0.5879\n",
            "Epoch 7/20\n",
            "51/51 [==============================] - 1s 11ms/step - loss: 0.6661 - accuracy: 0.5984\n",
            "Epoch 8/20\n",
            "51/51 [==============================] - 1s 11ms/step - loss: 0.6628 - accuracy: 0.6007\n",
            "Epoch 9/20\n",
            "51/51 [==============================] - 1s 10ms/step - loss: 0.6574 - accuracy: 0.6111\n",
            "Epoch 10/20\n",
            "51/51 [==============================] - 1s 11ms/step - loss: 0.6573 - accuracy: 0.6090\n",
            "Epoch 11/20\n",
            "51/51 [==============================] - 1s 11ms/step - loss: 0.6550 - accuracy: 0.6143\n",
            "Epoch 12/20\n",
            "51/51 [==============================] - 1s 10ms/step - loss: 0.6559 - accuracy: 0.6094\n",
            "Epoch 13/20\n",
            "51/51 [==============================] - 1s 11ms/step - loss: 0.6563 - accuracy: 0.6093\n",
            "Epoch 14/20\n",
            "51/51 [==============================] - 1s 11ms/step - loss: 0.6497 - accuracy: 0.6183\n",
            "Epoch 15/20\n",
            "51/51 [==============================] - 1s 11ms/step - loss: 0.6529 - accuracy: 0.6147\n",
            "Epoch 16/20\n",
            "51/51 [==============================] - 1s 11ms/step - loss: 0.6482 - accuracy: 0.6245\n",
            "Epoch 17/20\n",
            "51/51 [==============================] - 1s 11ms/step - loss: 0.6470 - accuracy: 0.6240\n",
            "Epoch 18/20\n",
            "51/51 [==============================] - 1s 11ms/step - loss: 0.6466 - accuracy: 0.6230\n",
            "Epoch 19/20\n",
            "51/51 [==============================] - 1s 10ms/step - loss: 0.6452 - accuracy: 0.6254\n",
            "Epoch 20/20\n",
            "51/51 [==============================] - 1s 13ms/step - loss: 0.6409 - accuracy: 0.6320\n"
          ]
        },
        {
          "output_type": "execute_result",
          "data": {
            "text/plain": [
              "<keras.src.callbacks.History at 0x7d9a2123ff10>"
            ]
          },
          "metadata": {},
          "execution_count": 18
        }
      ]
    },
    {
      "cell_type": "code",
      "source": [
        "Output_test"
      ],
      "metadata": {
        "colab": {
          "base_uri": "https://localhost:8080/"
        },
        "id": "pERav6jxh-Kx",
        "outputId": "43728258-6d9e-4974-9761-5652bef2bb16"
      },
      "execution_count": null,
      "outputs": [
        {
          "output_type": "execute_result",
          "data": {
            "text/plain": [
              "array([1, 1, 1, ..., 1, 1, 0])"
            ]
          },
          "metadata": {},
          "execution_count": 19
        }
      ]
    },
    {
      "cell_type": "code",
      "source": [
        "#Model evaluation - validation set\n",
        "\n",
        "#Print loss and accuracy (then print rounded)\n",
        "test_loss, test_accuracy = NN_model.evaluate(Input_test, Output_test)\n",
        "print(f\"Validation loss: {test_loss:.2f}\")\n",
        "print(f\"Validation accuracy: {test_accuracy:.2f}\")\n",
        "\n",
        "#predict on input test\n",
        "predictimage = NN_model.predict(Input_test)\n",
        "#predictimage = predictimage.flatten()\n",
        "#predictimage = [0 if prob < 0.5 else 1 for prob in predictimage]\n",
        "print(predictimage)"
      ],
      "metadata": {
        "colab": {
          "base_uri": "https://localhost:8080/"
        },
        "id": "KbWcRiOjiH4g",
        "outputId": "10c20f2d-502c-4308-96b0-2aff403463a0"
      },
      "execution_count": null,
      "outputs": [
        {
          "output_type": "stream",
          "name": "stdout",
          "text": [
            "271/271 [==============================] - 1s 2ms/step - loss: 0.6671 - accuracy: 0.5954\n",
            "Validation loss: 0.67\n",
            "Validation accuracy: 0.60\n",
            "271/271 [==============================] - 1s 2ms/step\n",
            "[[0.39781666]\n",
            " [0.3535517 ]\n",
            " [0.25617355]\n",
            " ...\n",
            " [0.26570514]\n",
            " [0.4194488 ]\n",
            " [0.2475927 ]]\n"
          ]
        }
      ]
    },
    {
      "cell_type": "code",
      "source": [
        "from sklearn.metrics import confusion_matrix\n",
        "import seaborn as sns\n",
        "import matplotlib.pyplot as plt\n",
        "\n",
        "# Convert predicted probabilities to binary predictions\n",
        "predicted_labels = [1 if prob > 0.5 else 0 for prob in predictimage]\n",
        "\n",
        "# Calculate the confusion matrix - true value Output_test vs the predict functions predicted_labels (using predictimage and then converting probabilities to 0 and 1)\n",
        "conf_matrix = confusion_matrix(Output_test, predicted_labels)\n",
        "\n",
        "# Plot the confusion matrix - Negative and Positives are 0s and 1s\n",
        "plt.figure(figsize=(8, 6))\n",
        "sns.heatmap(conf_matrix, annot=True, fmt='d', cmap='Blues',\n",
        "            xticklabels=['Negative', 'Positive'], yticklabels=['Negative', 'Positive'])\n",
        "plt.title('Confusion Matrix')\n",
        "plt.xlabel('Predicted Label')\n",
        "plt.ylabel('True Label')\n",
        "plt.show()\n"
      ],
      "metadata": {
        "colab": {
          "base_uri": "https://localhost:8080/",
          "height": 539
        },
        "id": "EcTop7KFFmeu",
        "outputId": "e9b588f8-874b-4775-a219-58a5bf836d32"
      },
      "execution_count": null,
      "outputs": [
        {
          "output_type": "display_data",
          "data": {
            "text/plain": [
              "<Figure size 800x600 with 2 Axes>"
            ],
            "image/png": "[encoded data removed]"
          },
          "metadata": {}
        }
      ]
    },
    {
      "cell_type": "code",
      "source": [
        "from sklearn.metrics import roc_curve, auc\n",
        "\n",
        "\n",
        "# Predict probabilities for the test set\n",
        "predicted_probs = NN_model.predict(Input_test)\n",
        "\n",
        "# Calculate the ROC curve\n",
        "fpr, tpr, thresholds = roc_curve(Output_test, predicted_probs)\n",
        "\n",
        "# Calculate the area under the ROC curve (AUC)\n",
        "roc_auc = auc(fpr, tpr)\n",
        "\n",
        "# Plot the ROC curve\n",
        "plt.figure(figsize=(8, 6))\n",
        "plt.plot(fpr, tpr, color='blue', lw=2, label='ROC curve (area = %0.2f)' % roc_auc)\n",
        "plt.plot([0, 1], [0, 1], color='gray', linestyle='--')\n",
        "plt.xlim([0.0, 1.0])\n",
        "plt.ylim([0.0, 1.05])\n",
        "plt.xlabel('False Positive Rate')\n",
        "plt.ylabel('True Positive Rate')\n",
        "plt.title('Receiver Operating Characteristic (ROC) Curve')\n",
        "plt.legend(loc=\"lower right\")\n",
        "plt.show()"
      ],
      "metadata": {
        "colab": {
          "base_uri": "https://localhost:8080/",
          "height": 523
        },
        "id": "bFHIVq3NrRUJ",
        "outputId": "641a65e6-2f04-40ce-efd4-603d2e45c11f"
      },
      "execution_count": null,
      "outputs": [
        {
          "output_type": "stream",
          "name": "stdout",
          "text": [
            "271/271 [==============================] - 0s 2ms/step\n"
          ]
        },
        {
          "output_type": "display_data",
          "data": {
            "text/plain": [
              "<Figure size 800x600 with 1 Axes>"
            ],
            "image/png": "[encoded data removed]"
          },
          "metadata": {}
        }
      ]
    },
    {
      "cell_type": "code",
      "source": [
        "import matplotlib.pyplot as plt\n",
        "import random\n",
        "\n",
        "# Choose a random sample of images from the testing dataset\n",
        "num_examples = 5\n",
        "random_indices = random.sample(range(len(Input_test)), num_examples)\n",
        "\n",
        "# Predict outputs for the selected images\n",
        "predicted_outputs = NN_model.predict(Input_test[random_indices])\n",
        "\n",
        "print(predicted_outputs)\n",
        "\n",
        "# Define a mapping for binary outputs to emotions\n",
        "binary_to_emotion = {1: 'Positive', 0: 'Negative'}\n",
        "\n",
        "# Define figure size and spacing\n",
        "plt.figure(figsize=(20, 5))\n",
        "# plt.subplots_adjust(wspace=0.5)  # Adjust spacing between subplots\n",
        "\n",
        "# Display the example images along with their predicted outputs\n",
        "for i, idx in enumerate(random_indices):\n",
        "    # Convert predicted output to binary label\n",
        "    predicted_label = 1 if predicted_outputs[i] > 0.6 else 0\n",
        "    # Map binary label to emotion\n",
        "    predicted_emotion = binary_to_emotion[predicted_label]\n",
        "\n",
        "    plt.subplot(1, num_examples, i + 1)\n",
        "    plt.imshow(Input_test[idx].reshape(28, 28, 3))\n",
        "    plt.title(f\"Predicted: {predicted_emotion}\")\n",
        "    plt.axis('off')\n",
        "\n",
        "plt.show()\n",
        "\n"
      ],
      "metadata": {
        "colab": {
          "base_uri": "https://localhost:8080/",
          "height": 448
        },
        "id": "UFr2fuFUG_gc",
        "outputId": "eb351858-2c86-4209-9038-cfe93dc74a07"
      },
      "execution_count": null,
      "outputs": [
        {
          "output_type": "stream",
          "name": "stdout",
          "text": [
            "1/1 [==============================] - 0s 30ms/step\n",
            "[[0.47775823]\n",
            " [0.5807615 ]\n",
            " [0.34875035]\n",
            " [0.3628946 ]\n",
            " [0.644202  ]]\n"
          ]
        },
        {
          "output_type": "display_data",
          "data": {
            "text/plain": [
              "<Figure size 2000x500 with 5 Axes>"
            ],
            "image/png": "[encoded data removed]"
          },
          "metadata": {}
        }
      ]
    },
    {
      "cell_type": "code",
      "source": [
        "\n"
      ],
      "metadata": {
        "colab": {
          "base_uri": "https://localhost:8080/"
        },
        "id": "z0xVK9EmLBc3",
        "outputId": "29850972-498d-4366-e7fc-83da734936ca"
      },
      "execution_count": null,
      "outputs": [
        {
          "output_type": "stream",
          "name": "stdout",
          "text": [
            "Invalid image shape\n"
          ]
        }
      ]
    }
  ]
}