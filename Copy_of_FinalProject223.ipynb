{
  "cells": [
    {
      "cell_type": "markdown",
      "metadata": {
        "id": "view-in-github",
        "colab_type": "text"
      },
      "source": [
        "<a href=\"https://colab.research.google.com/github/kiar24/datasci_223/blob/Final-Project/Copy_of_FinalProject223.ipynb\" target=\"_parent\"><img src=\"https://colab.research.google.com/assets/colab-badge.svg\" alt=\"Open In Colab\"/></a>"
      ]
    },
    {
      "cell_type": "code",
      "execution_count": null,
      "metadata": {
        "colab": {
          "base_uri": "https://localhost:8080/"
        },
        "id": "88WaPEOOfu5e",
        "outputId": "1a60c1a9-5c98-4696-eae6-db420f8b3972"
      },
      "outputs": [
        {
          "output_type": "stream",
          "name": "stdout",
          "text": [
            "Collecting opendatasets\n",
            "  Downloading opendatasets-0.1.22-py3-none-any.whl (15 kB)\n",
            "Requirement already satisfied: tqdm in /usr/local/lib/python3.10/dist-packages (from opendatasets) (4.66.2)\n",
            "Requirement already satisfied: kaggle in /usr/local/lib/python3.10/dist-packages (from opendatasets) (1.5.16)\n",
            "Requirement already satisfied: click in /usr/local/lib/python3.10/dist-packages (from opendatasets) (8.1.7)\n",
            "Requirement already satisfied: six>=1.10 in /usr/local/lib/python3.10/dist-packages (from kaggle->opendatasets) (1.16.0)\n",
            "Requirement already satisfied: certifi in /usr/local/lib/python3.10/dist-packages (from kaggle->opendatasets) (2024.2.2)\n",
            "Requirement already satisfied: python-dateutil in /usr/local/lib/python3.10/dist-packages (from kaggle->opendatasets) (2.8.2)\n",
            "Requirement already satisfied: requests in /usr/local/lib/python3.10/dist-packages (from kaggle->opendatasets) (2.31.0)\n",
            "Requirement already satisfied: python-slugify in /usr/local/lib/python3.10/dist-packages (from kaggle->opendatasets) (8.0.4)\n",
            "Requirement already satisfied: urllib3 in /usr/local/lib/python3.10/dist-packages (from kaggle->opendatasets) (2.0.7)\n",
            "Requirement already satisfied: bleach in /usr/local/lib/python3.10/dist-packages (from kaggle->opendatasets) (6.1.0)\n",
            "Requirement already satisfied: webencodings in /usr/local/lib/python3.10/dist-packages (from bleach->kaggle->opendatasets) (0.5.1)\n",
            "Requirement already satisfied: text-unidecode>=1.3 in /usr/local/lib/python3.10/dist-packages (from python-slugify->kaggle->opendatasets) (1.3)\n",
            "Requirement already satisfied: charset-normalizer<4,>=2 in /usr/local/lib/python3.10/dist-packages (from requests->kaggle->opendatasets) (3.3.2)\n",
            "Requirement already satisfied: idna<4,>=2.5 in /usr/local/lib/python3.10/dist-packages (from requests->kaggle->opendatasets) (3.6)\n",
            "Installing collected packages: opendatasets\n",
            "Successfully installed opendatasets-0.1.22\n",
            "Requirement already satisfied: pandas in /usr/local/lib/python3.10/dist-packages (1.5.3)\n",
            "\u001b[31mERROR: Could not find a version that satisfies the requirement PIL (from versions: none)\u001b[0m\u001b[31m\n",
            "\u001b[0m\u001b[31mERROR: No matching distribution found for PIL\u001b[0m\u001b[31m\n",
            "\u001b[0mPlease provide your Kaggle credentials to download this dataset. Learn more: http://bit.ly/kaggle-creds\n",
            "Your Kaggle username: krishrai707\n",
            "Your Kaggle Key: ··········\n",
            "Downloading chest-xray-covid19-pneumonia.zip to ./chest-xray-covid19-pneumonia\n"
          ]
        },
        {
          "output_type": "stream",
          "name": "stderr",
          "text": [
            "100%|██████████| 2.06G/2.06G [00:26<00:00, 83.8MB/s]\n"
          ]
        },
        {
          "output_type": "stream",
          "name": "stdout",
          "text": [
            "\n"
          ]
        }
      ],
      "source": [
        "#https://www.geeksforgeeks.org/how-to-import-kaggle-datasets-directly-into-google-colab/\n",
        "#download opendatasets to download kaggle dataset, pandas as well\n",
        "#On kaggle account - go to settings, scroll down click new API token, and download kaggle.json - open it up and store username and password\n",
        "%pip install opendatasets\n",
        "%pip install pandas PIL numpy scikit-learn\n",
        "import opendatasets as od\n",
        "from sklearn.model_selection import train_test_split, cross_val_score, GridSearchCV, StratifiedKFold, ParameterGrid, KFold\n",
        "\n",
        "\n",
        "\n",
        " #the following dataset is used - download if not working to see, but when you run download provide username and password from kaggle.json earlier\n",
        "od.download(\n",
        "    \"https://www.kaggle.com/datasets/prashant268/chest-xray-covid19-pneumonia\")"
      ]
    },
    {
      "cell_type": "code",
      "source": [
        "#Add other kaggle files here if you want to download.\n",
        "od.download(\n",
        "    \"https://www.kaggle.com/datasets/tapakah68/facial-emotion-recognition\")"
      ],
      "metadata": {
        "colab": {
          "base_uri": "https://localhost:8080/"
        },
        "id": "bWry-L-Etu_9",
        "outputId": "efbd76de-a912-4826-ebad-4bd8679b89ec"
      },
      "execution_count": null,
      "outputs": [
        {
          "output_type": "stream",
          "name": "stdout",
          "text": [
            "Please provide your Kaggle credentials to download this dataset. Learn more: http://bit.ly/kaggle-creds\n",
            "Your Kaggle username: krishrai707\n",
            "Your Kaggle Key: ··········\n",
            "Downloading facial-emotion-recognition.zip to ./facial-emotion-recognition\n"
          ]
        },
        {
          "output_type": "stream",
          "name": "stderr",
          "text": [
            "100%|██████████| 433M/433M [00:04<00:00, 103MB/s]\n"
          ]
        },
        {
          "output_type": "stream",
          "name": "stdout",
          "text": [
            "\n"
          ]
        }
      ]
    },
    {
      "cell_type": "code",
      "execution_count": null,
      "metadata": {
        "id": "AEIPeFeqv44c"
      },
      "outputs": [],
      "source": [
        "#import tensorflow as tf\n",
        "from tensorflow.keras.preprocessing.image import ImageDataGenerator"
      ]
    },
    {
      "cell_type": "code",
      "execution_count": null,
      "metadata": {
        "id": "C9EhJRZC8esQ"
      },
      "outputs": [],
      "source": [
        "#train_datagen = ImageDataGenerator(\n",
        " #   rescale=1./255,\n",
        "  #  validation_split=0.2,  # set the validation split\n",
        "    # add any other data augmentation options you want here\n",
        "#)"
      ]
    },
    {
      "cell_type": "code",
      "execution_count": null,
      "metadata": {
        "id": "oCLiYSedbL-M"
      },
      "outputs": [],
      "source": [
        "import os\n",
        "from PIL import Image\n",
        "import numpy as np\n",
        "import pandas as pd\n",
        "\n",
        "def load_image(image_path):\n",
        "    with Image.open(image_path) as img:\n",
        "        img = img.resize((28, 28))\n",
        "        return np.array(img).flatten()\n",
        "\n",
        "# Initialize lists to store image data and labels\n",
        "images = []\n",
        "labels = []\n",
        "\n",
        "# Traverse directories\n",
        "for participant in os.listdir('facial-emotion-recognition/images'):\n",
        "    participant_path = os.path.join('facial-emotion-recognition/images', participant)\n",
        "    if os.path.isdir(participant_path):\n",
        "      for image in os.listdir(participant_path):\n",
        "        image_path = os.path.join(participant_path, image)\n",
        "        if os.path.isfile(image_path):\n",
        "                # Load image and append to images list\n",
        "          image_data = load_image(image_path)\n",
        "          images.append(image_data)\n",
        " # Extract emotion from image name and append to labels list\n",
        "    # Assuming the format is 'emotion_image.jpg'\n",
        "          emotion = image.split('.')[0]\n",
        "          labels.append(emotion)\n"
      ]
    },
    {
      "cell_type": "code",
      "execution_count": null,
      "metadata": {
        "colab": {
          "base_uri": "https://localhost:8080/"
        },
        "id": "4PfSIQIgfIoA",
        "outputId": "fce370fb-fa90-4a28-992a-8a3fed2bd742"
      },
      "outputs": [
        {
          "output_type": "stream",
          "name": "stdout",
          "text": [
            "['Fear', 'Surprised', 'Neutral', 'Anger', 'Sad', 'Contempt', 'Happy', 'Disgust', 'Fear', 'Surprised', 'Neutral', 'Anger', 'Sad', 'Contempt', 'Happy', 'Disgust', 'Fear', 'Surprised', 'Neutral', 'Anger', 'Sad', 'Contempt', 'Happy', 'Disgust', 'Fear', 'Surprised', 'Neutral', 'Anger', 'Sad', 'Contempt', 'Happy', 'Disgust', 'Fear', 'Surprised', 'Neutral', 'Anger', 'Sad', 'Contempt', 'Happy', 'Disgust', 'Fear', 'Surprised', 'Neutral', 'Anger', 'Sad', 'Contempt', 'Happy', 'Disgust', 'Fear', 'Surprised', 'Neutral', 'Anger', 'Sad', 'Contempt', 'Happy', 'Disgust', 'Fear', 'Surprised', 'Neutral', 'Anger', 'Sad', 'Contempt', 'Happy', 'Disgust', 'Fear', 'Surprised', 'Neutral', 'Anger', 'Sad', 'Contempt', 'Happy', 'Disgust', 'Fear', 'Surprised', 'Neutral', 'Anger', 'Sad', 'Contempt', 'Happy', 'Disgust', 'Fear', 'Surprised', 'Neutral', 'Anger', 'Sad', 'Contempt', 'Happy', 'Disgust', 'Fear', 'Surprised', 'Neutral', 'Anger', 'Sad', 'Contempt', 'Happy', 'Disgust', 'Fear', 'Surprised', 'Neutral', 'Anger', 'Sad', 'Contempt', 'Happy', 'Disgust', 'Fear', 'Surprised', 'Neutral', 'Anger', 'Sad', 'Contempt', 'Happy', 'Disgust', 'Fear', 'Surprised', 'Neutral', 'Anger', 'Sad', 'Contempt', 'Happy', 'Disgust', 'Fear', 'Surprised', 'Neutral', 'Anger', 'Sad', 'Contempt', 'Happy', 'Disgust', 'Fear', 'Surprised', 'Neutral', 'Anger', 'Sad', 'Contempt', 'Happy', 'Disgust', 'Fear', 'Surprised', 'Neutral', 'Anger', 'Sad', 'Contempt', 'Happy', 'Disgust', 'Fear', 'Surprised', 'Neutral', 'Anger', 'Sad', 'Contempt', 'Happy', 'Disgust']\n",
            "[array([223, 202, 182, ..., 136, 139, 161], dtype=uint8), array([216, 194, 171, ..., 230, 244, 250], dtype=uint8), array([213, 188, 165, ..., 226, 205, 186], dtype=uint8), array([225, 202, 177, ..., 179, 183, 198], dtype=uint8), array([228, 207, 183, ..., 165, 160, 167], dtype=uint8), array([233, 214, 193, ..., 169, 164, 169], dtype=uint8), array([216, 190, 165, ..., 207, 199, 186], dtype=uint8), array([229, 210, 185, ..., 158, 160, 170], dtype=uint8), array([196, 192, 180, ..., 179, 140, 114], dtype=uint8), array([197, 194, 181, ..., 165, 127,  99], dtype=uint8), array([215, 212, 203, ..., 202, 174, 143], dtype=uint8), array([205, 202, 190, ..., 147, 117,  89], dtype=uint8), array([208, 201, 190, ..., 182, 152, 127], dtype=uint8), array([203, 201, 188, ..., 149, 122,  95], dtype=uint8), array([198, 195, 180, ..., 110,  95,  85], dtype=uint8), array([201, 201, 188, ...,  76,  87,  89], dtype=uint8), array([198, 214, 217, ...,  66,  79,  84], dtype=uint8), array([195, 211, 214, ..., 114, 117, 116], dtype=uint8), array([197, 214, 218, ...,  75,  78,  76], dtype=uint8), array([198, 213, 216, ..., 157, 137, 132], dtype=uint8), array([202, 217, 220, ...,  70,  84,  89], dtype=uint8), array([199, 214, 217, ..., 160, 141, 136], dtype=uint8), array([209, 227, 230, ...,  53,  73,  78], dtype=uint8), array([198, 216, 219, ...,  66,  85,  91], dtype=uint8), array([114, 110,  98, ..., 175, 151, 139], dtype=uint8), array([125, 125, 112, ..., 166, 139, 126], dtype=uint8), array([110, 111,  93, ..., 207, 188, 181], dtype=uint8), array([112, 116,  99, ..., 206, 186, 179], dtype=uint8), array([105, 109,  94, ..., 124,  86,  69], dtype=uint8), array([159, 153, 143, ..., 178, 151, 139], dtype=uint8), array([137, 135, 122, ..., 170, 146, 134], dtype=uint8), array([100,  72,  47, ..., 168, 140, 126], dtype=uint8), array([205, 182, 167, ...,  14, 109, 128], dtype=uint8), array([206, 179, 162, ...,  66,  75,  80], dtype=uint8), array([214, 184, 165, ...,  10,  86, 100], dtype=uint8), array([214, 187, 171, ...,  10,  82,  95], dtype=uint8), array([220, 188, 170, ...,  17,  65,  79], dtype=uint8), array([212, 183, 166, ...,  24,  84,  96], dtype=uint8), array([207, 179, 157, ...,  20, 106, 123], dtype=uint8), array([216, 187, 171, ...,  14, 110, 129], dtype=uint8), array([ 92,  85,  59, ...,  85, 105, 108], dtype=uint8), array([88, 82, 60, ..., 85, 76, 59], dtype=uint8), array([95, 85, 59, ..., 51, 62, 60], dtype=uint8), array([ 85,  81,  62, ..., 114,  81,  88], dtype=uint8), array([97, 91, 65, ..., 64, 88, 90], dtype=uint8), array([112, 103,  72, ..., 188, 213, 208], dtype=uint8), array([88, 82, 59, ..., 48, 36, 29], dtype=uint8), array([106,  98,  68, ...,  65,  67,  65], dtype=uint8), array([172, 175, 180, ..., 186, 141,  91], dtype=uint8), array([150, 160, 169, ..., 180, 143,  99], dtype=uint8), array([120, 124, 127, ..., 170, 120,  77], dtype=uint8), array([170, 186, 200, ..., 193, 168, 127], dtype=uint8), array([152, 171, 191, ..., 143, 100,  63], dtype=uint8), array([141, 141, 143, ..., 164, 117,  75], dtype=uint8), array([187, 190, 195, ..., 147,  92,  51], dtype=uint8), array([211, 210, 218, ..., 191, 148, 102], dtype=uint8), array([133, 105,  82, ...,  13,  13,  14], dtype=uint8), array([99, 72, 49, ..., 14, 15, 17], dtype=uint8), array([106,  78,  56, ..., 128, 107,  93], dtype=uint8), array([142, 122,  98, ..., 177, 149, 132], dtype=uint8), array([145, 127, 102, ..., 126, 107,  92], dtype=uint8), array([137, 112,  85, ..., 168, 142, 125], dtype=uint8), array([136, 120,  99, ..., 147, 120, 101], dtype=uint8), array([156, 131, 105, ..., 166, 141, 123], dtype=uint8), array([136, 118,  97, ..., 124, 112,  95], dtype=uint8), array([ 81, 136, 134, ..., 133, 124, 110], dtype=uint8), array([122, 105,  87, ..., 136, 126, 113], dtype=uint8), array([ 88,  97,  90, ..., 158, 151, 140], dtype=uint8), array([134, 113,  95, ..., 144, 139, 126], dtype=uint8), array([207, 208, 202, ..., 101,  84,  71], dtype=uint8), array([114, 128, 117, ..., 150, 141, 127], dtype=uint8), array([105,  93,  79, ...,  87,  77,  66], dtype=uint8), array([215, 215, 219, ..., 139, 140, 139], dtype=uint8), array([203, 207, 212, ..., 164, 142, 129], dtype=uint8), array([201, 206, 208, ..., 119, 102,  93], dtype=uint8), array([208, 209, 210, ..., 115, 117, 122], dtype=uint8), array([200, 213, 231, ..., 105, 118, 133], dtype=uint8), array([211, 213, 216, ..., 113, 118, 120], dtype=uint8), array([208, 209, 210, ..., 115, 117, 122], dtype=uint8), array([210, 210, 213, ..., 111, 116, 124], dtype=uint8), array([ 65,  67,  62, ..., 160, 144, 141], dtype=uint8), array([ 67,  77,  76, ..., 157, 183, 180], dtype=uint8), array([170, 178, 135, ..., 227, 214, 200], dtype=uint8), array([ 78,  79,  75, ..., 208, 237, 232], dtype=uint8), array([ 77,  82,  74, ..., 176, 161, 147], dtype=uint8), array([ 84,  90,  87, ..., 209, 233, 227], dtype=uint8), array([ 81,  88,  82, ..., 158, 180, 180], dtype=uint8), array([ 65,  69,  66, ..., 191, 208, 208], dtype=uint8), array([ 88, 191, 232, ..., 165, 177, 186], dtype=uint8), array([133, 204, 233, ..., 172, 183, 192], dtype=uint8), array([132, 182, 209, ..., 209, 220, 225], dtype=uint8), array([147, 236, 254, ...,  33,  52,  68], dtype=uint8), array([159, 238, 254, ..., 158, 175, 188], dtype=uint8), array([121, 218, 251, ..., 106, 138, 150], dtype=uint8), array([126, 187, 212, ..., 117, 142, 145], dtype=uint8), array([103, 200, 240, ..., 253, 255, 255], dtype=uint8), array([189, 175, 140, ...,   7,   9,  10], dtype=uint8), array([190, 177, 141, ...,  57,  45,  35], dtype=uint8), array([186, 169, 127, ...,  27,  25,  18], dtype=uint8), array([190, 174, 137, ...,  36,  26,  19], dtype=uint8), array([178, 161, 119, ...,  95,  62,  42], dtype=uint8), array([191, 174, 133, ...,   8,   8,   7], dtype=uint8), array([193, 179, 140, ..., 100,  71,  55], dtype=uint8), array([188, 174, 138, ..., 114,  73,  53], dtype=uint8), array([205, 200, 190, ..., 209, 163, 144], dtype=uint8), array([213, 207, 193, ..., 206, 161, 145], dtype=uint8), array([207, 203, 192, ..., 195, 146, 136], dtype=uint8), array([208, 203, 191, ..., 202, 157, 142], dtype=uint8), array([204, 198, 191, ..., 204, 158, 142], dtype=uint8), array([210, 203, 188, ..., 208, 159, 143], dtype=uint8), array([211, 206, 194, ..., 200, 153, 140], dtype=uint8), array([201, 194, 186, ..., 210, 163, 147], dtype=uint8), array([189, 143, 114, ..., 186, 113,  89], dtype=uint8), array([192, 148, 121, ..., 196, 127, 103], dtype=uint8), array([178, 126,  99, ..., 199, 121,  95], dtype=uint8), array([193, 146, 117, ..., 202, 131, 106], dtype=uint8), array([188, 139, 111, ..., 154,  88,  63], dtype=uint8), array([195, 148, 122, ..., 197, 123,  94], dtype=uint8), array([175, 125,  98, ..., 174, 100,  78], dtype=uint8), array([184, 133, 105, ..., 184, 120,  95], dtype=uint8), array([201, 202, 197, ..., 188, 186, 196], dtype=uint8), array([214, 213, 207, ...,  84,  71,  77], dtype=uint8), array([197, 197, 195, ...,  99,  90,  97], dtype=uint8), array([183, 189, 193, ..., 156, 152, 160], dtype=uint8), array([200, 199, 196, ...,  78,  72,  80], dtype=uint8), array([182, 183, 179, ..., 174, 171, 178], dtype=uint8), array([193, 194, 190, ..., 167, 161, 169], dtype=uint8), array([178, 182, 186, ..., 171, 168, 177], dtype=uint8), array([42, 65, 24, ..., 86, 44, 22], dtype=uint8), array([43, 61, 25, ..., 85, 41, 23], dtype=uint8), array([43, 64, 24, ..., 88, 41, 17], dtype=uint8), array([47, 63, 23, ..., 86, 41, 22], dtype=uint8), array([44, 64, 28, ..., 87, 42, 18], dtype=uint8), array([46, 63, 25, ..., 85, 41, 20], dtype=uint8), array([48, 62, 23, ..., 88, 41, 19], dtype=uint8), array([47, 62, 24, ..., 88, 41, 20], dtype=uint8), array([89, 86, 74, ..., 32, 34, 45], dtype=uint8), array([90, 87, 73, ..., 37, 41, 52], dtype=uint8), array([85, 82, 71, ..., 38, 41, 53], dtype=uint8), array([86, 83, 70, ..., 40, 43, 61], dtype=uint8), array([88, 93, 80, ..., 40, 46, 54], dtype=uint8), array([88, 89, 79, ..., 64, 69, 76], dtype=uint8), array([84, 79, 69, ..., 39, 39, 52], dtype=uint8), array([92, 93, 83, ..., 41, 41, 57], dtype=uint8), array([171, 167, 164, ..., 132, 131, 128], dtype=uint8), array([180, 173, 169, ..., 164, 161, 159], dtype=uint8), array([202, 198, 194, ..., 181, 176, 173], dtype=uint8), array([195, 193, 191, ..., 182, 178, 177], dtype=uint8), array([164, 160, 156, ..., 116, 116, 112], dtype=uint8), array([189, 185, 182, ..., 181, 178, 176], dtype=uint8), array([195, 192, 189, ..., 189, 185, 185], dtype=uint8), array([190, 187, 185, ..., 124, 122, 116], dtype=uint8)]\n"
          ]
        }
      ],
      "source": [
        "print(labels)\n",
        "print(images)\n"
      ]
    },
    {
      "cell_type": "code",
      "execution_count": null,
      "metadata": {
        "id": "xyH-w9IHfFyh"
      },
      "outputs": [],
      "source": [
        "# Create DataFrame for training data\n",
        "train_image = pd.DataFrame()\n",
        "train_image['label'] = labels\n",
        "train_image['image'] = images"
      ]
    },
    {
      "cell_type": "code",
      "execution_count": null,
      "metadata": {
        "colab": {
          "base_uri": "https://localhost:8080/",
          "height": 423
        },
        "id": "lbI52AkAkkJV",
        "outputId": "d8223004-44ac-44b9-c311-c342b0cc04ee"
      },
      "outputs": [
        {
          "output_type": "execute_result",
          "data": {
            "text/plain": [
              "         label                                              image\n",
              "0         Fear  [223, 202, 182, 221, 199, 176, 220, 197, 173, ...\n",
              "1    Surprised  [216, 194, 171, 217, 194, 171, 218, 196, 172, ...\n",
              "2      Neutral  [213, 188, 165, 214, 189, 165, 213, 189, 164, ...\n",
              "3        Anger  [225, 202, 177, 225, 202, 176, 225, 202, 177, ...\n",
              "4          Sad  [228, 207, 183, 226, 203, 177, 225, 201, 174, ...\n",
              "..         ...                                                ...\n",
              "147      Anger  [195, 193, 191, 198, 195, 193, 199, 196, 194, ...\n",
              "148        Sad  [164, 160, 156, 167, 163, 159, 174, 169, 165, ...\n",
              "149   Contempt  [189, 185, 182, 194, 189, 186, 195, 190, 188, ...\n",
              "150      Happy  [195, 192, 189, 196, 192, 189, 197, 193, 190, ...\n",
              "151    Disgust  [190, 187, 185, 194, 190, 188, 196, 193, 190, ...\n",
              "\n",
              "[152 rows x 2 columns]"
            ],
            "text/html": [
              "\n",
              "  <div id=\"df-ed5329a4-20c5-487d-96f3-dbf5f1944fdc\" class=\"colab-df-container\">\n",
              "    <div>\n",
              "<style scoped>\n",
              "    .dataframe tbody tr th:only-of-type {\n",
              "        vertical-align: middle;\n",
              "    }\n",
              "\n",
              "    .dataframe tbody tr th {\n",
              "        vertical-align: top;\n",
              "    }\n",
              "\n",
              "    .dataframe thead th {\n",
              "        text-align: right;\n",
              "    }\n",
              "</style>\n",
              "<table border=\"1\" class=\"dataframe\">\n",
              "  <thead>\n",
              "    <tr style=\"text-align: right;\">\n",
              "      <th></th>\n",
              "      <th>label</th>\n",
              "      <th>image</th>\n",
              "    </tr>\n",
              "  </thead>\n",
              "  <tbody>\n",
              "    <tr>\n",
              "      <th>0</th>\n",
              "      <td>Fear</td>\n",
              "      <td>[223, 202, 182, 221, 199, 176, 220, 197, 173, ...</td>\n",
              "    </tr>\n",
              "    <tr>\n",
              "      <th>1</th>\n",
              "      <td>Surprised</td>\n",
              "      <td>[216, 194, 171, 217, 194, 171, 218, 196, 172, ...</td>\n",
              "    </tr>\n",
              "    <tr>\n",
              "      <th>2</th>\n",
              "      <td>Neutral</td>\n",
              "      <td>[213, 188, 165, 214, 189, 165, 213, 189, 164, ...</td>\n",
              "    </tr>\n",
              "    <tr>\n",
              "      <th>3</th>\n",
              "      <td>Anger</td>\n",
              "      <td>[225, 202, 177, 225, 202, 176, 225, 202, 177, ...</td>\n",
              "    </tr>\n",
              "    <tr>\n",
              "      <th>4</th>\n",
              "      <td>Sad</td>\n",
              "      <td>[228, 207, 183, 226, 203, 177, 225, 201, 174, ...</td>\n",
              "    </tr>\n",
              "    <tr>\n",
              "      <th>...</th>\n",
              "      <td>...</td>\n",
              "      <td>...</td>\n",
              "    </tr>\n",
              "    <tr>\n",
              "      <th>147</th>\n",
              "      <td>Anger</td>\n",
              "      <td>[195, 193, 191, 198, 195, 193, 199, 196, 194, ...</td>\n",
              "    </tr>\n",
              "    <tr>\n",
              "      <th>148</th>\n",
              "      <td>Sad</td>\n",
              "      <td>[164, 160, 156, 167, 163, 159, 174, 169, 165, ...</td>\n",
              "    </tr>\n",
              "    <tr>\n",
              "      <th>149</th>\n",
              "      <td>Contempt</td>\n",
              "      <td>[189, 185, 182, 194, 189, 186, 195, 190, 188, ...</td>\n",
              "    </tr>\n",
              "    <tr>\n",
              "      <th>150</th>\n",
              "      <td>Happy</td>\n",
              "      <td>[195, 192, 189, 196, 192, 189, 197, 193, 190, ...</td>\n",
              "    </tr>\n",
              "    <tr>\n",
              "      <th>151</th>\n",
              "      <td>Disgust</td>\n",
              "      <td>[190, 187, 185, 194, 190, 188, 196, 193, 190, ...</td>\n",
              "    </tr>\n",
              "  </tbody>\n",
              "</table>\n",
              "<p>152 rows × 2 columns</p>\n",
              "</div>\n",
              "    <div class=\"colab-df-buttons\">\n",
              "\n",
              "  <div class=\"colab-df-container\">\n",
              "    <button class=\"colab-df-convert\" onclick=\"convertToInteractive('df-ed5329a4-20c5-487d-96f3-dbf5f1944fdc')\"\n",
              "            title=\"Convert this dataframe to an interactive table.\"\n",
              "            style=\"display:none;\">\n",
              "\n",
              "  <svg xmlns=\"http://www.w3.org/2000/svg\" height=\"24px\" viewBox=\"0 -960 960 960\">\n",
              "    <path d=\"M120-120v-720h720v720H120Zm60-500h600v-160H180v160Zm220 220h160v-160H400v160Zm0 220h160v-160H400v160ZM180-400h160v-160H180v160Zm440 0h160v-160H620v160ZM180-180h160v-160H180v160Zm440 0h160v-160H620v160Z\"/>\n",
              "  </svg>\n",
              "    </button>\n",
              "\n",
              "  <style>\n",
              "    .colab-df-container {\n",
              "      display:flex;\n",
              "      gap: 12px;\n",
              "    }\n",
              "\n",
              "    .colab-df-convert {\n",
              "      background-color: #E8F0FE;\n",
              "      border: none;\n",
              "      border-radius: 50%;\n",
              "      cursor: pointer;\n",
              "      display: none;\n",
              "      fill: #1967D2;\n",
              "      height: 32px;\n",
              "      padding: 0 0 0 0;\n",
              "      width: 32px;\n",
              "    }\n",
              "\n",
              "    .colab-df-convert:hover {\n",
              "      background-color: #E2EBFA;\n",
              "      box-shadow: 0px 1px 2px rgba(60, 64, 67, 0.3), 0px 1px 3px 1px rgba(60, 64, 67, 0.15);\n",
              "      fill: #174EA6;\n",
              "    }\n",
              "\n",
              "    .colab-df-buttons div {\n",
              "      margin-bottom: 4px;\n",
              "    }\n",
              "\n",
              "    [theme=dark] .colab-df-convert {\n",
              "      background-color: #3B4455;\n",
              "      fill: #D2E3FC;\n",
              "    }\n",
              "\n",
              "    [theme=dark] .colab-df-convert:hover {\n",
              "      background-color: #434B5C;\n",
              "      box-shadow: 0px 1px 3px 1px rgba(0, 0, 0, 0.15);\n",
              "      filter: drop-shadow(0px 1px 2px rgba(0, 0, 0, 0.3));\n",
              "      fill: #FFFFFF;\n",
              "    }\n",
              "  </style>\n",
              "\n",
              "    <script>\n",
              "      const buttonEl =\n",
              "        document.querySelector('#df-ed5329a4-20c5-487d-96f3-dbf5f1944fdc button.colab-df-convert');\n",
              "      buttonEl.style.display =\n",
              "        google.colab.kernel.accessAllowed ? 'block' : 'none';\n",
              "\n",
              "      async function convertToInteractive(key) {\n",
              "        const element = document.querySelector('#df-ed5329a4-20c5-487d-96f3-dbf5f1944fdc');\n",
              "        const dataTable =\n",
              "          await google.colab.kernel.invokeFunction('convertToInteractive',\n",
              "                                                    [key], {});\n",
              "        if (!dataTable) return;\n",
              "\n",
              "        const docLinkHtml = 'Like what you see? Visit the ' +\n",
              "          '<a target=\"_blank\" href=https://colab.research.google.com/notebooks/data_table.ipynb>data table notebook</a>'\n",
              "          + ' to learn more about interactive tables.';\n",
              "        element.innerHTML = '';\n",
              "        dataTable['output_type'] = 'display_data';\n",
              "        await google.colab.output.renderOutput(dataTable, element);\n",
              "        const docLink = document.createElement('div');\n",
              "        docLink.innerHTML = docLinkHtml;\n",
              "        element.appendChild(docLink);\n",
              "      }\n",
              "    </script>\n",
              "  </div>\n",
              "\n",
              "\n",
              "<div id=\"df-d637a377-5c8d-4523-8549-8865512e61d5\">\n",
              "  <button class=\"colab-df-quickchart\" onclick=\"quickchart('df-d637a377-5c8d-4523-8549-8865512e61d5')\"\n",
              "            title=\"Suggest charts\"\n",
              "            style=\"display:none;\">\n",
              "\n",
              "<svg xmlns=\"http://www.w3.org/2000/svg\" height=\"24px\"viewBox=\"0 0 24 24\"\n",
              "     width=\"24px\">\n",
              "    <g>\n",
              "        <path d=\"M19 3H5c-1.1 0-2 .9-2 2v14c0 1.1.9 2 2 2h14c1.1 0 2-.9 2-2V5c0-1.1-.9-2-2-2zM9 17H7v-7h2v7zm4 0h-2V7h2v10zm4 0h-2v-4h2v4z\"/>\n",
              "    </g>\n",
              "</svg>\n",
              "  </button>\n",
              "\n",
              "<style>\n",
              "  .colab-df-quickchart {\n",
              "      --bg-color: #E8F0FE;\n",
              "      --fill-color: #1967D2;\n",
              "      --hover-bg-color: #E2EBFA;\n",
              "      --hover-fill-color: #174EA6;\n",
              "      --disabled-fill-color: #AAA;\n",
              "      --disabled-bg-color: #DDD;\n",
              "  }\n",
              "\n",
              "  [theme=dark] .colab-df-quickchart {\n",
              "      --bg-color: #3B4455;\n",
              "      --fill-color: #D2E3FC;\n",
              "      --hover-bg-color: #434B5C;\n",
              "      --hover-fill-color: #FFFFFF;\n",
              "      --disabled-bg-color: #3B4455;\n",
              "      --disabled-fill-color: #666;\n",
              "  }\n",
              "\n",
              "  .colab-df-quickchart {\n",
              "    background-color: var(--bg-color);\n",
              "    border: none;\n",
              "    border-radius: 50%;\n",
              "    cursor: pointer;\n",
              "    display: none;\n",
              "    fill: var(--fill-color);\n",
              "    height: 32px;\n",
              "    padding: 0;\n",
              "    width: 32px;\n",
              "  }\n",
              "\n",
              "  .colab-df-quickchart:hover {\n",
              "    background-color: var(--hover-bg-color);\n",
              "    box-shadow: 0 1px 2px rgba(60, 64, 67, 0.3), 0 1px 3px 1px rgba(60, 64, 67, 0.15);\n",
              "    fill: var(--button-hover-fill-color);\n",
              "  }\n",
              "\n",
              "  .colab-df-quickchart-complete:disabled,\n",
              "  .colab-df-quickchart-complete:disabled:hover {\n",
              "    background-color: var(--disabled-bg-color);\n",
              "    fill: var(--disabled-fill-color);\n",
              "    box-shadow: none;\n",
              "  }\n",
              "\n",
              "  .colab-df-spinner {\n",
              "    border: 2px solid var(--fill-color);\n",
              "    border-color: transparent;\n",
              "    border-bottom-color: var(--fill-color);\n",
              "    animation:\n",
              "      spin 1s steps(1) infinite;\n",
              "  }\n",
              "\n",
              "  @keyframes spin {\n",
              "    0% {\n",
              "      border-color: transparent;\n",
              "      border-bottom-color: var(--fill-color);\n",
              "      border-left-color: var(--fill-color);\n",
              "    }\n",
              "    20% {\n",
              "      border-color: transparent;\n",
              "      border-left-color: var(--fill-color);\n",
              "      border-top-color: var(--fill-color);\n",
              "    }\n",
              "    30% {\n",
              "      border-color: transparent;\n",
              "      border-left-color: var(--fill-color);\n",
              "      border-top-color: var(--fill-color);\n",
              "      border-right-color: var(--fill-color);\n",
              "    }\n",
              "    40% {\n",
              "      border-color: transparent;\n",
              "      border-right-color: var(--fill-color);\n",
              "      border-top-color: var(--fill-color);\n",
              "    }\n",
              "    60% {\n",
              "      border-color: transparent;\n",
              "      border-right-color: var(--fill-color);\n",
              "    }\n",
              "    80% {\n",
              "      border-color: transparent;\n",
              "      border-right-color: var(--fill-color);\n",
              "      border-bottom-color: var(--fill-color);\n",
              "    }\n",
              "    90% {\n",
              "      border-color: transparent;\n",
              "      border-bottom-color: var(--fill-color);\n",
              "    }\n",
              "  }\n",
              "</style>\n",
              "\n",
              "  <script>\n",
              "    async function quickchart(key) {\n",
              "      const quickchartButtonEl =\n",
              "        document.querySelector('#' + key + ' button');\n",
              "      quickchartButtonEl.disabled = true;  // To prevent multiple clicks.\n",
              "      quickchartButtonEl.classList.add('colab-df-spinner');\n",
              "      try {\n",
              "        const charts = await google.colab.kernel.invokeFunction(\n",
              "            'suggestCharts', [key], {});\n",
              "      } catch (error) {\n",
              "        console.error('Error during call to suggestCharts:', error);\n",
              "      }\n",
              "      quickchartButtonEl.classList.remove('colab-df-spinner');\n",
              "      quickchartButtonEl.classList.add('colab-df-quickchart-complete');\n",
              "    }\n",
              "    (() => {\n",
              "      let quickchartButtonEl =\n",
              "        document.querySelector('#df-d637a377-5c8d-4523-8549-8865512e61d5 button');\n",
              "      quickchartButtonEl.style.display =\n",
              "        google.colab.kernel.accessAllowed ? 'block' : 'none';\n",
              "    })();\n",
              "  </script>\n",
              "</div>\n",
              "\n",
              "  <div id=\"id_ce420264-1838-4e55-a846-c1870012a03f\">\n",
              "    <style>\n",
              "      .colab-df-generate {\n",
              "        background-color: #E8F0FE;\n",
              "        border: none;\n",
              "        border-radius: 50%;\n",
              "        cursor: pointer;\n",
              "        display: none;\n",
              "        fill: #1967D2;\n",
              "        height: 32px;\n",
              "        padding: 0 0 0 0;\n",
              "        width: 32px;\n",
              "      }\n",
              "\n",
              "      .colab-df-generate:hover {\n",
              "        background-color: #E2EBFA;\n",
              "        box-shadow: 0px 1px 2px rgba(60, 64, 67, 0.3), 0px 1px 3px 1px rgba(60, 64, 67, 0.15);\n",
              "        fill: #174EA6;\n",
              "      }\n",
              "\n",
              "      [theme=dark] .colab-df-generate {\n",
              "        background-color: #3B4455;\n",
              "        fill: #D2E3FC;\n",
              "      }\n",
              "\n",
              "      [theme=dark] .colab-df-generate:hover {\n",
              "        background-color: #434B5C;\n",
              "        box-shadow: 0px 1px 3px 1px rgba(0, 0, 0, 0.15);\n",
              "        filter: drop-shadow(0px 1px 2px rgba(0, 0, 0, 0.3));\n",
              "        fill: #FFFFFF;\n",
              "      }\n",
              "    </style>\n",
              "    <button class=\"colab-df-generate\" onclick=\"generateWithVariable('train_image')\"\n",
              "            title=\"Generate code using this dataframe.\"\n",
              "            style=\"display:none;\">\n",
              "\n",
              "  <svg xmlns=\"http://www.w3.org/2000/svg\" height=\"24px\"viewBox=\"0 0 24 24\"\n",
              "       width=\"24px\">\n",
              "    <path d=\"M7,19H8.4L18.45,9,17,7.55,7,17.6ZM5,21V16.75L18.45,3.32a2,2,0,0,1,2.83,0l1.4,1.43a1.91,1.91,0,0,1,.58,1.4,1.91,1.91,0,0,1-.58,1.4L9.25,21ZM18.45,9,17,7.55Zm-12,3A5.31,5.31,0,0,0,4.9,8.1,5.31,5.31,0,0,0,1,6.5,5.31,5.31,0,0,0,4.9,4.9,5.31,5.31,0,0,0,6.5,1,5.31,5.31,0,0,0,8.1,4.9,5.31,5.31,0,0,0,12,6.5,5.46,5.46,0,0,0,6.5,12Z\"/>\n",
              "  </svg>\n",
              "    </button>\n",
              "    <script>\n",
              "      (() => {\n",
              "      const buttonEl =\n",
              "        document.querySelector('#id_ce420264-1838-4e55-a846-c1870012a03f button.colab-df-generate');\n",
              "      buttonEl.style.display =\n",
              "        google.colab.kernel.accessAllowed ? 'block' : 'none';\n",
              "\n",
              "      buttonEl.onclick = () => {\n",
              "        google.colab.notebook.generateWithVariable('train_image');\n",
              "      }\n",
              "      })();\n",
              "    </script>\n",
              "  </div>\n",
              "\n",
              "    </div>\n",
              "  </div>\n"
            ],
            "application/vnd.google.colaboratory.intrinsic+json": {
              "type": "dataframe",
              "variable_name": "train_image",
              "summary": "{\n  \"name\": \"train_image\",\n  \"rows\": 152,\n  \"fields\": [\n    {\n      \"column\": \"label\",\n      \"properties\": {\n        \"dtype\": \"category\",\n        \"num_unique_values\": 8,\n        \"samples\": [\n          \"Surprised\",\n          \"Contempt\",\n          \"Fear\"\n        ],\n        \"semantic_type\": \"\",\n        \"description\": \"\"\n      }\n    },\n    {\n      \"column\": \"image\",\n      \"properties\": {\n        \"dtype\": \"object\",\n        \"semantic_type\": \"\",\n        \"description\": \"\"\n      }\n    }\n  ]\n}"
            }
          },
          "metadata": {},
          "execution_count": 9
        }
      ],
      "source": [
        "train_image\n"
      ]
    },
    {
      "cell_type": "code",
      "source": [
        "#Mapping is used to assign the emotions (from column in train_image) to either positive or negative emotion\n",
        "emotion_binarymapping = {\n",
        "    'Happy': 'Positive',\n",
        "    'Surprised': 'Positive',\n",
        "    'Neutral': 'Positive',\n",
        "    'Anger': 'Negative',\n",
        "    'Disgust': 'Negative',\n",
        "    'Fear': 'Negative',\n",
        "    'Sad': 'Negative',\n",
        "    'Contempt': 'Negative'\n",
        "}\n",
        "\n",
        "#Make a new column - where the label column is mapped as above to positive or negative\n",
        "train_image['emotion_binary'] = train_image['label'].map(emotion_binarymapping)"
      ],
      "metadata": {
        "id": "RT-hdDhI8UtL"
      },
      "execution_count": null,
      "outputs": []
    },
    {
      "cell_type": "code",
      "source": [
        "train_image['emotion_binary']"
      ],
      "metadata": {
        "colab": {
          "base_uri": "https://localhost:8080/"
        },
        "id": "5uKYtzsqzvm4",
        "outputId": "82508cba-009d-4405-dff0-ce1b9bc74675"
      },
      "execution_count": null,
      "outputs": [
        {
          "output_type": "execute_result",
          "data": {
            "text/plain": [
              "0      Negative\n",
              "1      Positive\n",
              "2      Positive\n",
              "3      Negative\n",
              "4      Negative\n",
              "         ...   \n",
              "147    Negative\n",
              "148    Negative\n",
              "149    Negative\n",
              "150    Positive\n",
              "151    Negative\n",
              "Name: emotion_binary, Length: 152, dtype: object"
            ]
          },
          "metadata": {},
          "execution_count": 11
        }
      ]
    },
    {
      "cell_type": "code",
      "source": [
        "from re import X\n",
        "import sklearn.model_selection\n",
        "\n",
        "X = np.array(train_image['image'].tolist())\n",
        "Y = np.array(train_image['emotion_binary'].tolist())\n",
        "\n",
        "Input_train, Input_test, Output_train, Output_test = train_test_split(X,Y, test_size=0.2, random_state=25)"
      ],
      "metadata": {
        "id": "IstBDh0w5bFq"
      },
      "execution_count": null,
      "outputs": []
    },
    {
      "cell_type": "code",
      "source": [
        "Output_train = np.array([1 if label == 'Positive' else 0 for label in Output_train])\n",
        "Output_train"
      ],
      "metadata": {
        "colab": {
          "base_uri": "https://localhost:8080/"
        },
        "id": "oVzhvrjx-fKl",
        "outputId": "b828a9ea-1c87-4033-eec9-97415aba4514"
      },
      "execution_count": null,
      "outputs": [
        {
          "output_type": "execute_result",
          "data": {
            "text/plain": [
              "array([0, 0, 0, 1, 0, 1, 1, 1, 1, 0, 0, 0, 0, 0, 1, 0, 1, 1, 1, 0, 0, 0,\n",
              "       0, 0, 0, 1, 0, 0, 0, 0, 0, 1, 0, 0, 1, 0, 0, 0, 0, 1, 1, 0, 1, 0,\n",
              "       0, 0, 0, 0, 0, 0, 0, 0, 0, 0, 1, 0, 0, 0, 0, 1, 1, 0, 0, 0, 1, 0,\n",
              "       0, 1, 1, 1, 1, 0, 0, 0, 1, 0, 1, 0, 1, 1, 1, 0, 1, 1, 0, 0, 0, 0,\n",
              "       1, 1, 1, 0, 1, 1, 0, 1, 1, 1, 1, 0, 0, 1, 0, 0, 0, 1, 0, 0, 0, 1,\n",
              "       0, 0, 1, 1, 0, 0, 1, 0, 0, 1, 0])"
            ]
          },
          "metadata": {},
          "execution_count": 13
        }
      ]
    },
    {
      "cell_type": "code",
      "source": [
        "from keras.models import Sequential\n",
        "from keras.layers import Dense, Flatten, Reshape\n",
        "\n",
        "input_size = 2352  # images are 28x28\n",
        "hidden_size = 24  # Tunable parameter for the hidden layer\n",
        "num_classes = 1\n",
        "\n",
        "NN_model = Sequential([\n",
        "    Dense(8, activation='relu', input_shape=(input_size,)),\n",
        "    Dense(hidden_size, activation='relu'),\n",
        "    Dense(hidden_size, activation='relu'),\n",
        "    Dense(num_classes, activation='sigmoid')\n",
        "])\n",
        "\n",
        "NN_model.compile(optimizer='adam',\n",
        "              loss='binary_crossentropy',\n",
        "              metrics=['accuracy'])\n",
        "\n",
        "NN_model.fit(Input_train, Output_train, batch_size=61, epochs=30)"
      ],
      "metadata": {
        "colab": {
          "base_uri": "https://localhost:8080/"
        },
        "id": "pE1aHhJF6Ab5",
        "outputId": "ddd41adc-7185-4532-c98f-5e02b8a1cce1"
      },
      "execution_count": null,
      "outputs": [
        {
          "output_type": "stream",
          "name": "stdout",
          "text": [
            "Epoch 1/30\n",
            "2/2 [==============================] - 1s 13ms/step - loss: 26.3538 - accuracy: 0.3802\n",
            "Epoch 2/30\n",
            "2/2 [==============================] - 0s 9ms/step - loss: 4.3747 - accuracy: 0.4793\n",
            "Epoch 3/30\n",
            "2/2 [==============================] - 0s 8ms/step - loss: 0.6915 - accuracy: 0.6198\n",
            "Epoch 4/30\n",
            "2/2 [==============================] - 0s 9ms/step - loss: 0.6908 - accuracy: 0.6198\n",
            "Epoch 5/30\n",
            "2/2 [==============================] - 0s 10ms/step - loss: 0.6900 - accuracy: 0.6198\n",
            "Epoch 6/30\n",
            "2/2 [==============================] - 0s 8ms/step - loss: 0.6892 - accuracy: 0.6198\n",
            "Epoch 7/30\n",
            "2/2 [==============================] - 0s 9ms/step - loss: 0.6886 - accuracy: 0.6198\n",
            "Epoch 8/30\n",
            "2/2 [==============================] - 0s 9ms/step - loss: 0.6879 - accuracy: 0.6198\n",
            "Epoch 9/30\n",
            "2/2 [==============================] - 0s 8ms/step - loss: 0.6873 - accuracy: 0.6198\n",
            "Epoch 10/30\n",
            "2/2 [==============================] - 0s 10ms/step - loss: 0.6866 - accuracy: 0.6198\n",
            "Epoch 11/30\n",
            "2/2 [==============================] - 0s 9ms/step - loss: 0.6858 - accuracy: 0.6198\n",
            "Epoch 12/30\n",
            "2/2 [==============================] - 0s 11ms/step - loss: 0.6852 - accuracy: 0.6198\n",
            "Epoch 13/30\n",
            "2/2 [==============================] - 0s 7ms/step - loss: 0.6846 - accuracy: 0.6198\n",
            "Epoch 14/30\n",
            "2/2 [==============================] - 0s 9ms/step - loss: 0.6840 - accuracy: 0.6198\n",
            "Epoch 15/30\n",
            "2/2 [==============================] - 0s 7ms/step - loss: 0.6834 - accuracy: 0.6198\n",
            "Epoch 16/30\n",
            "2/2 [==============================] - 0s 9ms/step - loss: 0.6827 - accuracy: 0.6198\n",
            "Epoch 17/30\n",
            "2/2 [==============================] - 0s 8ms/step - loss: 0.6822 - accuracy: 0.6198\n",
            "Epoch 18/30\n",
            "2/2 [==============================] - 0s 11ms/step - loss: 0.6814 - accuracy: 0.6198\n",
            "Epoch 19/30\n",
            "2/2 [==============================] - 0s 13ms/step - loss: 0.6808 - accuracy: 0.6198\n",
            "Epoch 20/30\n",
            "2/2 [==============================] - 0s 10ms/step - loss: 0.6803 - accuracy: 0.6198\n",
            "Epoch 21/30\n",
            "2/2 [==============================] - 0s 9ms/step - loss: 0.6797 - accuracy: 0.6198\n",
            "Epoch 22/30\n",
            "2/2 [==============================] - 0s 15ms/step - loss: 0.6791 - accuracy: 0.6198\n",
            "Epoch 23/30\n",
            "2/2 [==============================] - 0s 14ms/step - loss: 0.6786 - accuracy: 0.6198\n",
            "Epoch 24/30\n",
            "2/2 [==============================] - 0s 10ms/step - loss: 0.6782 - accuracy: 0.6198\n",
            "Epoch 25/30\n",
            "2/2 [==============================] - 0s 11ms/step - loss: 0.6776 - accuracy: 0.6198\n",
            "Epoch 26/30\n",
            "2/2 [==============================] - 0s 10ms/step - loss: 0.6770 - accuracy: 0.6198\n",
            "Epoch 27/30\n",
            "2/2 [==============================] - 0s 10ms/step - loss: 0.6765 - accuracy: 0.6198\n",
            "Epoch 28/30\n",
            "2/2 [==============================] - 0s 10ms/step - loss: 0.6761 - accuracy: 0.6198\n",
            "Epoch 29/30\n",
            "2/2 [==============================] - 0s 13ms/step - loss: 0.6755 - accuracy: 0.6198\n",
            "Epoch 30/30\n",
            "2/2 [==============================] - 0s 10ms/step - loss: 0.6750 - accuracy: 0.6198\n"
          ]
        },
        {
          "output_type": "execute_result",
          "data": {
            "text/plain": [
              "<keras.src.callbacks.History at 0x797824817df0>"
            ]
          },
          "metadata": {},
          "execution_count": 14
        }
      ]
    },
    {
      "cell_type": "markdown",
      "source": [
        "#Test set"
      ],
      "metadata": {
        "id": "_v5HOsaHDVKp"
      }
    },
    {
      "cell_type": "code",
      "source": [
        "Output_test = np.array([1 if label == 'Positive' else 0 for label in Output_test])\n",
        "Output_test"
      ],
      "metadata": {
        "colab": {
          "base_uri": "https://localhost:8080/"
        },
        "id": "YsgOY-JeE6Im",
        "outputId": "5f4a7a32-3a0a-4762-fd0f-53d14550726e"
      },
      "execution_count": null,
      "outputs": [
        {
          "output_type": "execute_result",
          "data": {
            "text/plain": [
              "array([0, 1, 0, 0, 1, 0, 1, 0, 0, 0, 0, 1, 0, 0, 1, 0, 1, 0, 0, 0, 1, 0,\n",
              "       1, 0, 1, 0, 0, 0, 1, 1, 0])"
            ]
          },
          "metadata": {},
          "execution_count": 15
        }
      ]
    },
    {
      "cell_type": "code",
      "source": [
        "#Model evaluation - validation set\n",
        "\n",
        "test_loss, test_accuracy = NN_model.evaluate(Input_test, Output_test)\n",
        "print(f\"Validation loss: {test_loss:.2f}\")\n",
        "print(f\"Validation accuracy: {test_accuracy:.2f}\")\n",
        "\n",
        "predictimage = NN_model.predict(Input_test)\n",
        "print(predictimage)"
      ],
      "metadata": {
        "colab": {
          "base_uri": "https://localhost:8080/"
        },
        "id": "QR8CsNz8DZdU",
        "outputId": "7f4f4917-89ed-487d-8744-7bd384819dd7"
      },
      "execution_count": null,
      "outputs": [
        {
          "output_type": "stream",
          "name": "stdout",
          "text": [
            "1/1 [==============================] - 0s 280ms/step - loss: 0.6698 - accuracy: 0.6452\n",
            "Validation loss: 0.67\n",
            "Validation accuracy: 0.65\n",
            "1/1 [==============================] - 0s 172ms/step\n",
            "[[0.4519511]\n",
            " [0.4519511]\n",
            " [0.4519511]\n",
            " [0.4519511]\n",
            " [0.4519511]\n",
            " [0.4519511]\n",
            " [0.4519511]\n",
            " [0.4519511]\n",
            " [0.4519511]\n",
            " [0.4519511]\n",
            " [0.4519511]\n",
            " [0.4519511]\n",
            " [0.4519511]\n",
            " [0.4519511]\n",
            " [0.4519511]\n",
            " [0.4519511]\n",
            " [0.4519511]\n",
            " [0.4519511]\n",
            " [0.4519511]\n",
            " [0.4519511]\n",
            " [0.4519511]\n",
            " [0.4519511]\n",
            " [0.4519511]\n",
            " [0.4519511]\n",
            " [0.4519511]\n",
            " [0.4519511]\n",
            " [0.4519511]\n",
            " [0.4519511]\n",
            " [0.4519511]\n",
            " [0.4519511]\n",
            " [0.4519511]]\n"
          ]
        }
      ]
    },
    {
      "cell_type": "markdown",
      "source": [
        "#Example images with Output from Testing Data"
      ],
      "metadata": {
        "id": "vudm8qrJHjGo"
      }
    },
    {
      "cell_type": "code",
      "source": [
        "import matploblib.pyplot\n",
        "\n",
        "# Select the first three images and their predicted labels\n",
        "exampleimage = Input_test[:3]\n",
        "predicted_labels = np.argmax(predictions, axis=1)[:3]\n",
        "\n",
        "# Display each image with its predicted label\n",
        "for i in range(3):\n",
        "    plt.figure(i)\n",
        "    plt.imshow(exampleimage[i], cmap='gray')  # remove ', cmap='gray'' if your images are not grayscale\n",
        "    plt.title(f'Predicted label: {predicted_labels[i]}')\n",
        "    plt.show()\n",
        "\n",
        "# krish can you see this\n"
      ],
      "metadata": {
        "id": "0pzBBGbHHikr",
        "colab": {
          "base_uri": "https://localhost:8080/",
          "height": 384
        },
        "outputId": "702b1d11-e3e2-4e55-8d9e-ff8baefb44df"
      },
      "execution_count": null,
      "outputs": [
        {
          "output_type": "error",
          "ename": "ModuleNotFoundError",
          "evalue": "No module named 'matploblib'",
          "traceback": [
            "\u001b[0;31m---------------------------------------------------------------------------\u001b[0m",
            "\u001b[0;31mModuleNotFoundError\u001b[0m                       Traceback (most recent call last)",
            "\u001b[0;32m<ipython-input-17-d4751390cc68>\u001b[0m in \u001b[0;36m<cell line: 1>\u001b[0;34m()\u001b[0m\n\u001b[0;32m----> 1\u001b[0;31m \u001b[0;32mimport\u001b[0m \u001b[0mmatploblib\u001b[0m\u001b[0;34m.\u001b[0m\u001b[0mpyplot\u001b[0m\u001b[0;34m\u001b[0m\u001b[0;34m\u001b[0m\u001b[0m\n\u001b[0m\u001b[1;32m      2\u001b[0m \u001b[0;34m\u001b[0m\u001b[0m\n\u001b[1;32m      3\u001b[0m \u001b[0;31m# Select the first three images and their predicted labels\u001b[0m\u001b[0;34m\u001b[0m\u001b[0;34m\u001b[0m\u001b[0m\n\u001b[1;32m      4\u001b[0m \u001b[0mexampleimage\u001b[0m \u001b[0;34m=\u001b[0m \u001b[0mInput_test\u001b[0m\u001b[0;34m[\u001b[0m\u001b[0;34m:\u001b[0m\u001b[0;36m3\u001b[0m\u001b[0;34m]\u001b[0m\u001b[0;34m\u001b[0m\u001b[0;34m\u001b[0m\u001b[0m\n\u001b[1;32m      5\u001b[0m \u001b[0mpredicted_labels\u001b[0m \u001b[0;34m=\u001b[0m \u001b[0mnp\u001b[0m\u001b[0;34m.\u001b[0m\u001b[0margmax\u001b[0m\u001b[0;34m(\u001b[0m\u001b[0mpredictions\u001b[0m\u001b[0;34m,\u001b[0m \u001b[0maxis\u001b[0m\u001b[0;34m=\u001b[0m\u001b[0;36m1\u001b[0m\u001b[0;34m)\u001b[0m\u001b[0;34m[\u001b[0m\u001b[0;34m:\u001b[0m\u001b[0;36m3\u001b[0m\u001b[0;34m]\u001b[0m\u001b[0;34m\u001b[0m\u001b[0;34m\u001b[0m\u001b[0m\n",
            "\u001b[0;31mModuleNotFoundError\u001b[0m: No module named 'matploblib'",
            "",
            "\u001b[0;31m---------------------------------------------------------------------------\u001b[0;32m\nNOTE: If your import is failing due to a missing package, you can\nmanually install dependencies using either !pip or !apt.\n\nTo view examples of installing some common dependencies, click the\n\"Open Examples\" button below.\n\u001b[0;31m---------------------------------------------------------------------------\u001b[0m\n"
          ],
          "errorDetails": {
            "actions": [
              {
                "action": "open_url",
                "actionText": "Open Examples",
                "url": "/notebooks/snippets/importing_libraries.ipynb"
              }
            ]
          }
        }
      ]
    },
    {
      "cell_type": "markdown",
      "source": [
        "#Examples of Bad Data that could be messing up the model"
      ],
      "metadata": {
        "id": "Z6QX_kOgDPe6"
      }
    },
    {
      "cell_type": "code",
      "source": [],
      "metadata": {
        "id": "Xr6h5Tq5DPOk"
      },
      "execution_count": null,
      "outputs": []
    },
    {
      "cell_type": "markdown",
      "metadata": {
        "id": "MHwGG-8_bJcF"
      },
      "source": [
        "#Ignore below for now"
      ]
    },
    {
      "cell_type": "code",
      "execution_count": null,
      "metadata": {
        "id": "f5_O1HIE8iw4"
      },
      "outputs": [],
      "source": [
        "train_generator = train_datagen.flow_from_directory(\n",
        "    'facial-emotion-recognition',  # replace with the path to your data directory\n",
        "    target_size=(150, 150),  # replace with the desired image size\n",
        "    batch_size=32,\n",
        "    class_mode='binary',  # or 'binary' if you have only two classes\n",
        "    subset='training',  # specify this is the training set\n",
        ")\n",
        "\n",
        "validation_generator = train_datagen.flow_from_directory(\n",
        "    'facial-emotion-recognition',  # replace with the path to your data directory\n",
        "    target_size=(150, 150),  # replace with the desired image size\n",
        "    batch_size=32,\n",
        "    class_mode='binary',  # or 'binary' if you have only two classes\n",
        "    subset='validation',  # specify this is the validation set\n",
        ")"
      ]
    },
    {
      "cell_type": "code",
      "execution_count": null,
      "metadata": {
        "id": "GjZFmFZh9ScM"
      },
      "outputs": [],
      "source": [
        "!ls\n",
        "train_datagen.samples\n",
        "validation_generator.samples"
      ]
    }
  ],
  "metadata": {
    "colab": {
      "provenance": [],
      "include_colab_link": true
    },
    "kernelspec": {
      "display_name": "Python 3",
      "name": "python3"
    },
    "language_info": {
      "name": "python"
    }
  },
  "nbformat": 4,
  "nbformat_minor": 0
}